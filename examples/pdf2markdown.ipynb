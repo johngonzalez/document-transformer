{
 "cells": [
  {
   "cell_type": "markdown",
   "metadata": {},
   "source": [
    "## Convirtiendo un pdf en markdown\n",
    "\n",
    "If you want begin with a more simple example [pdf2images.ipynb](\"./pdf2images.ipynb\")"
   ]
  },
  {
   "cell_type": "markdown",
   "metadata": {},
   "source": [
    "## pdf to markdowns"
   ]
  },
  {
   "cell_type": "markdown",
   "metadata": {},
   "source": [
    "* Define your Documents and Transformers"
   ]
  },
  {
   "cell_type": "code",
   "execution_count": 2,
   "metadata": {},
   "outputs": [],
   "source": [
    "# Install pdf2image for this example\n",
    "# !pip install pdf2image"
   ]
  },
  {
   "cell_type": "code",
   "execution_count": 3,
   "metadata": {},
   "outputs": [],
   "source": [
    "from document_transformer import Document, DocumentTransformer\n",
    "from typing import List\n",
    "from pathlib import Path\n",
    "import pdf2image\n",
    "\n",
    "class PDFDocument(Document):\n",
    "    \"\"\"Custom class to PDF Documents\"\"\"\n",
    "\n",
    "class ImageDocument(Document):\n",
    "    \"\"\"Custom class to Image Documents\"\"\"\n",
    "    def saver(self, path):\n",
    "        self.data.save(path)\n",
    "        return self\n",
    "\n",
    "class MarkdownDocument(Document):\n",
    "    def saver(self, path):\n",
    "        with open(path, 'w') as file:\n",
    "            file.write(self.data)\n",
    "        return self\n",
    "\n",
    "class PDF2Images(DocumentTransformer):\n",
    "    input: PDFDocument = None\n",
    "    output: List[ImageDocument] = []\n",
    "\n",
    "    def transformer(self) -> List[ImageDocument]:\n",
    "        \"\"\"Divide en páginas el documento pdf\"\"\"\n",
    "        images = pdf2image.convert_from_path(self.input.path)\n",
    "        return [\n",
    "            ImageDocument(\n",
    "                metadata={'pdf_path': Path(self.input.path).name, 'page': i+1, 'size': image.size},\n",
    "                data=image,\n",
    "            )\n",
    "            for i, image in enumerate(images)\n",
    "        ]"
   ]
  },
  {
   "cell_type": "markdown",
   "metadata": {},
   "source": [
    "* Define the `Image2Markdown` transformer, which takes an `ImageDocument` and transforms it into a `MarkdownDocument`.\n",
    "* To keep things simple, we'll define an OCR method with dummy data. However, it's important that you implement your own OCR logic here."
   ]
  },
  {
   "cell_type": "code",
   "execution_count": 4,
   "metadata": {},
   "outputs": [],
   "source": [
    "class Image2Markdown(DocumentTransformer):\n",
    "    input: ImageDocument = None\n",
    "    output: MarkdownDocument = None\n",
    "\n",
    "    def ocr(self):\n",
    "        \"\"\"ocr, puede ser una función externa\"\"\"\n",
    "        return f\"OCR {self.input.metadata['page']}\"\n",
    "\n",
    "    def transformer(self):\n",
    "        ocr_text = self.ocr()\n",
    "        return MarkdownDocument(\n",
    "            metadata={'image_path': self.input.path, 'page': self.input.metadata['page']},\n",
    "            data=ocr_text\n",
    "        )"
   ]
  },
  {
   "cell_type": "markdown",
   "metadata": {},
   "source": [
    "run it!"
   ]
  },
  {
   "cell_type": "code",
   "execution_count": 5,
   "metadata": {},
   "outputs": [
    {
     "name": "stdout",
     "output_type": "stream",
     "text": [
      "id='68859ec0-9b90-4442-9b27-2dc68ef190ac' path='images/pag_1.md' data='OCR 1' metadata={'image_path': 'images/pag_1.jpg', 'page': 1} parents={'17126b9f-f886-4d82-9775-bb6506b985c3'} childrens=set()\n",
      "id='ddb765f5-d54f-4792-b876-671032da6f27' path='images/pag_2.md' data='OCR 2' metadata={'image_path': 'images/pag_2.jpg', 'page': 2} parents={'e9da44ad-8de0-41d4-b3a5-fc858ea12637'} childrens=set()\n",
      "id='c225811f-281e-4203-a5e3-fa6621102e6e' path='images/pag_3.md' data='OCR 3' metadata={'image_path': 'images/pag_3.jpg', 'page': 3} parents={'544731e1-8eaa-47fb-a2d5-91b618651c70'} childrens=set()\n"
     ]
    }
   ],
   "source": [
    "pdf_doc = PDFDocument(path=\"document.pdf\")\n",
    "images = PDF2Images(input=pdf_doc).run()\n",
    "\n",
    "for image in images:\n",
    "    image.save(path=f'images/pag_{image.metadata[\"page\"]}.jpg')\n",
    "    markdown = Image2Markdown(input=image).run()\n",
    "    markdown.save(path=f'images/pag_{image.metadata[\"page\"]}.md')\n",
    "    print(markdown)"
   ]
  },
  {
   "cell_type": "markdown",
   "metadata": {},
   "source": [
    "Now the diversion! Use your document transformer"
   ]
  },
  {
   "cell_type": "code",
   "execution_count": 6,
   "metadata": {},
   "outputs": [
    {
     "name": "stdout",
     "output_type": "stream",
     "text": [
      "Imagen: 1715c73a-788e-469d-bd5d-e866a680ad88\n",
      "Parents: {'ad14d44a-e50f-41f6-8d60-ae665a89c98c'}\n",
      "Metadata: {'pdf_path': 'document.pdf', 'page': 1, 'size': (1700, 2200)}\n",
      "Imagen: 2fbca010-62ab-4ca5-8642-affb352944f9\n",
      "Parents: {'ad14d44a-e50f-41f6-8d60-ae665a89c98c'}\n",
      "Metadata: {'pdf_path': 'document.pdf', 'page': 2, 'size': (1700, 2200)}\n",
      "Imagen: 44233210-4b04-4124-9449-03399052d3b5\n",
      "Parents: {'ad14d44a-e50f-41f6-8d60-ae665a89c98c'}\n",
      "Metadata: {'pdf_path': 'document.pdf', 'page': 3, 'size': (1700, 2200)}\n"
     ]
    }
   ],
   "source": [
    "pdf_doc = PDFDocument(path=\"document.pdf\")\n",
    "images = PDF2Images(input=pdf_doc).run()\n",
    "\n",
    "for image in images:\n",
    "    image.save(path=f'images/pag_{image.metadata[\"page\"]}.jpg')\n",
    "    print(f\"Imagen: {image.id}\")\n",
    "    print(f\"Parents: {image.parents}\")\n",
    "    print(f\"Metadata: {image.metadata}\")"
   ]
  },
  {
   "cell_type": "markdown",
   "metadata": {},
   "source": [
    "* If you prefier, you can define a `Pipeline`.\n",
    "* In a list insert each transformer  and plot it!"
   ]
  },
  {
   "cell_type": "code",
   "execution_count": 7,
   "metadata": {},
   "outputs": [
    {
     "data": {
      "image/svg+xml": [
       "<?xml version=\"1.0\" encoding=\"UTF-8\" standalone=\"no\"?>\n",
       "<!DOCTYPE svg PUBLIC \"-//W3C//DTD SVG 1.1//EN\"\n",
       " \"http://www.w3.org/Graphics/SVG/1.1/DTD/svg11.dtd\">\n",
       "<!-- Generated by graphviz version 2.44.0 (0)\n",
       " -->\n",
       "<!-- Pages: 1 -->\n",
       "<svg width=\"647pt\" height=\"241pt\"\n",
       " viewBox=\"0.00 0.00 646.82 241.22\" xmlns=\"http://www.w3.org/2000/svg\" xmlns:xlink=\"http://www.w3.org/1999/xlink\">\n",
       "<g id=\"graph0\" class=\"graph\" transform=\"scale(1 1) rotate(0) translate(4 237.22)\">\n",
       "<polygon fill=\"white\" stroke=\"transparent\" points=\"-4,4 -4,-237.22 642.82,-237.22 642.82,4 -4,4\"/>\n",
       "<!-- 4f8e6da5&#45;83aa&#45;4982&#45;bd7c&#45;5aeb2dca4ace -->\n",
       "<g id=\"node1\" class=\"node\">\n",
       "<title>4f8e6da5&#45;83aa&#45;4982&#45;bd7c&#45;5aeb2dca4ace</title>\n",
       "<ellipse fill=\"none\" stroke=\"black\" cx=\"319.41\" cy=\"-206.35\" rx=\"74.91\" ry=\"26.74\"/>\n",
       "<text text-anchor=\"middle\" x=\"319.41\" y=\"-210.15\" font-family=\"Times-Roman\" font-size=\"14.00\">PDFDocument</text>\n",
       "<text text-anchor=\"middle\" x=\"319.41\" y=\"-195.15\" font-family=\"Times-Roman\" font-size=\"14.00\">eb2dca4ace</text>\n",
       "</g>\n",
       "<!-- 5ca7a964&#45;e2b8&#45;42f7&#45;83c6&#45;36be167a452f -->\n",
       "<g id=\"node2\" class=\"node\">\n",
       "<title>5ca7a964&#45;e2b8&#45;42f7&#45;83c6&#45;36be167a452f</title>\n",
       "<ellipse fill=\"none\" stroke=\"black\" cx=\"118.41\" cy=\"-116.61\" rx=\"82.96\" ry=\"26.74\"/>\n",
       "<text text-anchor=\"middle\" x=\"118.41\" y=\"-120.41\" font-family=\"Times-Roman\" font-size=\"14.00\">ImageDocument</text>\n",
       "<text text-anchor=\"middle\" x=\"118.41\" y=\"-105.41\" font-family=\"Times-Roman\" font-size=\"14.00\">be167a452f</text>\n",
       "</g>\n",
       "<!-- 4f8e6da5&#45;83aa&#45;4982&#45;bd7c&#45;5aeb2dca4ace&#45;&gt;5ca7a964&#45;e2b8&#45;42f7&#45;83c6&#45;36be167a452f -->\n",
       "<g id=\"edge1\" class=\"edge\">\n",
       "<title>4f8e6da5&#45;83aa&#45;4982&#45;bd7c&#45;5aeb2dca4ace&#45;&gt;5ca7a964&#45;e2b8&#45;42f7&#45;83c6&#45;36be167a452f</title>\n",
       "<path fill=\"none\" stroke=\"black\" d=\"M273.04,-185.11C244.15,-172.5 206.75,-156.17 175.96,-142.73\"/>\n",
       "<polygon fill=\"black\" stroke=\"black\" points=\"177.21,-139.46 166.64,-138.66 174.4,-145.87 177.21,-139.46\"/>\n",
       "</g>\n",
       "<!-- 4b218b67&#45;2260&#45;468b&#45;b282&#45;19eeb5312268 -->\n",
       "<g id=\"node3\" class=\"node\">\n",
       "<title>4b218b67&#45;2260&#45;468b&#45;b282&#45;19eeb5312268</title>\n",
       "<ellipse fill=\"none\" stroke=\"black\" cx=\"319.41\" cy=\"-116.61\" rx=\"82.96\" ry=\"26.74\"/>\n",
       "<text text-anchor=\"middle\" x=\"319.41\" y=\"-120.41\" font-family=\"Times-Roman\" font-size=\"14.00\">ImageDocument</text>\n",
       "<text text-anchor=\"middle\" x=\"319.41\" y=\"-105.41\" font-family=\"Times-Roman\" font-size=\"14.00\">eeb5312268</text>\n",
       "</g>\n",
       "<!-- 4f8e6da5&#45;83aa&#45;4982&#45;bd7c&#45;5aeb2dca4ace&#45;&gt;4b218b67&#45;2260&#45;468b&#45;b282&#45;19eeb5312268 -->\n",
       "<g id=\"edge2\" class=\"edge\">\n",
       "<title>4f8e6da5&#45;83aa&#45;4982&#45;bd7c&#45;5aeb2dca4ace&#45;&gt;4b218b67&#45;2260&#45;468b&#45;b282&#45;19eeb5312268</title>\n",
       "<path fill=\"none\" stroke=\"black\" d=\"M319.41,-179.03C319.41,-171.06 319.41,-162.17 319.41,-153.68\"/>\n",
       "<polygon fill=\"black\" stroke=\"black\" points=\"322.91,-153.61 319.41,-143.61 315.91,-153.61 322.91,-153.61\"/>\n",
       "</g>\n",
       "<!-- 84788c6e&#45;b4f0&#45;4d5b&#45;8fa3&#45;01f182e550e1 -->\n",
       "<g id=\"node4\" class=\"node\">\n",
       "<title>84788c6e&#45;b4f0&#45;4d5b&#45;8fa3&#45;01f182e550e1</title>\n",
       "<ellipse fill=\"none\" stroke=\"black\" cx=\"520.41\" cy=\"-116.61\" rx=\"82.96\" ry=\"26.74\"/>\n",
       "<text text-anchor=\"middle\" x=\"520.41\" y=\"-120.41\" font-family=\"Times-Roman\" font-size=\"14.00\">ImageDocument</text>\n",
       "<text text-anchor=\"middle\" x=\"520.41\" y=\"-105.41\" font-family=\"Times-Roman\" font-size=\"14.00\">f182e550e1</text>\n",
       "</g>\n",
       "<!-- 4f8e6da5&#45;83aa&#45;4982&#45;bd7c&#45;5aeb2dca4ace&#45;&gt;84788c6e&#45;b4f0&#45;4d5b&#45;8fa3&#45;01f182e550e1 -->\n",
       "<g id=\"edge3\" class=\"edge\">\n",
       "<title>4f8e6da5&#45;83aa&#45;4982&#45;bd7c&#45;5aeb2dca4ace&#45;&gt;84788c6e&#45;b4f0&#45;4d5b&#45;8fa3&#45;01f182e550e1</title>\n",
       "<path fill=\"none\" stroke=\"black\" d=\"M365.78,-185.11C394.67,-172.5 432.07,-156.17 462.85,-142.73\"/>\n",
       "<polygon fill=\"black\" stroke=\"black\" points=\"464.41,-145.87 472.18,-138.66 461.61,-139.46 464.41,-145.87\"/>\n",
       "</g>\n",
       "<!-- eac50c0c&#45;5f18&#45;486a&#45;b408&#45;85b39d3e2b57 -->\n",
       "<g id=\"node7\" class=\"node\">\n",
       "<title>eac50c0c&#45;5f18&#45;486a&#45;b408&#45;85b39d3e2b57</title>\n",
       "<ellipse fill=\"none\" stroke=\"black\" cx=\"100.41\" cy=\"-26.87\" rx=\"100.32\" ry=\"26.74\"/>\n",
       "<text text-anchor=\"middle\" x=\"100.41\" y=\"-30.67\" font-family=\"Times-Roman\" font-size=\"14.00\">MarkdownDocument</text>\n",
       "<text text-anchor=\"middle\" x=\"100.41\" y=\"-15.67\" font-family=\"Times-Roman\" font-size=\"14.00\">b39d3e2b57</text>\n",
       "</g>\n",
       "<!-- 5ca7a964&#45;e2b8&#45;42f7&#45;83c6&#45;36be167a452f&#45;&gt;eac50c0c&#45;5f18&#45;486a&#45;b408&#45;85b39d3e2b57 -->\n",
       "<g id=\"edge6\" class=\"edge\">\n",
       "<title>5ca7a964&#45;e2b8&#45;42f7&#45;83c6&#45;36be167a452f&#45;&gt;eac50c0c&#45;5f18&#45;486a&#45;b408&#45;85b39d3e2b57</title>\n",
       "<path fill=\"none\" stroke=\"black\" d=\"M113.11,-89.76C111.44,-81.62 109.56,-72.48 107.78,-63.77\"/>\n",
       "<polygon fill=\"black\" stroke=\"black\" points=\"111.18,-62.93 105.74,-53.84 104.32,-64.34 111.18,-62.93\"/>\n",
       "</g>\n",
       "<!-- bb1f3250&#45;af0d&#45;4e2f&#45;a1bb&#45;5c66b06131d6 -->\n",
       "<g id=\"node5\" class=\"node\">\n",
       "<title>bb1f3250&#45;af0d&#45;4e2f&#45;a1bb&#45;5c66b06131d6</title>\n",
       "<ellipse fill=\"none\" stroke=\"black\" cx=\"319.41\" cy=\"-26.87\" rx=\"100.32\" ry=\"26.74\"/>\n",
       "<text text-anchor=\"middle\" x=\"319.41\" y=\"-30.67\" font-family=\"Times-Roman\" font-size=\"14.00\">MarkdownDocument</text>\n",
       "<text text-anchor=\"middle\" x=\"319.41\" y=\"-15.67\" font-family=\"Times-Roman\" font-size=\"14.00\">66b06131d6</text>\n",
       "</g>\n",
       "<!-- 4b218b67&#45;2260&#45;468b&#45;b282&#45;19eeb5312268&#45;&gt;bb1f3250&#45;af0d&#45;4e2f&#45;a1bb&#45;5c66b06131d6 -->\n",
       "<g id=\"edge4\" class=\"edge\">\n",
       "<title>4b218b67&#45;2260&#45;468b&#45;b282&#45;19eeb5312268&#45;&gt;bb1f3250&#45;af0d&#45;4e2f&#45;a1bb&#45;5c66b06131d6</title>\n",
       "<path fill=\"none\" stroke=\"black\" d=\"M319.41,-89.29C319.41,-81.32 319.41,-72.43 319.41,-63.94\"/>\n",
       "<polygon fill=\"black\" stroke=\"black\" points=\"322.91,-63.87 319.41,-53.87 315.91,-63.87 322.91,-63.87\"/>\n",
       "</g>\n",
       "<!-- a453feb6&#45;e7cc&#45;42a1&#45;86aa&#45;eed029262dfd -->\n",
       "<g id=\"node6\" class=\"node\">\n",
       "<title>a453feb6&#45;e7cc&#45;42a1&#45;86aa&#45;eed029262dfd</title>\n",
       "<ellipse fill=\"none\" stroke=\"black\" cx=\"538.41\" cy=\"-26.87\" rx=\"100.32\" ry=\"26.74\"/>\n",
       "<text text-anchor=\"middle\" x=\"538.41\" y=\"-30.67\" font-family=\"Times-Roman\" font-size=\"14.00\">MarkdownDocument</text>\n",
       "<text text-anchor=\"middle\" x=\"538.41\" y=\"-15.67\" font-family=\"Times-Roman\" font-size=\"14.00\">d029262dfd</text>\n",
       "</g>\n",
       "<!-- 84788c6e&#45;b4f0&#45;4d5b&#45;8fa3&#45;01f182e550e1&#45;&gt;a453feb6&#45;e7cc&#45;42a1&#45;86aa&#45;eed029262dfd -->\n",
       "<g id=\"edge5\" class=\"edge\">\n",
       "<title>84788c6e&#45;b4f0&#45;4d5b&#45;8fa3&#45;01f182e550e1&#45;&gt;a453feb6&#45;e7cc&#45;42a1&#45;86aa&#45;eed029262dfd</title>\n",
       "<path fill=\"none\" stroke=\"black\" d=\"M525.71,-89.76C527.38,-81.62 529.26,-72.48 531.04,-63.77\"/>\n",
       "<polygon fill=\"black\" stroke=\"black\" points=\"534.5,-64.34 533.08,-53.84 527.64,-62.93 534.5,-64.34\"/>\n",
       "</g>\n",
       "</g>\n",
       "</svg>\n"
      ],
      "text/plain": [
       "<graphviz.sources.Source at 0x7f6ba00d9370>"
      ]
     },
     "execution_count": 7,
     "metadata": {},
     "output_type": "execute_result"
    }
   ],
   "source": [
    "from document_transformer import Pipeline\n",
    "from document_transformer.utils import plot_graph\n",
    "\n",
    "pdf_doc = PDFDocument(path=\"document.pdf\")\n",
    "pipeline = Pipeline(transformers=[PDF2Images(), Image2Markdown()])\n",
    "markdowns = pipeline.run(input=pdf_doc)\n",
    "plot_graph(pipeline.get_traces())"
   ]
  },
  {
   "cell_type": "markdown",
   "metadata": {},
   "source": [
    "All is ok?\n",
    "Save only markdowns!"
   ]
  },
  {
   "cell_type": "code",
   "execution_count": 8,
   "metadata": {},
   "outputs": [],
   "source": [
    "for markdown in markdowns:\n",
    "    markdown.save(path=f'images/pag_{markdown.metadata[\"page\"]}.md')"
   ]
  },
  {
   "cell_type": "markdown",
   "metadata": {},
   "source": [
    "But if you prefer, you can instruct from Pipeline directly!"
   ]
  },
  {
   "cell_type": "code",
   "execution_count": 9,
   "metadata": {},
   "outputs": [
    {
     "data": {
      "text/plain": [
       "[MarkdownDocument(id='32e9811c-4599-4827-a25b-ba16bdb66c1b', path='images/pag_1.md', data='OCR 1', metadata={'image_path': None, 'page': 1}, parents={'08bba755-a5a1-4a79-a4f6-948877683c6d'}, childrens=set()),\n",
       " MarkdownDocument(id='bd0f35cf-3e58-4851-ae11-6f796cc581e8', path='images/pag_2.md', data='OCR 2', metadata={'image_path': None, 'page': 2}, parents={'36512aab-f79f-4e53-aaa9-6b63b6fb5eec'}, childrens=set()),\n",
       " MarkdownDocument(id='d026f0f4-251c-4256-b1a0-6338107d4825', path='images/pag_3.md', data='OCR 3', metadata={'image_path': None, 'page': 3}, parents={'38820ddf-a93e-4fd3-96e8-88db953e5833'}, childrens=set())]"
      ]
     },
     "execution_count": 9,
     "metadata": {},
     "output_type": "execute_result"
    }
   ],
   "source": [
    "pdf_doc = PDFDocument(path=\"document.pdf\")\n",
    "pipeline = Pipeline(transformers=[\n",
    "    PDF2Images(),\n",
    "    Image2Markdown(to='images/pag_{metadata[page]}.md')\n",
    "])\n",
    "\n",
    "pipeline.run(input=pdf_doc)"
   ]
  },
  {
   "cell_type": "markdown",
   "metadata": {},
   "source": [
    "## Combine markdowns\n",
    "\n",
    "Now, we are going to merge the markdowns. For that we need to increase the skills of `MarkdownDocument`. Let me define the `appender` method."
   ]
  },
  {
   "cell_type": "code",
   "execution_count": 10,
   "metadata": {},
   "outputs": [],
   "source": [
    "class MarkdownDocument(Document):\n",
    "    data: str = ''\n",
    "    def saver(self, path):\n",
    "        with open(path, 'w') as file:\n",
    "            file.write(self.data)\n",
    "        return self\n",
    "\n",
    "    def appender(self, other):\n",
    "        \"\"\"Append other markdown document content to this one\"\"\"\n",
    "        self.data += other.data + '\\n'\n",
    "        return self\n"
   ]
  },
  {
   "cell_type": "markdown",
   "metadata": {},
   "source": [
    "That is all, now we can to append each markdown document to another"
   ]
  },
  {
   "cell_type": "code",
   "execution_count": 12,
   "metadata": {},
   "outputs": [
    {
     "data": {
      "text/plain": [
       "MarkdownDocument(id='7ff30070-c4f5-4f92-90ae-86722414d486', path='document.md', data='OCR 1\\nOCR 2\\nOCR 3\\n', metadata={}, parents={'e964cee7-32f6-4812-8c7d-4e9839b59cf4', 'ee3dcd9d-f7b0-4d1f-b675-0168110be275', 'ea955275-3588-425d-a5ab-7cbee31692a4'}, childrens=set())"
      ]
     },
     "execution_count": 12,
     "metadata": {},
     "output_type": "execute_result"
    }
   ],
   "source": [
    "# create images\n",
    "pdf_doc = PDFDocument(path=\"document.pdf\")\n",
    "images = PDF2Images(input=pdf_doc).run()\n",
    "\n",
    "# Initialize the markdown document\n",
    "markdown_doc = MarkdownDocument()\n",
    "for image in images:\n",
    "    path = f'images/pag_{image.metadata[\"page\"]}'\n",
    "    image.save(path=path + '.jpg')\n",
    "    markdown = Image2Markdown(input=image).run().save(path=path + '.md')\n",
    "    markdown_doc.append(markdown)\n",
    "\n",
    "markdown_doc.save(path=\"document.md\")"
   ]
  },
  {
   "cell_type": "markdown",
   "metadata": {},
   "source": [
    "The library supports initializing an empty list and combining markdown documents at the end\n"
   ]
  },
  {
   "cell_type": "code",
   "execution_count": 13,
   "metadata": {},
   "outputs": [
    {
     "data": {
      "text/plain": [
       "MarkdownDocument(id='b7d6f86f-4653-4a74-9c59-2c1e59a746cf', path='document.md', data='OCR 1\\nOCR 2\\nOCR 3\\n', metadata={}, parents={'206aa47c-45d6-4143-8408-b4b3624314cd', '0d4e156e-d9f8-4c77-a574-6016d470c83b', '5038ff5a-0bf9-4bc7-a116-ad90bc7ac967'}, childrens=set())"
      ]
     },
     "execution_count": 13,
     "metadata": {},
     "output_type": "execute_result"
    }
   ],
   "source": [
    "\n",
    "pdf_doc = PDFDocument(path=\"document.pdf\")\n",
    "images = PDF2Images(input=pdf_doc).run()\n",
    "\n",
    "# initialize an empty list of markdowns\n",
    "markdowns = []\n",
    "for image in images:\n",
    "    path = f'images/pag_{image.metadata[\"page\"]}'\n",
    "    image.save(path=path + '.jpg')\n",
    "    markdown = Image2Markdown(input=image).run().save(path=path + '.md')\n",
    "    markdowns.append(markdown)\n",
    "\n",
    "# Combine them into a single markdown document and save it\n",
    "markdown_doc = MarkdownDocument().extend(markdowns)\n",
    "markdown_doc.save(path=\"document.md\")"
   ]
  },
  {
   "cell_type": "markdown",
   "metadata": {},
   "source": [
    "Alternatively, you can always create a `DocumentTransformer` class to handle this task\n"
   ]
  },
  {
   "cell_type": "code",
   "execution_count": 14,
   "metadata": {},
   "outputs": [
    {
     "data": {
      "text/plain": [
       "MarkdownDocument(id='fe6297fc-02e8-468e-bf16-768804c2bba1', path='document.md', data='OCR 1\\nOCR 2\\nOCR 3\\n', metadata={}, parents={'ab40a7dd-e19d-4051-912e-ad043643d45d', 'a10cbf76-9a43-432a-8069-68b5a645eee5', 'b7d87452-4123-423a-85f4-eedc6295ef3c'}, childrens=set())"
      ]
     },
     "execution_count": 14,
     "metadata": {},
     "output_type": "execute_result"
    }
   ],
   "source": [
    "class CombineMarkdowns(DocumentTransformer):\n",
    "    input: List[MarkdownDocument] = []\n",
    "    output: MarkdownDocument = None\n",
    "\n",
    "    def transformer(self):\n",
    "        return MarkdownDocument().extend(self.input)\n",
    "\n",
    "pdf_doc = PDFDocument(path=\"document.pdf\")\n",
    "images = PDF2Images(input=pdf_doc).run()\n",
    "\n",
    "markdowns = []\n",
    "for image in images:\n",
    "    path = f'images/pag_{image.metadata[\"page\"]}'\n",
    "    image.save(path=path + '.jpg')\n",
    "    markdown = Image2Markdown(input=image).run().save(path=path + '.md')\n",
    "    markdowns.append(markdown)\n",
    "\n",
    "markdown_doc = CombineMarkdowns(input=markdowns).run()\n",
    "markdown_doc.save(path=\"document.md\")"
   ]
  },
  {
   "cell_type": "markdown",
   "metadata": {},
   "source": [
    "Which brings a reward! Now you can extend your Pipeline"
   ]
  },
  {
   "cell_type": "code",
   "execution_count": 15,
   "metadata": {},
   "outputs": [
    {
     "data": {
      "image/svg+xml": [
       "<?xml version=\"1.0\" encoding=\"UTF-8\" standalone=\"no\"?>\n",
       "<!DOCTYPE svg PUBLIC \"-//W3C//DTD SVG 1.1//EN\"\n",
       " \"http://www.w3.org/Graphics/SVG/1.1/DTD/svg11.dtd\">\n",
       "<!-- Generated by graphviz version 2.44.0 (0)\n",
       " -->\n",
       "<!-- Pages: 1 -->\n",
       "<svg width=\"647pt\" height=\"331pt\"\n",
       " viewBox=\"0.00 0.00 646.82 330.96\" xmlns=\"http://www.w3.org/2000/svg\" xmlns:xlink=\"http://www.w3.org/1999/xlink\">\n",
       "<g id=\"graph0\" class=\"graph\" transform=\"scale(1 1) rotate(0) translate(4 326.96)\">\n",
       "<polygon fill=\"white\" stroke=\"transparent\" points=\"-4,4 -4,-326.96 642.82,-326.96 642.82,4 -4,4\"/>\n",
       "<!-- d87432d6&#45;7c36&#45;4ba8&#45;8a03&#45;5790b49bcddf -->\n",
       "<g id=\"node1\" class=\"node\">\n",
       "<title>d87432d6&#45;7c36&#45;4ba8&#45;8a03&#45;5790b49bcddf</title>\n",
       "<ellipse fill=\"none\" stroke=\"black\" cx=\"319.41\" cy=\"-296.09\" rx=\"74.91\" ry=\"26.74\"/>\n",
       "<text text-anchor=\"middle\" x=\"319.41\" y=\"-299.89\" font-family=\"Times-Roman\" font-size=\"14.00\">PDFDocument</text>\n",
       "<text text-anchor=\"middle\" x=\"319.41\" y=\"-284.89\" font-family=\"Times-Roman\" font-size=\"14.00\">90b49bcddf</text>\n",
       "</g>\n",
       "<!-- a08c960a&#45;9a6b&#45;4be5&#45;aaed&#45;b46492cfa11a -->\n",
       "<g id=\"node2\" class=\"node\">\n",
       "<title>a08c960a&#45;9a6b&#45;4be5&#45;aaed&#45;b46492cfa11a</title>\n",
       "<ellipse fill=\"none\" stroke=\"black\" cx=\"118.41\" cy=\"-206.35\" rx=\"82.96\" ry=\"26.74\"/>\n",
       "<text text-anchor=\"middle\" x=\"118.41\" y=\"-210.15\" font-family=\"Times-Roman\" font-size=\"14.00\">ImageDocument</text>\n",
       "<text text-anchor=\"middle\" x=\"118.41\" y=\"-195.15\" font-family=\"Times-Roman\" font-size=\"14.00\">6492cfa11a</text>\n",
       "</g>\n",
       "<!-- d87432d6&#45;7c36&#45;4ba8&#45;8a03&#45;5790b49bcddf&#45;&gt;a08c960a&#45;9a6b&#45;4be5&#45;aaed&#45;b46492cfa11a -->\n",
       "<g id=\"edge1\" class=\"edge\">\n",
       "<title>d87432d6&#45;7c36&#45;4ba8&#45;8a03&#45;5790b49bcddf&#45;&gt;a08c960a&#45;9a6b&#45;4be5&#45;aaed&#45;b46492cfa11a</title>\n",
       "<path fill=\"none\" stroke=\"black\" d=\"M273.04,-274.85C244.15,-262.24 206.75,-245.91 175.96,-232.47\"/>\n",
       "<polygon fill=\"black\" stroke=\"black\" points=\"177.21,-229.2 166.64,-228.4 174.4,-235.61 177.21,-229.2\"/>\n",
       "</g>\n",
       "<!-- a65893bd&#45;eee8&#45;4bbc&#45;89cc&#45;0e22b6a8982f -->\n",
       "<g id=\"node3\" class=\"node\">\n",
       "<title>a65893bd&#45;eee8&#45;4bbc&#45;89cc&#45;0e22b6a8982f</title>\n",
       "<ellipse fill=\"none\" stroke=\"black\" cx=\"319.41\" cy=\"-206.35\" rx=\"82.96\" ry=\"26.74\"/>\n",
       "<text text-anchor=\"middle\" x=\"319.41\" y=\"-210.15\" font-family=\"Times-Roman\" font-size=\"14.00\">ImageDocument</text>\n",
       "<text text-anchor=\"middle\" x=\"319.41\" y=\"-195.15\" font-family=\"Times-Roman\" font-size=\"14.00\">22b6a8982f</text>\n",
       "</g>\n",
       "<!-- d87432d6&#45;7c36&#45;4ba8&#45;8a03&#45;5790b49bcddf&#45;&gt;a65893bd&#45;eee8&#45;4bbc&#45;89cc&#45;0e22b6a8982f -->\n",
       "<g id=\"edge2\" class=\"edge\">\n",
       "<title>d87432d6&#45;7c36&#45;4ba8&#45;8a03&#45;5790b49bcddf&#45;&gt;a65893bd&#45;eee8&#45;4bbc&#45;89cc&#45;0e22b6a8982f</title>\n",
       "<path fill=\"none\" stroke=\"black\" d=\"M319.41,-268.77C319.41,-260.8 319.41,-251.91 319.41,-243.42\"/>\n",
       "<polygon fill=\"black\" stroke=\"black\" points=\"322.91,-243.35 319.41,-233.35 315.91,-243.35 322.91,-243.35\"/>\n",
       "</g>\n",
       "<!-- 2276aa40&#45;507e&#45;433f&#45;9dee&#45;24deb99a88e9 -->\n",
       "<g id=\"node4\" class=\"node\">\n",
       "<title>2276aa40&#45;507e&#45;433f&#45;9dee&#45;24deb99a88e9</title>\n",
       "<ellipse fill=\"none\" stroke=\"black\" cx=\"520.41\" cy=\"-206.35\" rx=\"82.96\" ry=\"26.74\"/>\n",
       "<text text-anchor=\"middle\" x=\"520.41\" y=\"-210.15\" font-family=\"Times-Roman\" font-size=\"14.00\">ImageDocument</text>\n",
       "<text text-anchor=\"middle\" x=\"520.41\" y=\"-195.15\" font-family=\"Times-Roman\" font-size=\"14.00\">deb99a88e9</text>\n",
       "</g>\n",
       "<!-- d87432d6&#45;7c36&#45;4ba8&#45;8a03&#45;5790b49bcddf&#45;&gt;2276aa40&#45;507e&#45;433f&#45;9dee&#45;24deb99a88e9 -->\n",
       "<g id=\"edge3\" class=\"edge\">\n",
       "<title>d87432d6&#45;7c36&#45;4ba8&#45;8a03&#45;5790b49bcddf&#45;&gt;2276aa40&#45;507e&#45;433f&#45;9dee&#45;24deb99a88e9</title>\n",
       "<path fill=\"none\" stroke=\"black\" d=\"M365.78,-274.85C394.67,-262.24 432.07,-245.91 462.85,-232.47\"/>\n",
       "<polygon fill=\"black\" stroke=\"black\" points=\"464.41,-235.61 472.18,-228.4 461.61,-229.2 464.41,-235.61\"/>\n",
       "</g>\n",
       "<!-- 0b6a1bad&#45;9b27&#45;488b&#45;a36c&#45;b0c6603fcfe4 -->\n",
       "<g id=\"node5\" class=\"node\">\n",
       "<title>0b6a1bad&#45;9b27&#45;488b&#45;a36c&#45;b0c6603fcfe4</title>\n",
       "<ellipse fill=\"none\" stroke=\"black\" cx=\"100.41\" cy=\"-116.61\" rx=\"100.32\" ry=\"26.74\"/>\n",
       "<text text-anchor=\"middle\" x=\"100.41\" y=\"-120.41\" font-family=\"Times-Roman\" font-size=\"14.00\">MarkdownDocument</text>\n",
       "<text text-anchor=\"middle\" x=\"100.41\" y=\"-105.41\" font-family=\"Times-Roman\" font-size=\"14.00\">c6603fcfe4</text>\n",
       "</g>\n",
       "<!-- a08c960a&#45;9a6b&#45;4be5&#45;aaed&#45;b46492cfa11a&#45;&gt;0b6a1bad&#45;9b27&#45;488b&#45;a36c&#45;b0c6603fcfe4 -->\n",
       "<g id=\"edge4\" class=\"edge\">\n",
       "<title>a08c960a&#45;9a6b&#45;4be5&#45;aaed&#45;b46492cfa11a&#45;&gt;0b6a1bad&#45;9b27&#45;488b&#45;a36c&#45;b0c6603fcfe4</title>\n",
       "<path fill=\"none\" stroke=\"black\" d=\"M113.11,-179.5C111.44,-171.36 109.56,-162.22 107.78,-153.51\"/>\n",
       "<polygon fill=\"black\" stroke=\"black\" points=\"111.18,-152.67 105.74,-143.58 104.32,-154.08 111.18,-152.67\"/>\n",
       "</g>\n",
       "<!-- a83fde9a&#45;dfe3&#45;4f74&#45;a854&#45;0a4132cec991 -->\n",
       "<g id=\"node6\" class=\"node\">\n",
       "<title>a83fde9a&#45;dfe3&#45;4f74&#45;a854&#45;0a4132cec991</title>\n",
       "<ellipse fill=\"none\" stroke=\"black\" cx=\"319.41\" cy=\"-116.61\" rx=\"100.32\" ry=\"26.74\"/>\n",
       "<text text-anchor=\"middle\" x=\"319.41\" y=\"-120.41\" font-family=\"Times-Roman\" font-size=\"14.00\">MarkdownDocument</text>\n",
       "<text text-anchor=\"middle\" x=\"319.41\" y=\"-105.41\" font-family=\"Times-Roman\" font-size=\"14.00\">4132cec991</text>\n",
       "</g>\n",
       "<!-- a65893bd&#45;eee8&#45;4bbc&#45;89cc&#45;0e22b6a8982f&#45;&gt;a83fde9a&#45;dfe3&#45;4f74&#45;a854&#45;0a4132cec991 -->\n",
       "<g id=\"edge5\" class=\"edge\">\n",
       "<title>a65893bd&#45;eee8&#45;4bbc&#45;89cc&#45;0e22b6a8982f&#45;&gt;a83fde9a&#45;dfe3&#45;4f74&#45;a854&#45;0a4132cec991</title>\n",
       "<path fill=\"none\" stroke=\"black\" d=\"M319.41,-179.03C319.41,-171.06 319.41,-162.17 319.41,-153.68\"/>\n",
       "<polygon fill=\"black\" stroke=\"black\" points=\"322.91,-153.61 319.41,-143.61 315.91,-153.61 322.91,-153.61\"/>\n",
       "</g>\n",
       "<!-- 9434975f&#45;b676&#45;4478&#45;bcb2&#45;b7131d8422b1 -->\n",
       "<g id=\"node7\" class=\"node\">\n",
       "<title>9434975f&#45;b676&#45;4478&#45;bcb2&#45;b7131d8422b1</title>\n",
       "<ellipse fill=\"none\" stroke=\"black\" cx=\"538.41\" cy=\"-116.61\" rx=\"100.32\" ry=\"26.74\"/>\n",
       "<text text-anchor=\"middle\" x=\"538.41\" y=\"-120.41\" font-family=\"Times-Roman\" font-size=\"14.00\">MarkdownDocument</text>\n",
       "<text text-anchor=\"middle\" x=\"538.41\" y=\"-105.41\" font-family=\"Times-Roman\" font-size=\"14.00\">131d8422b1</text>\n",
       "</g>\n",
       "<!-- 2276aa40&#45;507e&#45;433f&#45;9dee&#45;24deb99a88e9&#45;&gt;9434975f&#45;b676&#45;4478&#45;bcb2&#45;b7131d8422b1 -->\n",
       "<g id=\"edge6\" class=\"edge\">\n",
       "<title>2276aa40&#45;507e&#45;433f&#45;9dee&#45;24deb99a88e9&#45;&gt;9434975f&#45;b676&#45;4478&#45;bcb2&#45;b7131d8422b1</title>\n",
       "<path fill=\"none\" stroke=\"black\" d=\"M525.71,-179.5C527.38,-171.36 529.26,-162.22 531.04,-153.51\"/>\n",
       "<polygon fill=\"black\" stroke=\"black\" points=\"534.5,-154.08 533.08,-143.58 527.64,-152.67 534.5,-154.08\"/>\n",
       "</g>\n",
       "<!-- 49be0108&#45;aa96&#45;45d6&#45;b4a2&#45;4da08df8b4a1 -->\n",
       "<g id=\"node8\" class=\"node\">\n",
       "<title>49be0108&#45;aa96&#45;45d6&#45;b4a2&#45;4da08df8b4a1</title>\n",
       "<ellipse fill=\"none\" stroke=\"black\" cx=\"319.41\" cy=\"-26.87\" rx=\"100.32\" ry=\"26.74\"/>\n",
       "<text text-anchor=\"middle\" x=\"319.41\" y=\"-30.67\" font-family=\"Times-Roman\" font-size=\"14.00\">MarkdownDocument</text>\n",
       "<text text-anchor=\"middle\" x=\"319.41\" y=\"-15.67\" font-family=\"Times-Roman\" font-size=\"14.00\">a08df8b4a1</text>\n",
       "</g>\n",
       "<!-- 0b6a1bad&#45;9b27&#45;488b&#45;a36c&#45;b0c6603fcfe4&#45;&gt;49be0108&#45;aa96&#45;45d6&#45;b4a2&#45;4da08df8b4a1 -->\n",
       "<g id=\"edge7\" class=\"edge\">\n",
       "<title>0b6a1bad&#45;9b27&#45;488b&#45;a36c&#45;b0c6603fcfe4&#45;&gt;49be0108&#45;aa96&#45;45d6&#45;b4a2&#45;4da08df8b4a1</title>\n",
       "<path fill=\"none\" stroke=\"black\" d=\"M154.54,-93.92C185.21,-81.64 223.74,-66.2 255.83,-53.34\"/>\n",
       "<polygon fill=\"black\" stroke=\"black\" points=\"257.16,-56.58 265.14,-49.61 254.55,-50.08 257.16,-56.58\"/>\n",
       "</g>\n",
       "<!-- a83fde9a&#45;dfe3&#45;4f74&#45;a854&#45;0a4132cec991&#45;&gt;49be0108&#45;aa96&#45;45d6&#45;b4a2&#45;4da08df8b4a1 -->\n",
       "<g id=\"edge8\" class=\"edge\">\n",
       "<title>a83fde9a&#45;dfe3&#45;4f74&#45;a854&#45;0a4132cec991&#45;&gt;49be0108&#45;aa96&#45;45d6&#45;b4a2&#45;4da08df8b4a1</title>\n",
       "<path fill=\"none\" stroke=\"black\" d=\"M319.41,-89.29C319.41,-81.32 319.41,-72.43 319.41,-63.94\"/>\n",
       "<polygon fill=\"black\" stroke=\"black\" points=\"322.91,-63.87 319.41,-53.87 315.91,-63.87 322.91,-63.87\"/>\n",
       "</g>\n",
       "<!-- 9434975f&#45;b676&#45;4478&#45;bcb2&#45;b7131d8422b1&#45;&gt;49be0108&#45;aa96&#45;45d6&#45;b4a2&#45;4da08df8b4a1 -->\n",
       "<g id=\"edge9\" class=\"edge\">\n",
       "<title>9434975f&#45;b676&#45;4478&#45;bcb2&#45;b7131d8422b1&#45;&gt;49be0108&#45;aa96&#45;45d6&#45;b4a2&#45;4da08df8b4a1</title>\n",
       "<path fill=\"none\" stroke=\"black\" d=\"M484.27,-93.92C453.61,-81.64 415.08,-66.2 382.98,-53.34\"/>\n",
       "<polygon fill=\"black\" stroke=\"black\" points=\"384.26,-50.08 373.68,-49.61 381.66,-56.58 384.26,-50.08\"/>\n",
       "</g>\n",
       "</g>\n",
       "</svg>\n"
      ],
      "text/plain": [
       "<graphviz.sources.Source at 0x7f6ba8287a30>"
      ]
     },
     "execution_count": 15,
     "metadata": {},
     "output_type": "execute_result"
    }
   ],
   "source": [
    "# Define Pipeline\n",
    "pipeline = Pipeline(transformers=[\n",
    "    PDF2Images(), Image2Markdown(), CombineMarkdowns()\n",
    "])\n",
    "\n",
    "# Run and visualize it!\n",
    "pdf_doc = PDFDocument(path=\"document.pdf\")\n",
    "markdown_doc = pipeline.run(input=pdf_doc)\n",
    "plot_graph(pipeline.get_traces())"
   ]
  },
  {
   "cell_type": "code",
   "execution_count": 16,
   "metadata": {},
   "outputs": [
    {
     "data": {
      "text/plain": [
       "[{'id': 'd87432d6-7c36-4ba8-8a03-5790b49bcddf',\n",
       "  'path': 'document.pdf',\n",
       "  'type': 'PDFDocument',\n",
       "  'childrens': ['a08c960a-9a6b-4be5-aaed-b46492cfa11a',\n",
       "   'a65893bd-eee8-4bbc-89cc-0e22b6a8982f',\n",
       "   '2276aa40-507e-433f-9dee-24deb99a88e9'],\n",
       "  'parents': []},\n",
       " {'id': 'a08c960a-9a6b-4be5-aaed-b46492cfa11a',\n",
       "  'path': None,\n",
       "  'type': 'ImageDocument',\n",
       "  'childrens': ['0b6a1bad-9b27-488b-a36c-b0c6603fcfe4'],\n",
       "  'parents': ['d87432d6-7c36-4ba8-8a03-5790b49bcddf']},\n",
       " {'id': 'a65893bd-eee8-4bbc-89cc-0e22b6a8982f',\n",
       "  'path': None,\n",
       "  'type': 'ImageDocument',\n",
       "  'childrens': ['a83fde9a-dfe3-4f74-a854-0a4132cec991'],\n",
       "  'parents': ['d87432d6-7c36-4ba8-8a03-5790b49bcddf']},\n",
       " {'id': '2276aa40-507e-433f-9dee-24deb99a88e9',\n",
       "  'path': None,\n",
       "  'type': 'ImageDocument',\n",
       "  'childrens': ['9434975f-b676-4478-bcb2-b7131d8422b1'],\n",
       "  'parents': ['d87432d6-7c36-4ba8-8a03-5790b49bcddf']},\n",
       " {'id': '0b6a1bad-9b27-488b-a36c-b0c6603fcfe4',\n",
       "  'path': None,\n",
       "  'type': 'MarkdownDocument',\n",
       "  'childrens': ['49be0108-aa96-45d6-b4a2-4da08df8b4a1'],\n",
       "  'parents': ['a08c960a-9a6b-4be5-aaed-b46492cfa11a']},\n",
       " {'id': 'a83fde9a-dfe3-4f74-a854-0a4132cec991',\n",
       "  'path': None,\n",
       "  'type': 'MarkdownDocument',\n",
       "  'childrens': ['49be0108-aa96-45d6-b4a2-4da08df8b4a1'],\n",
       "  'parents': ['a65893bd-eee8-4bbc-89cc-0e22b6a8982f']},\n",
       " {'id': '9434975f-b676-4478-bcb2-b7131d8422b1',\n",
       "  'path': None,\n",
       "  'type': 'MarkdownDocument',\n",
       "  'childrens': ['49be0108-aa96-45d6-b4a2-4da08df8b4a1'],\n",
       "  'parents': ['2276aa40-507e-433f-9dee-24deb99a88e9']},\n",
       " {'id': '49be0108-aa96-45d6-b4a2-4da08df8b4a1',\n",
       "  'path': None,\n",
       "  'type': 'MarkdownDocument',\n",
       "  'childrens': [],\n",
       "  'parents': ['9434975f-b676-4478-bcb2-b7131d8422b1',\n",
       "   '0b6a1bad-9b27-488b-a36c-b0c6603fcfe4',\n",
       "   'a83fde9a-dfe3-4f74-a854-0a4132cec991']}]"
      ]
     },
     "execution_count": 16,
     "metadata": {},
     "output_type": "execute_result"
    }
   ],
   "source": [
    "pipeline.get_traces()"
   ]
  },
  {
   "cell_type": "markdown",
   "metadata": {},
   "source": [
    "Remember, if you need to save each part, you can specify it in the Pipeline\n"
   ]
  },
  {
   "cell_type": "code",
   "execution_count": 17,
   "metadata": {},
   "outputs": [
    {
     "data": {
      "text/plain": [
       "MarkdownDocument(id='c2b68e35-01c5-438f-ab92-71c7dd183613', path='document.md', data='OCR 1\\nOCR 2\\nOCR 3\\n', metadata={}, parents={'24d36bda-09a7-4968-9b77-970f7ff2bd47', '037bd089-e653-4e96-852b-01d9e643729c', '15bc9495-e8d2-4862-92b9-62ccf174a499'}, childrens=set())"
      ]
     },
     "execution_count": 17,
     "metadata": {},
     "output_type": "execute_result"
    }
   ],
   "source": [
    "# Define Pipeline\n",
    "pipeline = Pipeline(transformers=[\n",
    "    PDF2Images(to='images/pag_{metadata[page]}.jpg'),\n",
    "    Image2Markdown(to='images/pag_{metadata[page]}.md'),\n",
    "    CombineMarkdowns(to='document.md')\n",
    "])\n",
    "\n",
    "# Run it!\n",
    "pdf_doc = PDFDocument(path=\"document.pdf\")\n",
    "pipeline.run(input=pdf_doc)"
   ]
  },
  {
   "cell_type": "markdown",
   "metadata": {},
   "source": [
    "## All togheter!\n",
    "\n",
    "Next all definitions and final Pipeline. Insert more than one input document if you need it!"
   ]
  },
  {
   "cell_type": "code",
   "execution_count": 18,
   "metadata": {},
   "outputs": [
    {
     "data": {
      "image/svg+xml": [
       "<?xml version=\"1.0\" encoding=\"UTF-8\" standalone=\"no\"?>\n",
       "<!DOCTYPE svg PUBLIC \"-//W3C//DTD SVG 1.1//EN\"\n",
       " \"http://www.w3.org/Graphics/SVG/1.1/DTD/svg11.dtd\">\n",
       "<!-- Generated by graphviz version 2.44.0 (0)\n",
       " -->\n",
       "<!-- Pages: 1 -->\n",
       "<svg width=\"1304pt\" height=\"331pt\"\n",
       " viewBox=\"0.00 0.00 1303.82 330.96\" xmlns=\"http://www.w3.org/2000/svg\" xmlns:xlink=\"http://www.w3.org/1999/xlink\">\n",
       "<g id=\"graph0\" class=\"graph\" transform=\"scale(1 1) rotate(0) translate(4 326.96)\">\n",
       "<polygon fill=\"white\" stroke=\"transparent\" points=\"-4,4 -4,-326.96 1299.82,-326.96 1299.82,4 -4,4\"/>\n",
       "<!-- 340b94a2&#45;785a&#45;49a0&#45;9a6a&#45;1cda6bd7da89 -->\n",
       "<g id=\"node1\" class=\"node\">\n",
       "<title>340b94a2&#45;785a&#45;49a0&#45;9a6a&#45;1cda6bd7da89</title>\n",
       "<ellipse fill=\"none\" stroke=\"black\" cx=\"319.41\" cy=\"-296.09\" rx=\"74.91\" ry=\"26.74\"/>\n",
       "<text text-anchor=\"middle\" x=\"319.41\" y=\"-299.89\" font-family=\"Times-Roman\" font-size=\"14.00\">PDFDocument</text>\n",
       "<text text-anchor=\"middle\" x=\"319.41\" y=\"-284.89\" font-family=\"Times-Roman\" font-size=\"14.00\">da6bd7da89</text>\n",
       "</g>\n",
       "<!-- bac5487d&#45;463b&#45;4b45&#45;85b5&#45;3c6af7126c43 -->\n",
       "<g id=\"node2\" class=\"node\">\n",
       "<title>bac5487d&#45;463b&#45;4b45&#45;85b5&#45;3c6af7126c43</title>\n",
       "<ellipse fill=\"none\" stroke=\"black\" cx=\"118.41\" cy=\"-206.35\" rx=\"82.96\" ry=\"26.74\"/>\n",
       "<text text-anchor=\"middle\" x=\"118.41\" y=\"-210.15\" font-family=\"Times-Roman\" font-size=\"14.00\">ImageDocument</text>\n",
       "<text text-anchor=\"middle\" x=\"118.41\" y=\"-195.15\" font-family=\"Times-Roman\" font-size=\"14.00\">6af7126c43</text>\n",
       "</g>\n",
       "<!-- 340b94a2&#45;785a&#45;49a0&#45;9a6a&#45;1cda6bd7da89&#45;&gt;bac5487d&#45;463b&#45;4b45&#45;85b5&#45;3c6af7126c43 -->\n",
       "<g id=\"edge1\" class=\"edge\">\n",
       "<title>340b94a2&#45;785a&#45;49a0&#45;9a6a&#45;1cda6bd7da89&#45;&gt;bac5487d&#45;463b&#45;4b45&#45;85b5&#45;3c6af7126c43</title>\n",
       "<path fill=\"none\" stroke=\"black\" d=\"M273.04,-274.85C244.15,-262.24 206.75,-245.91 175.96,-232.47\"/>\n",
       "<polygon fill=\"black\" stroke=\"black\" points=\"177.21,-229.2 166.64,-228.4 174.4,-235.61 177.21,-229.2\"/>\n",
       "</g>\n",
       "<!-- 4487e4cc&#45;de93&#45;47ef&#45;88e5&#45;3df608c8eeda -->\n",
       "<g id=\"node3\" class=\"node\">\n",
       "<title>4487e4cc&#45;de93&#45;47ef&#45;88e5&#45;3df608c8eeda</title>\n",
       "<ellipse fill=\"none\" stroke=\"black\" cx=\"319.41\" cy=\"-206.35\" rx=\"82.96\" ry=\"26.74\"/>\n",
       "<text text-anchor=\"middle\" x=\"319.41\" y=\"-210.15\" font-family=\"Times-Roman\" font-size=\"14.00\">ImageDocument</text>\n",
       "<text text-anchor=\"middle\" x=\"319.41\" y=\"-195.15\" font-family=\"Times-Roman\" font-size=\"14.00\">f608c8eeda</text>\n",
       "</g>\n",
       "<!-- 340b94a2&#45;785a&#45;49a0&#45;9a6a&#45;1cda6bd7da89&#45;&gt;4487e4cc&#45;de93&#45;47ef&#45;88e5&#45;3df608c8eeda -->\n",
       "<g id=\"edge2\" class=\"edge\">\n",
       "<title>340b94a2&#45;785a&#45;49a0&#45;9a6a&#45;1cda6bd7da89&#45;&gt;4487e4cc&#45;de93&#45;47ef&#45;88e5&#45;3df608c8eeda</title>\n",
       "<path fill=\"none\" stroke=\"black\" d=\"M319.41,-268.77C319.41,-260.8 319.41,-251.91 319.41,-243.42\"/>\n",
       "<polygon fill=\"black\" stroke=\"black\" points=\"322.91,-243.35 319.41,-233.35 315.91,-243.35 322.91,-243.35\"/>\n",
       "</g>\n",
       "<!-- 9b59def7&#45;9540&#45;4b86&#45;9d52&#45;6b1a7c9770f1 -->\n",
       "<g id=\"node4\" class=\"node\">\n",
       "<title>9b59def7&#45;9540&#45;4b86&#45;9d52&#45;6b1a7c9770f1</title>\n",
       "<ellipse fill=\"none\" stroke=\"black\" cx=\"520.41\" cy=\"-206.35\" rx=\"82.96\" ry=\"26.74\"/>\n",
       "<text text-anchor=\"middle\" x=\"520.41\" y=\"-210.15\" font-family=\"Times-Roman\" font-size=\"14.00\">ImageDocument</text>\n",
       "<text text-anchor=\"middle\" x=\"520.41\" y=\"-195.15\" font-family=\"Times-Roman\" font-size=\"14.00\">1a7c9770f1</text>\n",
       "</g>\n",
       "<!-- 340b94a2&#45;785a&#45;49a0&#45;9a6a&#45;1cda6bd7da89&#45;&gt;9b59def7&#45;9540&#45;4b86&#45;9d52&#45;6b1a7c9770f1 -->\n",
       "<g id=\"edge3\" class=\"edge\">\n",
       "<title>340b94a2&#45;785a&#45;49a0&#45;9a6a&#45;1cda6bd7da89&#45;&gt;9b59def7&#45;9540&#45;4b86&#45;9d52&#45;6b1a7c9770f1</title>\n",
       "<path fill=\"none\" stroke=\"black\" d=\"M365.78,-274.85C394.67,-262.24 432.07,-245.91 462.85,-232.47\"/>\n",
       "<polygon fill=\"black\" stroke=\"black\" points=\"464.41,-235.61 472.18,-228.4 461.61,-229.2 464.41,-235.61\"/>\n",
       "</g>\n",
       "<!-- 4b07bada&#45;b0eb&#45;487e&#45;b3a3&#45;71ecdb267b1c -->\n",
       "<g id=\"node11\" class=\"node\">\n",
       "<title>4b07bada&#45;b0eb&#45;487e&#45;b3a3&#45;71ecdb267b1c</title>\n",
       "<ellipse fill=\"none\" stroke=\"black\" cx=\"100.41\" cy=\"-116.61\" rx=\"100.32\" ry=\"26.74\"/>\n",
       "<text text-anchor=\"middle\" x=\"100.41\" y=\"-120.41\" font-family=\"Times-Roman\" font-size=\"14.00\">MarkdownDocument</text>\n",
       "<text text-anchor=\"middle\" x=\"100.41\" y=\"-105.41\" font-family=\"Times-Roman\" font-size=\"14.00\">ecdb267b1c</text>\n",
       "</g>\n",
       "<!-- bac5487d&#45;463b&#45;4b45&#45;85b5&#45;3c6af7126c43&#45;&gt;4b07bada&#45;b0eb&#45;487e&#45;b3a3&#45;71ecdb267b1c -->\n",
       "<g id=\"edge9\" class=\"edge\">\n",
       "<title>bac5487d&#45;463b&#45;4b45&#45;85b5&#45;3c6af7126c43&#45;&gt;4b07bada&#45;b0eb&#45;487e&#45;b3a3&#45;71ecdb267b1c</title>\n",
       "<path fill=\"none\" stroke=\"black\" d=\"M113.11,-179.5C111.44,-171.36 109.56,-162.22 107.78,-153.51\"/>\n",
       "<polygon fill=\"black\" stroke=\"black\" points=\"111.18,-152.67 105.74,-143.58 104.32,-154.08 111.18,-152.67\"/>\n",
       "</g>\n",
       "<!-- 6ca5c3bb&#45;c17d&#45;4b76&#45;aee6&#45;86b7af405d2a -->\n",
       "<g id=\"node10\" class=\"node\">\n",
       "<title>6ca5c3bb&#45;c17d&#45;4b76&#45;aee6&#45;86b7af405d2a</title>\n",
       "<ellipse fill=\"none\" stroke=\"black\" cx=\"319.41\" cy=\"-116.61\" rx=\"100.32\" ry=\"26.74\"/>\n",
       "<text text-anchor=\"middle\" x=\"319.41\" y=\"-120.41\" font-family=\"Times-Roman\" font-size=\"14.00\">MarkdownDocument</text>\n",
       "<text text-anchor=\"middle\" x=\"319.41\" y=\"-105.41\" font-family=\"Times-Roman\" font-size=\"14.00\">b7af405d2a</text>\n",
       "</g>\n",
       "<!-- 4487e4cc&#45;de93&#45;47ef&#45;88e5&#45;3df608c8eeda&#45;&gt;6ca5c3bb&#45;c17d&#45;4b76&#45;aee6&#45;86b7af405d2a -->\n",
       "<g id=\"edge8\" class=\"edge\">\n",
       "<title>4487e4cc&#45;de93&#45;47ef&#45;88e5&#45;3df608c8eeda&#45;&gt;6ca5c3bb&#45;c17d&#45;4b76&#45;aee6&#45;86b7af405d2a</title>\n",
       "<path fill=\"none\" stroke=\"black\" d=\"M319.41,-179.03C319.41,-171.06 319.41,-162.17 319.41,-153.68\"/>\n",
       "<polygon fill=\"black\" stroke=\"black\" points=\"322.91,-153.61 319.41,-143.61 315.91,-153.61 322.91,-153.61\"/>\n",
       "</g>\n",
       "<!-- 100fb7de&#45;107c&#45;414e&#45;94f6&#45;49302155dd94 -->\n",
       "<g id=\"node9\" class=\"node\">\n",
       "<title>100fb7de&#45;107c&#45;414e&#45;94f6&#45;49302155dd94</title>\n",
       "<ellipse fill=\"none\" stroke=\"black\" cx=\"538.41\" cy=\"-116.61\" rx=\"100.32\" ry=\"26.74\"/>\n",
       "<text text-anchor=\"middle\" x=\"538.41\" y=\"-120.41\" font-family=\"Times-Roman\" font-size=\"14.00\">MarkdownDocument</text>\n",
       "<text text-anchor=\"middle\" x=\"538.41\" y=\"-105.41\" font-family=\"Times-Roman\" font-size=\"14.00\">302155dd94</text>\n",
       "</g>\n",
       "<!-- 9b59def7&#45;9540&#45;4b86&#45;9d52&#45;6b1a7c9770f1&#45;&gt;100fb7de&#45;107c&#45;414e&#45;94f6&#45;49302155dd94 -->\n",
       "<g id=\"edge7\" class=\"edge\">\n",
       "<title>9b59def7&#45;9540&#45;4b86&#45;9d52&#45;6b1a7c9770f1&#45;&gt;100fb7de&#45;107c&#45;414e&#45;94f6&#45;49302155dd94</title>\n",
       "<path fill=\"none\" stroke=\"black\" d=\"M525.71,-179.5C527.38,-171.36 529.26,-162.22 531.04,-153.51\"/>\n",
       "<polygon fill=\"black\" stroke=\"black\" points=\"534.5,-154.08 533.08,-143.58 527.64,-152.67 534.5,-154.08\"/>\n",
       "</g>\n",
       "<!-- 9a90d97b&#45;9dd7&#45;44ff&#45;b5cb&#45;99e274f506d7 -->\n",
       "<g id=\"node5\" class=\"node\">\n",
       "<title>9a90d97b&#45;9dd7&#45;44ff&#45;b5cb&#45;99e274f506d7</title>\n",
       "<ellipse fill=\"none\" stroke=\"black\" cx=\"976.41\" cy=\"-296.09\" rx=\"74.91\" ry=\"26.74\"/>\n",
       "<text text-anchor=\"middle\" x=\"976.41\" y=\"-299.89\" font-family=\"Times-Roman\" font-size=\"14.00\">PDFDocument</text>\n",
       "<text text-anchor=\"middle\" x=\"976.41\" y=\"-284.89\" font-family=\"Times-Roman\" font-size=\"14.00\">e274f506d7</text>\n",
       "</g>\n",
       "<!-- 4cff27fd&#45;ed1b&#45;4ffc&#45;90a1&#45;c2a1d69c39e7 -->\n",
       "<g id=\"node6\" class=\"node\">\n",
       "<title>4cff27fd&#45;ed1b&#45;4ffc&#45;90a1&#45;c2a1d69c39e7</title>\n",
       "<ellipse fill=\"none\" stroke=\"black\" cx=\"775.41\" cy=\"-206.35\" rx=\"82.96\" ry=\"26.74\"/>\n",
       "<text text-anchor=\"middle\" x=\"775.41\" y=\"-210.15\" font-family=\"Times-Roman\" font-size=\"14.00\">ImageDocument</text>\n",
       "<text text-anchor=\"middle\" x=\"775.41\" y=\"-195.15\" font-family=\"Times-Roman\" font-size=\"14.00\">a1d69c39e7</text>\n",
       "</g>\n",
       "<!-- 9a90d97b&#45;9dd7&#45;44ff&#45;b5cb&#45;99e274f506d7&#45;&gt;4cff27fd&#45;ed1b&#45;4ffc&#45;90a1&#45;c2a1d69c39e7 -->\n",
       "<g id=\"edge4\" class=\"edge\">\n",
       "<title>9a90d97b&#45;9dd7&#45;44ff&#45;b5cb&#45;99e274f506d7&#45;&gt;4cff27fd&#45;ed1b&#45;4ffc&#45;90a1&#45;c2a1d69c39e7</title>\n",
       "<path fill=\"none\" stroke=\"black\" d=\"M930.04,-274.85C901.15,-262.24 863.75,-245.91 832.96,-232.47\"/>\n",
       "<polygon fill=\"black\" stroke=\"black\" points=\"834.21,-229.2 823.64,-228.4 831.4,-235.61 834.21,-229.2\"/>\n",
       "</g>\n",
       "<!-- b2c9a473&#45;0ec4&#45;4a53&#45;aacc&#45;64216d2dfff7 -->\n",
       "<g id=\"node7\" class=\"node\">\n",
       "<title>b2c9a473&#45;0ec4&#45;4a53&#45;aacc&#45;64216d2dfff7</title>\n",
       "<ellipse fill=\"none\" stroke=\"black\" cx=\"976.41\" cy=\"-206.35\" rx=\"82.96\" ry=\"26.74\"/>\n",
       "<text text-anchor=\"middle\" x=\"976.41\" y=\"-210.15\" font-family=\"Times-Roman\" font-size=\"14.00\">ImageDocument</text>\n",
       "<text text-anchor=\"middle\" x=\"976.41\" y=\"-195.15\" font-family=\"Times-Roman\" font-size=\"14.00\">216d2dfff7</text>\n",
       "</g>\n",
       "<!-- 9a90d97b&#45;9dd7&#45;44ff&#45;b5cb&#45;99e274f506d7&#45;&gt;b2c9a473&#45;0ec4&#45;4a53&#45;aacc&#45;64216d2dfff7 -->\n",
       "<g id=\"edge5\" class=\"edge\">\n",
       "<title>9a90d97b&#45;9dd7&#45;44ff&#45;b5cb&#45;99e274f506d7&#45;&gt;b2c9a473&#45;0ec4&#45;4a53&#45;aacc&#45;64216d2dfff7</title>\n",
       "<path fill=\"none\" stroke=\"black\" d=\"M976.41,-268.77C976.41,-260.8 976.41,-251.91 976.41,-243.42\"/>\n",
       "<polygon fill=\"black\" stroke=\"black\" points=\"979.91,-243.35 976.41,-233.35 972.91,-243.35 979.91,-243.35\"/>\n",
       "</g>\n",
       "<!-- 51f21cc2&#45;799e&#45;4a45&#45;a889&#45;77bb4b6d6c9e -->\n",
       "<g id=\"node8\" class=\"node\">\n",
       "<title>51f21cc2&#45;799e&#45;4a45&#45;a889&#45;77bb4b6d6c9e</title>\n",
       "<ellipse fill=\"none\" stroke=\"black\" cx=\"1177.41\" cy=\"-206.35\" rx=\"82.96\" ry=\"26.74\"/>\n",
       "<text text-anchor=\"middle\" x=\"1177.41\" y=\"-210.15\" font-family=\"Times-Roman\" font-size=\"14.00\">ImageDocument</text>\n",
       "<text text-anchor=\"middle\" x=\"1177.41\" y=\"-195.15\" font-family=\"Times-Roman\" font-size=\"14.00\">bb4b6d6c9e</text>\n",
       "</g>\n",
       "<!-- 9a90d97b&#45;9dd7&#45;44ff&#45;b5cb&#45;99e274f506d7&#45;&gt;51f21cc2&#45;799e&#45;4a45&#45;a889&#45;77bb4b6d6c9e -->\n",
       "<g id=\"edge6\" class=\"edge\">\n",
       "<title>9a90d97b&#45;9dd7&#45;44ff&#45;b5cb&#45;99e274f506d7&#45;&gt;51f21cc2&#45;799e&#45;4a45&#45;a889&#45;77bb4b6d6c9e</title>\n",
       "<path fill=\"none\" stroke=\"black\" d=\"M1022.78,-274.85C1051.67,-262.24 1089.07,-245.91 1119.85,-232.47\"/>\n",
       "<polygon fill=\"black\" stroke=\"black\" points=\"1121.41,-235.61 1129.18,-228.4 1118.61,-229.2 1121.41,-235.61\"/>\n",
       "</g>\n",
       "<!-- ee33f3e7&#45;2325&#45;4f46&#45;8847&#45;91b94cd768fd -->\n",
       "<g id=\"node13\" class=\"node\">\n",
       "<title>ee33f3e7&#45;2325&#45;4f46&#45;8847&#45;91b94cd768fd</title>\n",
       "<ellipse fill=\"none\" stroke=\"black\" cx=\"757.41\" cy=\"-116.61\" rx=\"100.32\" ry=\"26.74\"/>\n",
       "<text text-anchor=\"middle\" x=\"757.41\" y=\"-120.41\" font-family=\"Times-Roman\" font-size=\"14.00\">MarkdownDocument</text>\n",
       "<text text-anchor=\"middle\" x=\"757.41\" y=\"-105.41\" font-family=\"Times-Roman\" font-size=\"14.00\">b94cd768fd</text>\n",
       "</g>\n",
       "<!-- 4cff27fd&#45;ed1b&#45;4ffc&#45;90a1&#45;c2a1d69c39e7&#45;&gt;ee33f3e7&#45;2325&#45;4f46&#45;8847&#45;91b94cd768fd -->\n",
       "<g id=\"edge11\" class=\"edge\">\n",
       "<title>4cff27fd&#45;ed1b&#45;4ffc&#45;90a1&#45;c2a1d69c39e7&#45;&gt;ee33f3e7&#45;2325&#45;4f46&#45;8847&#45;91b94cd768fd</title>\n",
       "<path fill=\"none\" stroke=\"black\" d=\"M770.11,-179.5C768.44,-171.36 766.56,-162.22 764.78,-153.51\"/>\n",
       "<polygon fill=\"black\" stroke=\"black\" points=\"768.18,-152.67 762.74,-143.58 761.32,-154.08 768.18,-152.67\"/>\n",
       "</g>\n",
       "<!-- 4098386f&#45;1f52&#45;4bee&#45;94d0&#45;feca533a2746 -->\n",
       "<g id=\"node12\" class=\"node\">\n",
       "<title>4098386f&#45;1f52&#45;4bee&#45;94d0&#45;feca533a2746</title>\n",
       "<ellipse fill=\"none\" stroke=\"black\" cx=\"976.41\" cy=\"-116.61\" rx=\"100.32\" ry=\"26.74\"/>\n",
       "<text text-anchor=\"middle\" x=\"976.41\" y=\"-120.41\" font-family=\"Times-Roman\" font-size=\"14.00\">MarkdownDocument</text>\n",
       "<text text-anchor=\"middle\" x=\"976.41\" y=\"-105.41\" font-family=\"Times-Roman\" font-size=\"14.00\">ca533a2746</text>\n",
       "</g>\n",
       "<!-- b2c9a473&#45;0ec4&#45;4a53&#45;aacc&#45;64216d2dfff7&#45;&gt;4098386f&#45;1f52&#45;4bee&#45;94d0&#45;feca533a2746 -->\n",
       "<g id=\"edge10\" class=\"edge\">\n",
       "<title>b2c9a473&#45;0ec4&#45;4a53&#45;aacc&#45;64216d2dfff7&#45;&gt;4098386f&#45;1f52&#45;4bee&#45;94d0&#45;feca533a2746</title>\n",
       "<path fill=\"none\" stroke=\"black\" d=\"M976.41,-179.03C976.41,-171.06 976.41,-162.17 976.41,-153.68\"/>\n",
       "<polygon fill=\"black\" stroke=\"black\" points=\"979.91,-153.61 976.41,-143.61 972.91,-153.61 979.91,-153.61\"/>\n",
       "</g>\n",
       "<!-- 5566f0bd&#45;1a1f&#45;4552&#45;8e84&#45;8a9151d00b30 -->\n",
       "<g id=\"node14\" class=\"node\">\n",
       "<title>5566f0bd&#45;1a1f&#45;4552&#45;8e84&#45;8a9151d00b30</title>\n",
       "<ellipse fill=\"none\" stroke=\"black\" cx=\"1195.41\" cy=\"-116.61\" rx=\"100.32\" ry=\"26.74\"/>\n",
       "<text text-anchor=\"middle\" x=\"1195.41\" y=\"-120.41\" font-family=\"Times-Roman\" font-size=\"14.00\">MarkdownDocument</text>\n",
       "<text text-anchor=\"middle\" x=\"1195.41\" y=\"-105.41\" font-family=\"Times-Roman\" font-size=\"14.00\">9151d00b30</text>\n",
       "</g>\n",
       "<!-- 51f21cc2&#45;799e&#45;4a45&#45;a889&#45;77bb4b6d6c9e&#45;&gt;5566f0bd&#45;1a1f&#45;4552&#45;8e84&#45;8a9151d00b30 -->\n",
       "<g id=\"edge12\" class=\"edge\">\n",
       "<title>51f21cc2&#45;799e&#45;4a45&#45;a889&#45;77bb4b6d6c9e&#45;&gt;5566f0bd&#45;1a1f&#45;4552&#45;8e84&#45;8a9151d00b30</title>\n",
       "<path fill=\"none\" stroke=\"black\" d=\"M1182.71,-179.5C1184.38,-171.36 1186.26,-162.22 1188.04,-153.51\"/>\n",
       "<polygon fill=\"black\" stroke=\"black\" points=\"1191.5,-154.08 1190.08,-143.58 1184.64,-152.67 1191.5,-154.08\"/>\n",
       "</g>\n",
       "<!-- e54a4158&#45;8be9&#45;4daf&#45;bcfa&#45;54b31191ddf7 -->\n",
       "<g id=\"node15\" class=\"node\">\n",
       "<title>e54a4158&#45;8be9&#45;4daf&#45;bcfa&#45;54b31191ddf7</title>\n",
       "<ellipse fill=\"none\" stroke=\"black\" cx=\"647.41\" cy=\"-26.87\" rx=\"100.32\" ry=\"26.74\"/>\n",
       "<text text-anchor=\"middle\" x=\"647.41\" y=\"-30.67\" font-family=\"Times-Roman\" font-size=\"14.00\">MarkdownDocument</text>\n",
       "<text text-anchor=\"middle\" x=\"647.41\" y=\"-15.67\" font-family=\"Times-Roman\" font-size=\"14.00\">b31191ddf7</text>\n",
       "</g>\n",
       "<!-- 100fb7de&#45;107c&#45;414e&#45;94f6&#45;49302155dd94&#45;&gt;e54a4158&#45;8be9&#45;4daf&#45;bcfa&#45;54b31191ddf7 -->\n",
       "<g id=\"edge13\" class=\"edge\">\n",
       "<title>100fb7de&#45;107c&#45;414e&#45;94f6&#45;49302155dd94&#45;&gt;e54a4158&#45;8be9&#45;4daf&#45;bcfa&#45;54b31191ddf7</title>\n",
       "<path fill=\"none\" stroke=\"black\" d=\"M569.06,-90.94C581.37,-81.03 595.7,-69.5 608.71,-59.02\"/>\n",
       "<polygon fill=\"black\" stroke=\"black\" points=\"611.01,-61.66 616.61,-52.66 606.62,-56.21 611.01,-61.66\"/>\n",
       "</g>\n",
       "<!-- 6ca5c3bb&#45;c17d&#45;4b76&#45;aee6&#45;86b7af405d2a&#45;&gt;e54a4158&#45;8be9&#45;4daf&#45;bcfa&#45;54b31191ddf7 -->\n",
       "<g id=\"edge14\" class=\"edge\">\n",
       "<title>6ca5c3bb&#45;c17d&#45;4b76&#45;aee6&#45;86b7af405d2a&#45;&gt;e54a4158&#45;8be9&#45;4daf&#45;bcfa&#45;54b31191ddf7</title>\n",
       "<path fill=\"none\" stroke=\"black\" d=\"M388.57,-97.11C441.14,-83.05 513.52,-63.69 568.38,-49.01\"/>\n",
       "<polygon fill=\"black\" stroke=\"black\" points=\"569.31,-52.39 578.06,-46.42 567.5,-45.62 569.31,-52.39\"/>\n",
       "</g>\n",
       "<!-- 4b07bada&#45;b0eb&#45;487e&#45;b3a3&#45;71ecdb267b1c&#45;&gt;e54a4158&#45;8be9&#45;4daf&#45;bcfa&#45;54b31191ddf7 -->\n",
       "<g id=\"edge15\" class=\"edge\">\n",
       "<title>4b07bada&#45;b0eb&#45;487e&#45;b3a3&#45;71ecdb267b1c&#45;&gt;e54a4158&#45;8be9&#45;4daf&#45;bcfa&#45;54b31191ddf7</title>\n",
       "<path fill=\"none\" stroke=\"black\" d=\"M172.1,-97.76C184.82,-94.88 197.97,-92.08 210.41,-89.74 324.8,-68.24 457.29,-50.47 546.13,-39.58\"/>\n",
       "<polygon fill=\"black\" stroke=\"black\" points=\"546.7,-43.03 556.21,-38.35 545.86,-36.08 546.7,-43.03\"/>\n",
       "</g>\n",
       "<!-- 4098386f&#45;1f52&#45;4bee&#45;94d0&#45;feca533a2746&#45;&gt;e54a4158&#45;8be9&#45;4daf&#45;bcfa&#45;54b31191ddf7 -->\n",
       "<g id=\"edge16\" class=\"edge\">\n",
       "<title>4098386f&#45;1f52&#45;4bee&#45;94d0&#45;feca533a2746&#45;&gt;e54a4158&#45;8be9&#45;4daf&#45;bcfa&#45;54b31191ddf7</title>\n",
       "<path fill=\"none\" stroke=\"black\" d=\"M907.04,-97.11C854.22,-83.02 781.46,-63.62 726.4,-48.94\"/>\n",
       "<polygon fill=\"black\" stroke=\"black\" points=\"727.25,-45.54 716.68,-46.34 725.45,-52.3 727.25,-45.54\"/>\n",
       "</g>\n",
       "<!-- ee33f3e7&#45;2325&#45;4f46&#45;8847&#45;91b94cd768fd&#45;&gt;e54a4158&#45;8be9&#45;4daf&#45;bcfa&#45;54b31191ddf7 -->\n",
       "<g id=\"edge17\" class=\"edge\">\n",
       "<title>ee33f3e7&#45;2325&#45;4f46&#45;8847&#45;91b94cd768fd&#45;&gt;e54a4158&#45;8be9&#45;4daf&#45;bcfa&#45;54b31191ddf7</title>\n",
       "<path fill=\"none\" stroke=\"black\" d=\"M726.48,-90.94C714.06,-81.03 699.6,-69.5 686.47,-59.02\"/>\n",
       "<polygon fill=\"black\" stroke=\"black\" points=\"688.49,-56.16 678.49,-52.66 684.13,-61.63 688.49,-56.16\"/>\n",
       "</g>\n",
       "<!-- 5566f0bd&#45;1a1f&#45;4552&#45;8e84&#45;8a9151d00b30&#45;&gt;e54a4158&#45;8be9&#45;4daf&#45;bcfa&#45;54b31191ddf7 -->\n",
       "<g id=\"edge18\" class=\"edge\">\n",
       "<title>5566f0bd&#45;1a1f&#45;4552&#45;8e84&#45;8a9151d00b30&#45;&gt;e54a4158&#45;8be9&#45;4daf&#45;bcfa&#45;54b31191ddf7</title>\n",
       "<path fill=\"none\" stroke=\"black\" d=\"M1123.72,-97.76C1111,-94.88 1097.85,-92.08 1085.41,-89.74 970.58,-68.17 837.54,-50.39 748.49,-39.51\"/>\n",
       "<polygon fill=\"black\" stroke=\"black\" points=\"748.75,-36.01 738.4,-38.28 747.9,-42.96 748.75,-36.01\"/>\n",
       "</g>\n",
       "</g>\n",
       "</svg>\n"
      ],
      "text/plain": [
       "<graphviz.sources.Source at 0x7f6bab529e20>"
      ]
     },
     "execution_count": 18,
     "metadata": {},
     "output_type": "execute_result"
    }
   ],
   "source": [
    "from document_transformer import Document, DocumentTransformer\n",
    "from document_transformer.utils import plot_graph\n",
    "from typing import List\n",
    "from pathlib import Path\n",
    "import pdf2image\n",
    "\n",
    "######################################################\n",
    "# Documents\n",
    "######################################################\n",
    "class PDFDocument(Document):\n",
    "    \"\"\"Custom class to PDF Documents\"\"\"\n",
    "\n",
    "class ImageDocument(Document):\n",
    "    \"\"\"Custom class to Image Documents\"\"\"\n",
    "    def saver(self, path):\n",
    "        self.data.save(path)\n",
    "        return self\n",
    "\n",
    "class MarkdownDocument(Document):\n",
    "    data: str = ''\n",
    "    def saver(self, path):\n",
    "        with open(path, 'w') as file:\n",
    "            file.write(self.data)\n",
    "        return self\n",
    "\n",
    "    def appender(self, other):\n",
    "        \"\"\"Append other markdown document content to this one\"\"\"\n",
    "        self.data += other.data + '\\n'\n",
    "        return self\n",
    "\n",
    "######################################################\n",
    "# Transfomers\n",
    "######################################################\n",
    "class PDF2Images(DocumentTransformer):\n",
    "    input: PDFDocument = None\n",
    "    output: List[ImageDocument] = []\n",
    "\n",
    "    def transformer(self) -> List[ImageDocument]:\n",
    "        \"\"\"Divide en páginas el documento pdf\"\"\"\n",
    "        images = pdf2image.convert_from_path(self.input.path)\n",
    "        return [\n",
    "            ImageDocument(\n",
    "                metadata={'pdf_path': Path(self.input.path).name, 'page': i+1, 'size': image.size},\n",
    "                data=image,\n",
    "            )\n",
    "            for i, image in enumerate(images)\n",
    "        ]\n",
    "\n",
    "class Image2Markdown(DocumentTransformer):\n",
    "    input: ImageDocument = None\n",
    "    output: MarkdownDocument = None\n",
    "\n",
    "    def ocr(self):\n",
    "        \"\"\"ocr, puede ser una función externa\"\"\"\n",
    "        return f\"OCR {self.input.metadata['page']}\"\n",
    "\n",
    "    def transformer(self):\n",
    "        ocr_text = self.ocr()\n",
    "        return MarkdownDocument(\n",
    "            metadata={'image_path': self.input.path, 'page': self.input.metadata['page']},\n",
    "            data=ocr_text\n",
    "        )\n",
    "\n",
    "class CombineMarkdowns(DocumentTransformer):\n",
    "    input: List[MarkdownDocument] = []\n",
    "    output: MarkdownDocument = None\n",
    "\n",
    "    def transformer(self):\n",
    "        return MarkdownDocument().extend(self.input)\n",
    "    \n",
    "\n",
    "######################################################\n",
    "# Pipeline\n",
    "######################################################\n",
    "pipeline = Pipeline(transformers=[\n",
    "    PDF2Images(to='images/pag_{metadata[page]}.jpg'),\n",
    "    Image2Markdown(to='images/pag_{metadata[page]}.md'),\n",
    "    CombineMarkdowns(to='document.md')\n",
    "])\n",
    "\n",
    "# Run it!\n",
    "pdf_doc1 = PDFDocument(path=\"document.pdf\")\n",
    "pdf_doc2 = PDFDocument(path=\"document.pdf\")\n",
    "\n",
    "markdown_doc = pipeline.run(input=[pdf_doc1, pdf_doc2])\n",
    "plot_graph(pipeline.get_traces())"
   ]
  },
  {
   "cell_type": "markdown",
   "metadata": {},
   "source": [
    "## Conclusions\n",
    "\n",
    "As you can see, `document-transformer` is your friend when it comes to organizing your transformer pipeline. Simply define your components, and `document-transformer` will handle the rest, ensuring traceability and organization. Reuse your work in any project!"
   ]
  }
 ],
 "metadata": {
  "kernelspec": {
   "display_name": "Python 3",
   "language": "python",
   "name": "python3"
  },
  "language_info": {
   "codemirror_mode": {
    "name": "ipython",
    "version": 3
   },
   "file_extension": ".py",
   "mimetype": "text/x-python",
   "name": "python",
   "nbconvert_exporter": "python",
   "pygments_lexer": "ipython3",
   "version": "3.9.16"
  }
 },
 "nbformat": 4,
 "nbformat_minor": 2
}
