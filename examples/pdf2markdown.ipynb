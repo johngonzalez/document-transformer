{
 "cells": [
  {
   "cell_type": "markdown",
   "metadata": {},
   "source": [
    "## Convirtiendo un pdf en markdown\n",
    "\n",
    "If you want begin with a more simple example [pdf2images.ipynb](\"./pdf2images.ipynb\")"
   ]
  },
  {
   "cell_type": "markdown",
   "metadata": {},
   "source": [
    "## pdf to markdowns"
   ]
  },
  {
   "cell_type": "markdown",
   "metadata": {},
   "source": [
    "* Define your Documents and Transformers"
   ]
  },
  {
   "cell_type": "code",
   "execution_count": 1,
   "metadata": {},
   "outputs": [],
   "source": [
    "# Install pdf2image for this example\n",
    "# !pip install pdf2image"
   ]
  },
  {
   "cell_type": "code",
   "execution_count": 3,
   "metadata": {},
   "outputs": [],
   "source": [
    "from document_transformer import Document, DocumentTransformer\n",
    "from typing import List\n",
    "from pathlib import Path\n",
    "import pdf2image\n",
    "\n",
    "class PDFDocument(Document):\n",
    "    \"\"\"Custom class to PDF Documents\"\"\"\n",
    "\n",
    "class ImageDocument(Document):\n",
    "    \"\"\"Custom class to Image Documents\"\"\"\n",
    "    def saver(self, path):\n",
    "        self.data.save(path)\n",
    "        return self\n",
    "\n",
    "class MarkdownDocument(Document):\n",
    "    def saver(self, path):\n",
    "        with open(path, 'w') as file:\n",
    "            file.write(self.data)\n",
    "        return self\n",
    "\n",
    "class PDF2Images(DocumentTransformer):\n",
    "    input: PDFDocument = None\n",
    "    output: List[ImageDocument] = []\n",
    "\n",
    "    def transformer(self) -> List[ImageDocument]:\n",
    "        \"\"\"Divide en páginas el documento pdf\"\"\"\n",
    "        images = pdf2image.convert_from_path(self.input.path)\n",
    "        return [\n",
    "            ImageDocument(\n",
    "                metadata={'pdf_path': Path(self.input.path).name, 'page': i+1, 'size': image.size},\n",
    "                data=image,\n",
    "            )\n",
    "            for i, image in enumerate(images)\n",
    "        ]"
   ]
  },
  {
   "cell_type": "markdown",
   "metadata": {},
   "source": [
    "* Define the `Image2Markdown` transformer, which takes an `ImageDocument` and transforms it into a `MarkdownDocument`.\n",
    "* To keep things simple, we'll define an OCR method with dummy data. However, it's important that you implement your own OCR logic here."
   ]
  },
  {
   "cell_type": "code",
   "execution_count": 4,
   "metadata": {},
   "outputs": [],
   "source": [
    "class Image2Markdown(DocumentTransformer):\n",
    "    input: ImageDocument = None\n",
    "    output: MarkdownDocument = None\n",
    "\n",
    "    def ocr(self):\n",
    "        \"\"\"ocr, puede ser una función externa\"\"\"\n",
    "        return f\"OCR {self.input.metadata['page']}\"\n",
    "\n",
    "    def transformer(self):\n",
    "        ocr_text = self.ocr()\n",
    "        return MarkdownDocument(\n",
    "            metadata={'image_path': self.input.path, 'page': self.input.metadata['page']},\n",
    "            data=ocr_text\n",
    "        )"
   ]
  },
  {
   "cell_type": "markdown",
   "metadata": {},
   "source": [
    "run it!"
   ]
  },
  {
   "cell_type": "code",
   "execution_count": 5,
   "metadata": {},
   "outputs": [
    {
     "name": "stdout",
     "output_type": "stream",
     "text": [
      "id='841c3afb-e2e1-4e83-b62c-3676a714365a' path='images/pag_1.md' data='OCR 1' metadata={'image_path': 'images/pag_1.jpg', 'page': 1} parents={'371e7643-6068-4051-b216-8f5c4d58f893'} childrens=set()\n",
      "id='f6d58803-04de-41ba-a02b-dd1cedc1d7ea' path='images/pag_2.md' data='OCR 2' metadata={'image_path': 'images/pag_2.jpg', 'page': 2} parents={'e49b9084-8642-49ff-9442-2261713b6a8c'} childrens=set()\n",
      "id='162021ac-f170-4eee-9867-ce2f8f2870dd' path='images/pag_3.md' data='OCR 3' metadata={'image_path': 'images/pag_3.jpg', 'page': 3} parents={'0bab29a7-807f-4468-9018-29f532f4c078'} childrens=set()\n"
     ]
    }
   ],
   "source": [
    "pdf_doc = PDFDocument(path=\"document.pdf\")\n",
    "images = PDF2Images(input=pdf_doc).run()\n",
    "\n",
    "for image in images:\n",
    "    image.save(path=f'images/pag_{image.metadata[\"page\"]}.jpg')\n",
    "    markdown = Image2Markdown(input=image).run()\n",
    "    markdown.save(path=f'images/pag_{image.metadata[\"page\"]}.md')\n",
    "    print(markdown)"
   ]
  },
  {
   "cell_type": "markdown",
   "metadata": {},
   "source": [
    "Now the diversion! Use your document transformer"
   ]
  },
  {
   "cell_type": "code",
   "execution_count": 6,
   "metadata": {},
   "outputs": [
    {
     "name": "stdout",
     "output_type": "stream",
     "text": [
      "Imagen: ada9b8af-b710-42ad-b359-aae7e18e9de5\n",
      "Parents: {'1d2de597-fe25-4342-8aac-630a23c588a1'}\n",
      "Metadata: {'pdf_path': 'document.pdf', 'page': 1, 'size': (1700, 2200)}\n",
      "Imagen: 39342d23-fb80-423b-9bff-acaa65259ff2\n",
      "Parents: {'1d2de597-fe25-4342-8aac-630a23c588a1'}\n",
      "Metadata: {'pdf_path': 'document.pdf', 'page': 2, 'size': (1700, 2200)}\n",
      "Imagen: fd69fe00-eb55-4620-9e25-c68d91a26a60\n",
      "Parents: {'1d2de597-fe25-4342-8aac-630a23c588a1'}\n",
      "Metadata: {'pdf_path': 'document.pdf', 'page': 3, 'size': (1700, 2200)}\n"
     ]
    }
   ],
   "source": [
    "pdf_doc = PDFDocument(path=\"document.pdf\")\n",
    "images = PDF2Images(input=pdf_doc).run()\n",
    "\n",
    "for image in images:\n",
    "    image.save(path=f'images/pag_{image.metadata[\"page\"]}.jpg')\n",
    "    print(f\"Imagen: {image.id}\")\n",
    "    print(f\"Parents: {image.parents}\")\n",
    "    print(f\"Metadata: {image.metadata}\")"
   ]
  },
  {
   "cell_type": "markdown",
   "metadata": {},
   "source": [
    "* If you prefier, you can define a `Pipeline`.\n",
    "* In a list insert each transformer  and plot it!"
   ]
  },
  {
   "cell_type": "code",
   "execution_count": 7,
   "metadata": {},
   "outputs": [
    {
     "data": {
      "image/svg+xml": [
       "<?xml version=\"1.0\" encoding=\"UTF-8\" standalone=\"no\"?>\n",
       "<!DOCTYPE svg PUBLIC \"-//W3C//DTD SVG 1.1//EN\"\n",
       " \"http://www.w3.org/Graphics/SVG/1.1/DTD/svg11.dtd\">\n",
       "<!-- Generated by graphviz version 2.44.0 (0)\n",
       " -->\n",
       "<!-- Pages: 1 -->\n",
       "<svg width=\"647pt\" height=\"241pt\"\n",
       " viewBox=\"0.00 0.00 646.82 241.22\" xmlns=\"http://www.w3.org/2000/svg\" xmlns:xlink=\"http://www.w3.org/1999/xlink\">\n",
       "<g id=\"graph0\" class=\"graph\" transform=\"scale(1 1) rotate(0) translate(4 237.22)\">\n",
       "<polygon fill=\"white\" stroke=\"transparent\" points=\"-4,4 -4,-237.22 642.82,-237.22 642.82,4 -4,4\"/>\n",
       "<!-- 808575d3&#45;b2d9&#45;4e28&#45;b627&#45;679b3655183c -->\n",
       "<g id=\"node1\" class=\"node\">\n",
       "<title>808575d3&#45;b2d9&#45;4e28&#45;b627&#45;679b3655183c</title>\n",
       "<ellipse fill=\"none\" stroke=\"black\" cx=\"319.41\" cy=\"-206.35\" rx=\"74.91\" ry=\"26.74\"/>\n",
       "<text text-anchor=\"middle\" x=\"319.41\" y=\"-210.15\" font-family=\"Times-Roman\" font-size=\"14.00\">PDFDocument</text>\n",
       "<text text-anchor=\"middle\" x=\"319.41\" y=\"-195.15\" font-family=\"Times-Roman\" font-size=\"14.00\">9b3655183c</text>\n",
       "</g>\n",
       "<!-- 8c77845c&#45;b7ca&#45;4fd1&#45;aa66&#45;d92fd5f1340e -->\n",
       "<g id=\"node2\" class=\"node\">\n",
       "<title>8c77845c&#45;b7ca&#45;4fd1&#45;aa66&#45;d92fd5f1340e</title>\n",
       "<ellipse fill=\"none\" stroke=\"black\" cx=\"118.41\" cy=\"-116.61\" rx=\"82.96\" ry=\"26.74\"/>\n",
       "<text text-anchor=\"middle\" x=\"118.41\" y=\"-120.41\" font-family=\"Times-Roman\" font-size=\"14.00\">ImageDocument</text>\n",
       "<text text-anchor=\"middle\" x=\"118.41\" y=\"-105.41\" font-family=\"Times-Roman\" font-size=\"14.00\">2fd5f1340e</text>\n",
       "</g>\n",
       "<!-- 808575d3&#45;b2d9&#45;4e28&#45;b627&#45;679b3655183c&#45;&gt;8c77845c&#45;b7ca&#45;4fd1&#45;aa66&#45;d92fd5f1340e -->\n",
       "<g id=\"edge1\" class=\"edge\">\n",
       "<title>808575d3&#45;b2d9&#45;4e28&#45;b627&#45;679b3655183c&#45;&gt;8c77845c&#45;b7ca&#45;4fd1&#45;aa66&#45;d92fd5f1340e</title>\n",
       "<path fill=\"none\" stroke=\"black\" d=\"M273.04,-185.11C244.15,-172.5 206.75,-156.17 175.96,-142.73\"/>\n",
       "<polygon fill=\"black\" stroke=\"black\" points=\"177.21,-139.46 166.64,-138.66 174.4,-145.87 177.21,-139.46\"/>\n",
       "</g>\n",
       "<!-- 07e1c3c1&#45;e14e&#45;4994&#45;9cf5&#45;7cc952c262f5 -->\n",
       "<g id=\"node3\" class=\"node\">\n",
       "<title>07e1c3c1&#45;e14e&#45;4994&#45;9cf5&#45;7cc952c262f5</title>\n",
       "<ellipse fill=\"none\" stroke=\"black\" cx=\"319.41\" cy=\"-116.61\" rx=\"82.96\" ry=\"26.74\"/>\n",
       "<text text-anchor=\"middle\" x=\"319.41\" y=\"-120.41\" font-family=\"Times-Roman\" font-size=\"14.00\">ImageDocument</text>\n",
       "<text text-anchor=\"middle\" x=\"319.41\" y=\"-105.41\" font-family=\"Times-Roman\" font-size=\"14.00\">c952c262f5</text>\n",
       "</g>\n",
       "<!-- 808575d3&#45;b2d9&#45;4e28&#45;b627&#45;679b3655183c&#45;&gt;07e1c3c1&#45;e14e&#45;4994&#45;9cf5&#45;7cc952c262f5 -->\n",
       "<g id=\"edge2\" class=\"edge\">\n",
       "<title>808575d3&#45;b2d9&#45;4e28&#45;b627&#45;679b3655183c&#45;&gt;07e1c3c1&#45;e14e&#45;4994&#45;9cf5&#45;7cc952c262f5</title>\n",
       "<path fill=\"none\" stroke=\"black\" d=\"M319.41,-179.03C319.41,-171.06 319.41,-162.17 319.41,-153.68\"/>\n",
       "<polygon fill=\"black\" stroke=\"black\" points=\"322.91,-153.61 319.41,-143.61 315.91,-153.61 322.91,-153.61\"/>\n",
       "</g>\n",
       "<!-- c9aa0305&#45;4a79&#45;43b2&#45;8ff1&#45;1560adddd5da -->\n",
       "<g id=\"node4\" class=\"node\">\n",
       "<title>c9aa0305&#45;4a79&#45;43b2&#45;8ff1&#45;1560adddd5da</title>\n",
       "<ellipse fill=\"none\" stroke=\"black\" cx=\"520.41\" cy=\"-116.61\" rx=\"82.96\" ry=\"26.74\"/>\n",
       "<text text-anchor=\"middle\" x=\"520.41\" y=\"-120.41\" font-family=\"Times-Roman\" font-size=\"14.00\">ImageDocument</text>\n",
       "<text text-anchor=\"middle\" x=\"520.41\" y=\"-105.41\" font-family=\"Times-Roman\" font-size=\"14.00\">60adddd5da</text>\n",
       "</g>\n",
       "<!-- 808575d3&#45;b2d9&#45;4e28&#45;b627&#45;679b3655183c&#45;&gt;c9aa0305&#45;4a79&#45;43b2&#45;8ff1&#45;1560adddd5da -->\n",
       "<g id=\"edge3\" class=\"edge\">\n",
       "<title>808575d3&#45;b2d9&#45;4e28&#45;b627&#45;679b3655183c&#45;&gt;c9aa0305&#45;4a79&#45;43b2&#45;8ff1&#45;1560adddd5da</title>\n",
       "<path fill=\"none\" stroke=\"black\" d=\"M365.78,-185.11C394.67,-172.5 432.07,-156.17 462.85,-142.73\"/>\n",
       "<polygon fill=\"black\" stroke=\"black\" points=\"464.41,-145.87 472.18,-138.66 461.61,-139.46 464.41,-145.87\"/>\n",
       "</g>\n",
       "<!-- dc121309&#45;1aed&#45;4ff5&#45;9ce2&#45;34befbbed121 -->\n",
       "<g id=\"node5\" class=\"node\">\n",
       "<title>dc121309&#45;1aed&#45;4ff5&#45;9ce2&#45;34befbbed121</title>\n",
       "<ellipse fill=\"none\" stroke=\"black\" cx=\"100.41\" cy=\"-26.87\" rx=\"100.32\" ry=\"26.74\"/>\n",
       "<text text-anchor=\"middle\" x=\"100.41\" y=\"-30.67\" font-family=\"Times-Roman\" font-size=\"14.00\">MarkdownDocument</text>\n",
       "<text text-anchor=\"middle\" x=\"100.41\" y=\"-15.67\" font-family=\"Times-Roman\" font-size=\"14.00\">befbbed121</text>\n",
       "</g>\n",
       "<!-- 8c77845c&#45;b7ca&#45;4fd1&#45;aa66&#45;d92fd5f1340e&#45;&gt;dc121309&#45;1aed&#45;4ff5&#45;9ce2&#45;34befbbed121 -->\n",
       "<g id=\"edge4\" class=\"edge\">\n",
       "<title>8c77845c&#45;b7ca&#45;4fd1&#45;aa66&#45;d92fd5f1340e&#45;&gt;dc121309&#45;1aed&#45;4ff5&#45;9ce2&#45;34befbbed121</title>\n",
       "<path fill=\"none\" stroke=\"black\" d=\"M113.11,-89.76C111.44,-81.62 109.56,-72.48 107.78,-63.77\"/>\n",
       "<polygon fill=\"black\" stroke=\"black\" points=\"111.18,-62.93 105.74,-53.84 104.32,-64.34 111.18,-62.93\"/>\n",
       "</g>\n",
       "<!-- a51dfbb3&#45;74ad&#45;4d2f&#45;8f6c&#45;b57630c29feb -->\n",
       "<g id=\"node6\" class=\"node\">\n",
       "<title>a51dfbb3&#45;74ad&#45;4d2f&#45;8f6c&#45;b57630c29feb</title>\n",
       "<ellipse fill=\"none\" stroke=\"black\" cx=\"319.41\" cy=\"-26.87\" rx=\"100.32\" ry=\"26.74\"/>\n",
       "<text text-anchor=\"middle\" x=\"319.41\" y=\"-30.67\" font-family=\"Times-Roman\" font-size=\"14.00\">MarkdownDocument</text>\n",
       "<text text-anchor=\"middle\" x=\"319.41\" y=\"-15.67\" font-family=\"Times-Roman\" font-size=\"14.00\">7630c29feb</text>\n",
       "</g>\n",
       "<!-- 07e1c3c1&#45;e14e&#45;4994&#45;9cf5&#45;7cc952c262f5&#45;&gt;a51dfbb3&#45;74ad&#45;4d2f&#45;8f6c&#45;b57630c29feb -->\n",
       "<g id=\"edge5\" class=\"edge\">\n",
       "<title>07e1c3c1&#45;e14e&#45;4994&#45;9cf5&#45;7cc952c262f5&#45;&gt;a51dfbb3&#45;74ad&#45;4d2f&#45;8f6c&#45;b57630c29feb</title>\n",
       "<path fill=\"none\" stroke=\"black\" d=\"M319.41,-89.29C319.41,-81.32 319.41,-72.43 319.41,-63.94\"/>\n",
       "<polygon fill=\"black\" stroke=\"black\" points=\"322.91,-63.87 319.41,-53.87 315.91,-63.87 322.91,-63.87\"/>\n",
       "</g>\n",
       "<!-- f5ab6ccf&#45;a99a&#45;4798&#45;9c9c&#45;aa32362702ad -->\n",
       "<g id=\"node7\" class=\"node\">\n",
       "<title>f5ab6ccf&#45;a99a&#45;4798&#45;9c9c&#45;aa32362702ad</title>\n",
       "<ellipse fill=\"none\" stroke=\"black\" cx=\"538.41\" cy=\"-26.87\" rx=\"100.32\" ry=\"26.74\"/>\n",
       "<text text-anchor=\"middle\" x=\"538.41\" y=\"-30.67\" font-family=\"Times-Roman\" font-size=\"14.00\">MarkdownDocument</text>\n",
       "<text text-anchor=\"middle\" x=\"538.41\" y=\"-15.67\" font-family=\"Times-Roman\" font-size=\"14.00\">32362702ad</text>\n",
       "</g>\n",
       "<!-- c9aa0305&#45;4a79&#45;43b2&#45;8ff1&#45;1560adddd5da&#45;&gt;f5ab6ccf&#45;a99a&#45;4798&#45;9c9c&#45;aa32362702ad -->\n",
       "<g id=\"edge6\" class=\"edge\">\n",
       "<title>c9aa0305&#45;4a79&#45;43b2&#45;8ff1&#45;1560adddd5da&#45;&gt;f5ab6ccf&#45;a99a&#45;4798&#45;9c9c&#45;aa32362702ad</title>\n",
       "<path fill=\"none\" stroke=\"black\" d=\"M525.71,-89.76C527.38,-81.62 529.26,-72.48 531.04,-63.77\"/>\n",
       "<polygon fill=\"black\" stroke=\"black\" points=\"534.5,-64.34 533.08,-53.84 527.64,-62.93 534.5,-64.34\"/>\n",
       "</g>\n",
       "</g>\n",
       "</svg>\n"
      ],
      "text/plain": [
       "<graphviz.sources.Source at 0x7f6a800c6e50>"
      ]
     },
     "execution_count": 7,
     "metadata": {},
     "output_type": "execute_result"
    }
   ],
   "source": [
    "from document_transformer import Pipeline\n",
    "from document_transformer.utils import plot_graph\n",
    "\n",
    "pdf_doc = PDFDocument(path=\"document.pdf\")\n",
    "pipeline = Pipeline(transformers=[PDF2Images(), Image2Markdown()])\n",
    "markdowns = pipeline.run(input=pdf_doc)\n",
    "plot_graph(pipeline.get_traces())"
   ]
  },
  {
   "cell_type": "markdown",
   "metadata": {},
   "source": [
    "All is ok?\n",
    "Save only markdowns!"
   ]
  },
  {
   "cell_type": "code",
   "execution_count": 8,
   "metadata": {},
   "outputs": [],
   "source": [
    "for markdown in markdowns:\n",
    "    markdown.save(path=f'images/pag_{markdown.metadata[\"page\"]}.md')"
   ]
  },
  {
   "cell_type": "markdown",
   "metadata": {},
   "source": [
    "But if you prefer, you can instruct from Pipeline directly!"
   ]
  },
  {
   "cell_type": "code",
   "execution_count": 9,
   "metadata": {},
   "outputs": [
    {
     "data": {
      "text/plain": [
       "[MarkdownDocument(id='89e770b1-f2a1-4f0b-8c9c-2b84f172a27c', path='images/pag_1.md', data='OCR 1', metadata={'image_path': None, 'page': 1}, parents={'5b4f6a03-6a88-446c-8a0c-72590ce6c963'}, childrens=set()),\n",
       " MarkdownDocument(id='b7584177-842d-4988-a9ca-764ea8f9dec8', path='images/pag_2.md', data='OCR 2', metadata={'image_path': None, 'page': 2}, parents={'8b151c46-4501-46c8-8ce5-9147c3b4ced6'}, childrens=set()),\n",
       " MarkdownDocument(id='eda63fe8-4fec-45e7-9b2d-ad8359261e1d', path='images/pag_3.md', data='OCR 3', metadata={'image_path': None, 'page': 3}, parents={'4d1f232d-e737-4b6e-9a78-898a73df6812'}, childrens=set())]"
      ]
     },
     "execution_count": 9,
     "metadata": {},
     "output_type": "execute_result"
    }
   ],
   "source": [
    "pdf_doc = PDFDocument(path=\"document.pdf\")\n",
    "pipeline = Pipeline(transformers=[\n",
    "    PDF2Images(),\n",
    "    Image2Markdown(to='images/pag_{metadata[page]}.md')\n",
    "])\n",
    "\n",
    "pipeline.run(input=pdf_doc)"
   ]
  },
  {
   "cell_type": "markdown",
   "metadata": {},
   "source": [
    "## Combine markdowns\n",
    "\n",
    "Now, we are going to merge the markdowns. For that we need to increase the skills of `MarkdownDocument`. Let me define the `appender` method."
   ]
  },
  {
   "cell_type": "code",
   "execution_count": 10,
   "metadata": {},
   "outputs": [],
   "source": [
    "class MarkdownDocument(Document):\n",
    "    data: str = ''\n",
    "    def saver(self, path):\n",
    "        with open(path, 'w') as file:\n",
    "            file.write(self.data)\n",
    "        return self\n",
    "\n",
    "    def appender(self, other):\n",
    "        \"\"\"Append other markdown document content to this one\"\"\"\n",
    "        self.data += other.data + '\\n'\n",
    "        return self\n"
   ]
  },
  {
   "cell_type": "markdown",
   "metadata": {},
   "source": [
    "That is all, now we can to append each markdown document to another"
   ]
  },
  {
   "cell_type": "code",
   "execution_count": 11,
   "metadata": {},
   "outputs": [
    {
     "data": {
      "text/plain": [
       "MarkdownDocument(id='bd016f9f-9423-4bea-b2cd-452f48ff7e12', path='document.md', data='OCR 1\\nOCR 2\\nOCR 3\\n', metadata={}, parents={'b4232146-8306-476f-b091-4e42bb07179f', '766f95a7-b3a9-4439-b1e6-2df07a92ad53', 'b7767ed3-dfc5-42b4-98cb-7b16e946857f'}, childrens=set())"
      ]
     },
     "execution_count": 11,
     "metadata": {},
     "output_type": "execute_result"
    }
   ],
   "source": [
    "# create images\n",
    "pdf_doc = PDFDocument(path=\"document.pdf\")\n",
    "images = PDF2Images(input=pdf_doc).run()\n",
    "\n",
    "# Initialize the markdown document\n",
    "markdown_doc = MarkdownDocument()\n",
    "for image in images:\n",
    "    path = f'images/pag_{image.metadata[\"page\"]}'\n",
    "    image.save(path=path + '.jpg')\n",
    "    markdown = Image2Markdown(input=image).run().save(path=path + '.md')\n",
    "    markdown_doc.append(markdown)\n",
    "\n",
    "markdown_doc.save(path=\"document.md\")"
   ]
  },
  {
   "cell_type": "markdown",
   "metadata": {},
   "source": [
    "The library supports initializing an empty list and combining markdown documents at the end\n"
   ]
  },
  {
   "cell_type": "code",
   "execution_count": 12,
   "metadata": {},
   "outputs": [
    {
     "data": {
      "text/plain": [
       "MarkdownDocument(id='82f9db83-b6b8-4c27-b4a5-3a4cd13048c2', path='document.md', data='OCR 1\\nOCR 2\\nOCR 3\\n', metadata={}, parents={'eaf83e45-b025-4625-8d92-b5030fb06030', 'ecf0ac69-963a-4c91-9165-96e6aadcf70d', 'c9b7082a-08e6-4d3e-a44a-c7f25fd54956'}, childrens=set())"
      ]
     },
     "execution_count": 12,
     "metadata": {},
     "output_type": "execute_result"
    }
   ],
   "source": [
    "\n",
    "pdf_doc = PDFDocument(path=\"document.pdf\")\n",
    "images = PDF2Images(input=pdf_doc).run()\n",
    "\n",
    "# initialize an empty list of markdowns\n",
    "markdowns = []\n",
    "for image in images:\n",
    "    path = f'images/pag_{image.metadata[\"page\"]}'\n",
    "    image.save(path=path + '.jpg')\n",
    "    markdown = Image2Markdown(input=image).run().save(path=path + '.md')\n",
    "    markdowns.append(markdown)\n",
    "\n",
    "# Combine them into a single markdown document and save it\n",
    "markdown_doc = MarkdownDocument().extend(markdowns)\n",
    "markdown_doc.save(path=\"document.md\")"
   ]
  },
  {
   "cell_type": "markdown",
   "metadata": {},
   "source": [
    "Alternatively, you can always create a `DocumentTransformer` class to handle this task\n"
   ]
  },
  {
   "cell_type": "code",
   "execution_count": 13,
   "metadata": {},
   "outputs": [
    {
     "data": {
      "text/plain": [
       "MarkdownDocument(id='6ef0a3a9-17d0-4739-bfce-c14064f38ee7', path='document.md', data='OCR 1\\nOCR 2\\nOCR 3\\n', metadata={}, parents={'56cfb795-8f7e-489e-81ce-319e5d42a93e', '0dc61975-6236-467e-a578-cf9b0598728c', 'c496eca0-50b7-4c1d-89e9-144ee50818eb'}, childrens=set())"
      ]
     },
     "execution_count": 13,
     "metadata": {},
     "output_type": "execute_result"
    }
   ],
   "source": [
    "class CombineMarkdowns(DocumentTransformer):\n",
    "    input: List[MarkdownDocument] = []\n",
    "    output: MarkdownDocument = None\n",
    "\n",
    "    def transformer(self):\n",
    "        return MarkdownDocument().extend(self.input)\n",
    "\n",
    "pdf_doc = PDFDocument(path=\"document.pdf\")\n",
    "images = PDF2Images(input=pdf_doc).run()\n",
    "\n",
    "markdowns = []\n",
    "for image in images:\n",
    "    path = f'images/pag_{image.metadata[\"page\"]}'\n",
    "    image.save(path=path + '.jpg')\n",
    "    markdown = Image2Markdown(input=image).run().save(path=path + '.md')\n",
    "    markdowns.append(markdown)\n",
    "\n",
    "markdown_doc = CombineMarkdowns(input=markdowns).run()\n",
    "markdown_doc.save(path=\"document.md\")"
   ]
  },
  {
   "cell_type": "markdown",
   "metadata": {},
   "source": [
    "Which brings a reward! Now you can extend your Pipeline"
   ]
  },
  {
   "cell_type": "code",
   "execution_count": 14,
   "metadata": {},
   "outputs": [
    {
     "data": {
      "image/svg+xml": [
       "<?xml version=\"1.0\" encoding=\"UTF-8\" standalone=\"no\"?>\n",
       "<!DOCTYPE svg PUBLIC \"-//W3C//DTD SVG 1.1//EN\"\n",
       " \"http://www.w3.org/Graphics/SVG/1.1/DTD/svg11.dtd\">\n",
       "<!-- Generated by graphviz version 2.44.0 (0)\n",
       " -->\n",
       "<!-- Pages: 1 -->\n",
       "<svg width=\"647pt\" height=\"331pt\"\n",
       " viewBox=\"0.00 0.00 646.82 330.96\" xmlns=\"http://www.w3.org/2000/svg\" xmlns:xlink=\"http://www.w3.org/1999/xlink\">\n",
       "<g id=\"graph0\" class=\"graph\" transform=\"scale(1 1) rotate(0) translate(4 326.96)\">\n",
       "<polygon fill=\"white\" stroke=\"transparent\" points=\"-4,4 -4,-326.96 642.82,-326.96 642.82,4 -4,4\"/>\n",
       "<!-- 9bd8d13b&#45;66ef&#45;4ed9&#45;88c0&#45;0b62d40d54e9 -->\n",
       "<g id=\"node1\" class=\"node\">\n",
       "<title>9bd8d13b&#45;66ef&#45;4ed9&#45;88c0&#45;0b62d40d54e9</title>\n",
       "<ellipse fill=\"none\" stroke=\"black\" cx=\"319.41\" cy=\"-296.09\" rx=\"74.91\" ry=\"26.74\"/>\n",
       "<text text-anchor=\"middle\" x=\"319.41\" y=\"-299.89\" font-family=\"Times-Roman\" font-size=\"14.00\">PDFDocument</text>\n",
       "<text text-anchor=\"middle\" x=\"319.41\" y=\"-284.89\" font-family=\"Times-Roman\" font-size=\"14.00\">62d40d54e9</text>\n",
       "</g>\n",
       "<!-- 103f92cf&#45;ec99&#45;42ae&#45;b925&#45;347a01455aab -->\n",
       "<g id=\"node2\" class=\"node\">\n",
       "<title>103f92cf&#45;ec99&#45;42ae&#45;b925&#45;347a01455aab</title>\n",
       "<ellipse fill=\"none\" stroke=\"black\" cx=\"118.41\" cy=\"-206.35\" rx=\"82.96\" ry=\"26.74\"/>\n",
       "<text text-anchor=\"middle\" x=\"118.41\" y=\"-210.15\" font-family=\"Times-Roman\" font-size=\"14.00\">ImageDocument</text>\n",
       "<text text-anchor=\"middle\" x=\"118.41\" y=\"-195.15\" font-family=\"Times-Roman\" font-size=\"14.00\">7a01455aab</text>\n",
       "</g>\n",
       "<!-- 9bd8d13b&#45;66ef&#45;4ed9&#45;88c0&#45;0b62d40d54e9&#45;&gt;103f92cf&#45;ec99&#45;42ae&#45;b925&#45;347a01455aab -->\n",
       "<g id=\"edge1\" class=\"edge\">\n",
       "<title>9bd8d13b&#45;66ef&#45;4ed9&#45;88c0&#45;0b62d40d54e9&#45;&gt;103f92cf&#45;ec99&#45;42ae&#45;b925&#45;347a01455aab</title>\n",
       "<path fill=\"none\" stroke=\"black\" d=\"M273.04,-274.85C244.15,-262.24 206.75,-245.91 175.96,-232.47\"/>\n",
       "<polygon fill=\"black\" stroke=\"black\" points=\"177.21,-229.2 166.64,-228.4 174.4,-235.61 177.21,-229.2\"/>\n",
       "</g>\n",
       "<!-- 37274468&#45;50ca&#45;4628&#45;9a4c&#45;cd418a6bca1b -->\n",
       "<g id=\"node3\" class=\"node\">\n",
       "<title>37274468&#45;50ca&#45;4628&#45;9a4c&#45;cd418a6bca1b</title>\n",
       "<ellipse fill=\"none\" stroke=\"black\" cx=\"319.41\" cy=\"-206.35\" rx=\"82.96\" ry=\"26.74\"/>\n",
       "<text text-anchor=\"middle\" x=\"319.41\" y=\"-210.15\" font-family=\"Times-Roman\" font-size=\"14.00\">ImageDocument</text>\n",
       "<text text-anchor=\"middle\" x=\"319.41\" y=\"-195.15\" font-family=\"Times-Roman\" font-size=\"14.00\">418a6bca1b</text>\n",
       "</g>\n",
       "<!-- 9bd8d13b&#45;66ef&#45;4ed9&#45;88c0&#45;0b62d40d54e9&#45;&gt;37274468&#45;50ca&#45;4628&#45;9a4c&#45;cd418a6bca1b -->\n",
       "<g id=\"edge2\" class=\"edge\">\n",
       "<title>9bd8d13b&#45;66ef&#45;4ed9&#45;88c0&#45;0b62d40d54e9&#45;&gt;37274468&#45;50ca&#45;4628&#45;9a4c&#45;cd418a6bca1b</title>\n",
       "<path fill=\"none\" stroke=\"black\" d=\"M319.41,-268.77C319.41,-260.8 319.41,-251.91 319.41,-243.42\"/>\n",
       "<polygon fill=\"black\" stroke=\"black\" points=\"322.91,-243.35 319.41,-233.35 315.91,-243.35 322.91,-243.35\"/>\n",
       "</g>\n",
       "<!-- fe48ba49&#45;fad4&#45;4461&#45;a36a&#45;0728d77dda1b -->\n",
       "<g id=\"node4\" class=\"node\">\n",
       "<title>fe48ba49&#45;fad4&#45;4461&#45;a36a&#45;0728d77dda1b</title>\n",
       "<ellipse fill=\"none\" stroke=\"black\" cx=\"520.41\" cy=\"-206.35\" rx=\"82.96\" ry=\"26.74\"/>\n",
       "<text text-anchor=\"middle\" x=\"520.41\" y=\"-210.15\" font-family=\"Times-Roman\" font-size=\"14.00\">ImageDocument</text>\n",
       "<text text-anchor=\"middle\" x=\"520.41\" y=\"-195.15\" font-family=\"Times-Roman\" font-size=\"14.00\">28d77dda1b</text>\n",
       "</g>\n",
       "<!-- 9bd8d13b&#45;66ef&#45;4ed9&#45;88c0&#45;0b62d40d54e9&#45;&gt;fe48ba49&#45;fad4&#45;4461&#45;a36a&#45;0728d77dda1b -->\n",
       "<g id=\"edge3\" class=\"edge\">\n",
       "<title>9bd8d13b&#45;66ef&#45;4ed9&#45;88c0&#45;0b62d40d54e9&#45;&gt;fe48ba49&#45;fad4&#45;4461&#45;a36a&#45;0728d77dda1b</title>\n",
       "<path fill=\"none\" stroke=\"black\" d=\"M365.78,-274.85C394.67,-262.24 432.07,-245.91 462.85,-232.47\"/>\n",
       "<polygon fill=\"black\" stroke=\"black\" points=\"464.41,-235.61 472.18,-228.4 461.61,-229.2 464.41,-235.61\"/>\n",
       "</g>\n",
       "<!-- af047b95&#45;cb44&#45;4d98&#45;9cff&#45;21a3a036bda1 -->\n",
       "<g id=\"node5\" class=\"node\">\n",
       "<title>af047b95&#45;cb44&#45;4d98&#45;9cff&#45;21a3a036bda1</title>\n",
       "<ellipse fill=\"none\" stroke=\"black\" cx=\"100.41\" cy=\"-116.61\" rx=\"100.32\" ry=\"26.74\"/>\n",
       "<text text-anchor=\"middle\" x=\"100.41\" y=\"-120.41\" font-family=\"Times-Roman\" font-size=\"14.00\">MarkdownDocument</text>\n",
       "<text text-anchor=\"middle\" x=\"100.41\" y=\"-105.41\" font-family=\"Times-Roman\" font-size=\"14.00\">a3a036bda1</text>\n",
       "</g>\n",
       "<!-- 103f92cf&#45;ec99&#45;42ae&#45;b925&#45;347a01455aab&#45;&gt;af047b95&#45;cb44&#45;4d98&#45;9cff&#45;21a3a036bda1 -->\n",
       "<g id=\"edge4\" class=\"edge\">\n",
       "<title>103f92cf&#45;ec99&#45;42ae&#45;b925&#45;347a01455aab&#45;&gt;af047b95&#45;cb44&#45;4d98&#45;9cff&#45;21a3a036bda1</title>\n",
       "<path fill=\"none\" stroke=\"black\" d=\"M113.11,-179.5C111.44,-171.36 109.56,-162.22 107.78,-153.51\"/>\n",
       "<polygon fill=\"black\" stroke=\"black\" points=\"111.18,-152.67 105.74,-143.58 104.32,-154.08 111.18,-152.67\"/>\n",
       "</g>\n",
       "<!-- 173e9959&#45;96ce&#45;43f6&#45;8e99&#45;fad48d684643 -->\n",
       "<g id=\"node7\" class=\"node\">\n",
       "<title>173e9959&#45;96ce&#45;43f6&#45;8e99&#45;fad48d684643</title>\n",
       "<ellipse fill=\"none\" stroke=\"black\" cx=\"319.41\" cy=\"-116.61\" rx=\"100.32\" ry=\"26.74\"/>\n",
       "<text text-anchor=\"middle\" x=\"319.41\" y=\"-120.41\" font-family=\"Times-Roman\" font-size=\"14.00\">MarkdownDocument</text>\n",
       "<text text-anchor=\"middle\" x=\"319.41\" y=\"-105.41\" font-family=\"Times-Roman\" font-size=\"14.00\">d48d684643</text>\n",
       "</g>\n",
       "<!-- 37274468&#45;50ca&#45;4628&#45;9a4c&#45;cd418a6bca1b&#45;&gt;173e9959&#45;96ce&#45;43f6&#45;8e99&#45;fad48d684643 -->\n",
       "<g id=\"edge6\" class=\"edge\">\n",
       "<title>37274468&#45;50ca&#45;4628&#45;9a4c&#45;cd418a6bca1b&#45;&gt;173e9959&#45;96ce&#45;43f6&#45;8e99&#45;fad48d684643</title>\n",
       "<path fill=\"none\" stroke=\"black\" d=\"M319.41,-179.03C319.41,-171.06 319.41,-162.17 319.41,-153.68\"/>\n",
       "<polygon fill=\"black\" stroke=\"black\" points=\"322.91,-153.61 319.41,-143.61 315.91,-153.61 322.91,-153.61\"/>\n",
       "</g>\n",
       "<!-- beb44ad0&#45;a03d&#45;44d1&#45;988b&#45;d95e1a94cae0 -->\n",
       "<g id=\"node6\" class=\"node\">\n",
       "<title>beb44ad0&#45;a03d&#45;44d1&#45;988b&#45;d95e1a94cae0</title>\n",
       "<ellipse fill=\"none\" stroke=\"black\" cx=\"538.41\" cy=\"-116.61\" rx=\"100.32\" ry=\"26.74\"/>\n",
       "<text text-anchor=\"middle\" x=\"538.41\" y=\"-120.41\" font-family=\"Times-Roman\" font-size=\"14.00\">MarkdownDocument</text>\n",
       "<text text-anchor=\"middle\" x=\"538.41\" y=\"-105.41\" font-family=\"Times-Roman\" font-size=\"14.00\">5e1a94cae0</text>\n",
       "</g>\n",
       "<!-- fe48ba49&#45;fad4&#45;4461&#45;a36a&#45;0728d77dda1b&#45;&gt;beb44ad0&#45;a03d&#45;44d1&#45;988b&#45;d95e1a94cae0 -->\n",
       "<g id=\"edge5\" class=\"edge\">\n",
       "<title>fe48ba49&#45;fad4&#45;4461&#45;a36a&#45;0728d77dda1b&#45;&gt;beb44ad0&#45;a03d&#45;44d1&#45;988b&#45;d95e1a94cae0</title>\n",
       "<path fill=\"none\" stroke=\"black\" d=\"M525.71,-179.5C527.38,-171.36 529.26,-162.22 531.04,-153.51\"/>\n",
       "<polygon fill=\"black\" stroke=\"black\" points=\"534.5,-154.08 533.08,-143.58 527.64,-152.67 534.5,-154.08\"/>\n",
       "</g>\n",
       "<!-- f9e9d843&#45;7c83&#45;48e2&#45;866c&#45;fd2e81b8338a -->\n",
       "<g id=\"node8\" class=\"node\">\n",
       "<title>f9e9d843&#45;7c83&#45;48e2&#45;866c&#45;fd2e81b8338a</title>\n",
       "<ellipse fill=\"none\" stroke=\"black\" cx=\"319.41\" cy=\"-26.87\" rx=\"100.32\" ry=\"26.74\"/>\n",
       "<text text-anchor=\"middle\" x=\"319.41\" y=\"-30.67\" font-family=\"Times-Roman\" font-size=\"14.00\">MarkdownDocument</text>\n",
       "<text text-anchor=\"middle\" x=\"319.41\" y=\"-15.67\" font-family=\"Times-Roman\" font-size=\"14.00\">2e81b8338a</text>\n",
       "</g>\n",
       "<!-- af047b95&#45;cb44&#45;4d98&#45;9cff&#45;21a3a036bda1&#45;&gt;f9e9d843&#45;7c83&#45;48e2&#45;866c&#45;fd2e81b8338a -->\n",
       "<g id=\"edge7\" class=\"edge\">\n",
       "<title>af047b95&#45;cb44&#45;4d98&#45;9cff&#45;21a3a036bda1&#45;&gt;f9e9d843&#45;7c83&#45;48e2&#45;866c&#45;fd2e81b8338a</title>\n",
       "<path fill=\"none\" stroke=\"black\" d=\"M154.54,-93.92C185.21,-81.64 223.74,-66.2 255.83,-53.34\"/>\n",
       "<polygon fill=\"black\" stroke=\"black\" points=\"257.16,-56.58 265.14,-49.61 254.55,-50.08 257.16,-56.58\"/>\n",
       "</g>\n",
       "<!-- beb44ad0&#45;a03d&#45;44d1&#45;988b&#45;d95e1a94cae0&#45;&gt;f9e9d843&#45;7c83&#45;48e2&#45;866c&#45;fd2e81b8338a -->\n",
       "<g id=\"edge8\" class=\"edge\">\n",
       "<title>beb44ad0&#45;a03d&#45;44d1&#45;988b&#45;d95e1a94cae0&#45;&gt;f9e9d843&#45;7c83&#45;48e2&#45;866c&#45;fd2e81b8338a</title>\n",
       "<path fill=\"none\" stroke=\"black\" d=\"M484.27,-93.92C453.61,-81.64 415.08,-66.2 382.98,-53.34\"/>\n",
       "<polygon fill=\"black\" stroke=\"black\" points=\"384.26,-50.08 373.68,-49.61 381.66,-56.58 384.26,-50.08\"/>\n",
       "</g>\n",
       "<!-- 173e9959&#45;96ce&#45;43f6&#45;8e99&#45;fad48d684643&#45;&gt;f9e9d843&#45;7c83&#45;48e2&#45;866c&#45;fd2e81b8338a -->\n",
       "<g id=\"edge9\" class=\"edge\">\n",
       "<title>173e9959&#45;96ce&#45;43f6&#45;8e99&#45;fad48d684643&#45;&gt;f9e9d843&#45;7c83&#45;48e2&#45;866c&#45;fd2e81b8338a</title>\n",
       "<path fill=\"none\" stroke=\"black\" d=\"M319.41,-89.29C319.41,-81.32 319.41,-72.43 319.41,-63.94\"/>\n",
       "<polygon fill=\"black\" stroke=\"black\" points=\"322.91,-63.87 319.41,-53.87 315.91,-63.87 322.91,-63.87\"/>\n",
       "</g>\n",
       "</g>\n",
       "</svg>\n"
      ],
      "text/plain": [
       "<graphviz.sources.Source at 0x7f6a70296640>"
      ]
     },
     "execution_count": 14,
     "metadata": {},
     "output_type": "execute_result"
    }
   ],
   "source": [
    "# Define Pipeline\n",
    "pipeline = Pipeline(transformers=[\n",
    "    PDF2Images(), Image2Markdown(), CombineMarkdowns()\n",
    "])\n",
    "\n",
    "# Run and visualize it!\n",
    "pdf_doc = PDFDocument(path=\"document.pdf\")\n",
    "markdown_doc = pipeline.run(input=pdf_doc)\n",
    "plot_graph(pipeline.get_traces())"
   ]
  },
  {
   "cell_type": "code",
   "execution_count": 15,
   "metadata": {},
   "outputs": [
    {
     "data": {
      "text/plain": [
       "[{'id': '9bd8d13b-66ef-4ed9-88c0-0b62d40d54e9',\n",
       "  'path': 'document.pdf',\n",
       "  'type': 'PDFDocument',\n",
       "  'childrens': ['103f92cf-ec99-42ae-b925-347a01455aab',\n",
       "   '37274468-50ca-4628-9a4c-cd418a6bca1b',\n",
       "   'fe48ba49-fad4-4461-a36a-0728d77dda1b'],\n",
       "  'parents': []},\n",
       " {'id': '103f92cf-ec99-42ae-b925-347a01455aab',\n",
       "  'path': None,\n",
       "  'type': 'ImageDocument',\n",
       "  'childrens': ['af047b95-cb44-4d98-9cff-21a3a036bda1'],\n",
       "  'parents': ['9bd8d13b-66ef-4ed9-88c0-0b62d40d54e9']},\n",
       " {'id': 'fe48ba49-fad4-4461-a36a-0728d77dda1b',\n",
       "  'path': None,\n",
       "  'type': 'ImageDocument',\n",
       "  'childrens': ['beb44ad0-a03d-44d1-988b-d95e1a94cae0'],\n",
       "  'parents': ['9bd8d13b-66ef-4ed9-88c0-0b62d40d54e9']},\n",
       " {'id': '37274468-50ca-4628-9a4c-cd418a6bca1b',\n",
       "  'path': None,\n",
       "  'type': 'ImageDocument',\n",
       "  'childrens': ['173e9959-96ce-43f6-8e99-fad48d684643'],\n",
       "  'parents': ['9bd8d13b-66ef-4ed9-88c0-0b62d40d54e9']},\n",
       " {'id': 'af047b95-cb44-4d98-9cff-21a3a036bda1',\n",
       "  'path': None,\n",
       "  'type': 'MarkdownDocument',\n",
       "  'childrens': ['f9e9d843-7c83-48e2-866c-fd2e81b8338a'],\n",
       "  'parents': ['103f92cf-ec99-42ae-b925-347a01455aab']},\n",
       " {'id': 'beb44ad0-a03d-44d1-988b-d95e1a94cae0',\n",
       "  'path': None,\n",
       "  'type': 'MarkdownDocument',\n",
       "  'childrens': ['f9e9d843-7c83-48e2-866c-fd2e81b8338a'],\n",
       "  'parents': ['fe48ba49-fad4-4461-a36a-0728d77dda1b']},\n",
       " {'id': '173e9959-96ce-43f6-8e99-fad48d684643',\n",
       "  'path': None,\n",
       "  'type': 'MarkdownDocument',\n",
       "  'childrens': ['f9e9d843-7c83-48e2-866c-fd2e81b8338a'],\n",
       "  'parents': ['37274468-50ca-4628-9a4c-cd418a6bca1b']},\n",
       " {'id': 'f9e9d843-7c83-48e2-866c-fd2e81b8338a',\n",
       "  'path': None,\n",
       "  'type': 'MarkdownDocument',\n",
       "  'childrens': [],\n",
       "  'parents': ['173e9959-96ce-43f6-8e99-fad48d684643',\n",
       "   'af047b95-cb44-4d98-9cff-21a3a036bda1',\n",
       "   'beb44ad0-a03d-44d1-988b-d95e1a94cae0']}]"
      ]
     },
     "execution_count": 15,
     "metadata": {},
     "output_type": "execute_result"
    }
   ],
   "source": [
    "pipeline.get_traces()"
   ]
  },
  {
   "cell_type": "markdown",
   "metadata": {},
   "source": [
    "Remember, if you need to save each part, you can specify it in the Pipeline\n"
   ]
  },
  {
   "cell_type": "code",
   "execution_count": 16,
   "metadata": {},
   "outputs": [
    {
     "data": {
      "text/plain": [
       "MarkdownDocument(id='8064184f-8dea-46ec-a122-eceb67247954', path='document.md', data='OCR 1\\nOCR 2\\nOCR 3\\n', metadata={}, parents={'f07ef07b-c0a8-4bc4-9c50-7580e4af4458', '1b635c87-66ac-4394-bc46-6a987377b2b6', 'd90ea034-b2ef-4c19-bdb9-6e364621913c'}, childrens=set())"
      ]
     },
     "execution_count": 16,
     "metadata": {},
     "output_type": "execute_result"
    }
   ],
   "source": [
    "# Define Pipeline\n",
    "pipeline = Pipeline(transformers=[\n",
    "    PDF2Images(to='images/pag_{metadata[page]}.jpg'),\n",
    "    Image2Markdown(to='images/pag_{metadata[page]}.md'),\n",
    "    CombineMarkdowns(to='document.md')\n",
    "])\n",
    "\n",
    "# Run it!\n",
    "pdf_doc = PDFDocument(path=\"document.pdf\")\n",
    "pipeline.run(input=pdf_doc)"
   ]
  },
  {
   "cell_type": "markdown",
   "metadata": {},
   "source": [
    "## All togheter!\n",
    "\n",
    "Next all definitions and final Pipeline. Insert more than one input document if you need it!"
   ]
  },
  {
   "cell_type": "code",
   "execution_count": 17,
   "metadata": {},
   "outputs": [
    {
     "data": {
      "image/svg+xml": [
       "<?xml version=\"1.0\" encoding=\"UTF-8\" standalone=\"no\"?>\n",
       "<!DOCTYPE svg PUBLIC \"-//W3C//DTD SVG 1.1//EN\"\n",
       " \"http://www.w3.org/Graphics/SVG/1.1/DTD/svg11.dtd\">\n",
       "<!-- Generated by graphviz version 2.44.0 (0)\n",
       " -->\n",
       "<!-- Pages: 1 -->\n",
       "<svg width=\"1304pt\" height=\"331pt\"\n",
       " viewBox=\"0.00 0.00 1303.82 330.96\" xmlns=\"http://www.w3.org/2000/svg\" xmlns:xlink=\"http://www.w3.org/1999/xlink\">\n",
       "<g id=\"graph0\" class=\"graph\" transform=\"scale(1 1) rotate(0) translate(4 326.96)\">\n",
       "<polygon fill=\"white\" stroke=\"transparent\" points=\"-4,4 -4,-326.96 1299.82,-326.96 1299.82,4 -4,4\"/>\n",
       "<!-- 3e348365&#45;3a37&#45;46c5&#45;a8bc&#45;6812e3e6bd83 -->\n",
       "<g id=\"node1\" class=\"node\">\n",
       "<title>3e348365&#45;3a37&#45;46c5&#45;a8bc&#45;6812e3e6bd83</title>\n",
       "<ellipse fill=\"none\" stroke=\"black\" cx=\"319.41\" cy=\"-296.09\" rx=\"74.91\" ry=\"26.74\"/>\n",
       "<text text-anchor=\"middle\" x=\"319.41\" y=\"-299.89\" font-family=\"Times-Roman\" font-size=\"14.00\">PDFDocument</text>\n",
       "<text text-anchor=\"middle\" x=\"319.41\" y=\"-284.89\" font-family=\"Times-Roman\" font-size=\"14.00\">12e3e6bd83</text>\n",
       "</g>\n",
       "<!-- 78b1fe81&#45;90d5&#45;4b77&#45;9017&#45;3a831ef73387 -->\n",
       "<g id=\"node2\" class=\"node\">\n",
       "<title>78b1fe81&#45;90d5&#45;4b77&#45;9017&#45;3a831ef73387</title>\n",
       "<ellipse fill=\"none\" stroke=\"black\" cx=\"118.41\" cy=\"-206.35\" rx=\"82.96\" ry=\"26.74\"/>\n",
       "<text text-anchor=\"middle\" x=\"118.41\" y=\"-210.15\" font-family=\"Times-Roman\" font-size=\"14.00\">ImageDocument</text>\n",
       "<text text-anchor=\"middle\" x=\"118.41\" y=\"-195.15\" font-family=\"Times-Roman\" font-size=\"14.00\">831ef73387</text>\n",
       "</g>\n",
       "<!-- 3e348365&#45;3a37&#45;46c5&#45;a8bc&#45;6812e3e6bd83&#45;&gt;78b1fe81&#45;90d5&#45;4b77&#45;9017&#45;3a831ef73387 -->\n",
       "<g id=\"edge1\" class=\"edge\">\n",
       "<title>3e348365&#45;3a37&#45;46c5&#45;a8bc&#45;6812e3e6bd83&#45;&gt;78b1fe81&#45;90d5&#45;4b77&#45;9017&#45;3a831ef73387</title>\n",
       "<path fill=\"none\" stroke=\"black\" d=\"M273.04,-274.85C244.15,-262.24 206.75,-245.91 175.96,-232.47\"/>\n",
       "<polygon fill=\"black\" stroke=\"black\" points=\"177.21,-229.2 166.64,-228.4 174.4,-235.61 177.21,-229.2\"/>\n",
       "</g>\n",
       "<!-- 3f6375fc&#45;88c2&#45;4ac6&#45;b11f&#45;9160df453744 -->\n",
       "<g id=\"node3\" class=\"node\">\n",
       "<title>3f6375fc&#45;88c2&#45;4ac6&#45;b11f&#45;9160df453744</title>\n",
       "<ellipse fill=\"none\" stroke=\"black\" cx=\"319.41\" cy=\"-206.35\" rx=\"82.96\" ry=\"26.74\"/>\n",
       "<text text-anchor=\"middle\" x=\"319.41\" y=\"-210.15\" font-family=\"Times-Roman\" font-size=\"14.00\">ImageDocument</text>\n",
       "<text text-anchor=\"middle\" x=\"319.41\" y=\"-195.15\" font-family=\"Times-Roman\" font-size=\"14.00\">60df453744</text>\n",
       "</g>\n",
       "<!-- 3e348365&#45;3a37&#45;46c5&#45;a8bc&#45;6812e3e6bd83&#45;&gt;3f6375fc&#45;88c2&#45;4ac6&#45;b11f&#45;9160df453744 -->\n",
       "<g id=\"edge2\" class=\"edge\">\n",
       "<title>3e348365&#45;3a37&#45;46c5&#45;a8bc&#45;6812e3e6bd83&#45;&gt;3f6375fc&#45;88c2&#45;4ac6&#45;b11f&#45;9160df453744</title>\n",
       "<path fill=\"none\" stroke=\"black\" d=\"M319.41,-268.77C319.41,-260.8 319.41,-251.91 319.41,-243.42\"/>\n",
       "<polygon fill=\"black\" stroke=\"black\" points=\"322.91,-243.35 319.41,-233.35 315.91,-243.35 322.91,-243.35\"/>\n",
       "</g>\n",
       "<!-- 938c1909&#45;5693&#45;433c&#45;9266&#45;0a5ebeff8baf -->\n",
       "<g id=\"node4\" class=\"node\">\n",
       "<title>938c1909&#45;5693&#45;433c&#45;9266&#45;0a5ebeff8baf</title>\n",
       "<ellipse fill=\"none\" stroke=\"black\" cx=\"520.41\" cy=\"-206.35\" rx=\"82.96\" ry=\"26.74\"/>\n",
       "<text text-anchor=\"middle\" x=\"520.41\" y=\"-210.15\" font-family=\"Times-Roman\" font-size=\"14.00\">ImageDocument</text>\n",
       "<text text-anchor=\"middle\" x=\"520.41\" y=\"-195.15\" font-family=\"Times-Roman\" font-size=\"14.00\">5ebeff8baf</text>\n",
       "</g>\n",
       "<!-- 3e348365&#45;3a37&#45;46c5&#45;a8bc&#45;6812e3e6bd83&#45;&gt;938c1909&#45;5693&#45;433c&#45;9266&#45;0a5ebeff8baf -->\n",
       "<g id=\"edge3\" class=\"edge\">\n",
       "<title>3e348365&#45;3a37&#45;46c5&#45;a8bc&#45;6812e3e6bd83&#45;&gt;938c1909&#45;5693&#45;433c&#45;9266&#45;0a5ebeff8baf</title>\n",
       "<path fill=\"none\" stroke=\"black\" d=\"M365.78,-274.85C394.67,-262.24 432.07,-245.91 462.85,-232.47\"/>\n",
       "<polygon fill=\"black\" stroke=\"black\" points=\"464.41,-235.61 472.18,-228.4 461.61,-229.2 464.41,-235.61\"/>\n",
       "</g>\n",
       "<!-- fa366466&#45;9992&#45;4874&#45;a05f&#45;a6f3474a70a0 -->\n",
       "<g id=\"node9\" class=\"node\">\n",
       "<title>fa366466&#45;9992&#45;4874&#45;a05f&#45;a6f3474a70a0</title>\n",
       "<ellipse fill=\"none\" stroke=\"black\" cx=\"100.41\" cy=\"-116.61\" rx=\"100.32\" ry=\"26.74\"/>\n",
       "<text text-anchor=\"middle\" x=\"100.41\" y=\"-120.41\" font-family=\"Times-Roman\" font-size=\"14.00\">MarkdownDocument</text>\n",
       "<text text-anchor=\"middle\" x=\"100.41\" y=\"-105.41\" font-family=\"Times-Roman\" font-size=\"14.00\">f3474a70a0</text>\n",
       "</g>\n",
       "<!-- 78b1fe81&#45;90d5&#45;4b77&#45;9017&#45;3a831ef73387&#45;&gt;fa366466&#45;9992&#45;4874&#45;a05f&#45;a6f3474a70a0 -->\n",
       "<g id=\"edge7\" class=\"edge\">\n",
       "<title>78b1fe81&#45;90d5&#45;4b77&#45;9017&#45;3a831ef73387&#45;&gt;fa366466&#45;9992&#45;4874&#45;a05f&#45;a6f3474a70a0</title>\n",
       "<path fill=\"none\" stroke=\"black\" d=\"M113.11,-179.5C111.44,-171.36 109.56,-162.22 107.78,-153.51\"/>\n",
       "<polygon fill=\"black\" stroke=\"black\" points=\"111.18,-152.67 105.74,-143.58 104.32,-154.08 111.18,-152.67\"/>\n",
       "</g>\n",
       "<!-- 8fcd45ef&#45;b005&#45;455f&#45;b669&#45;050d5af15797 -->\n",
       "<g id=\"node10\" class=\"node\">\n",
       "<title>8fcd45ef&#45;b005&#45;455f&#45;b669&#45;050d5af15797</title>\n",
       "<ellipse fill=\"none\" stroke=\"black\" cx=\"319.41\" cy=\"-116.61\" rx=\"100.32\" ry=\"26.74\"/>\n",
       "<text text-anchor=\"middle\" x=\"319.41\" y=\"-120.41\" font-family=\"Times-Roman\" font-size=\"14.00\">MarkdownDocument</text>\n",
       "<text text-anchor=\"middle\" x=\"319.41\" y=\"-105.41\" font-family=\"Times-Roman\" font-size=\"14.00\">0d5af15797</text>\n",
       "</g>\n",
       "<!-- 3f6375fc&#45;88c2&#45;4ac6&#45;b11f&#45;9160df453744&#45;&gt;8fcd45ef&#45;b005&#45;455f&#45;b669&#45;050d5af15797 -->\n",
       "<g id=\"edge8\" class=\"edge\">\n",
       "<title>3f6375fc&#45;88c2&#45;4ac6&#45;b11f&#45;9160df453744&#45;&gt;8fcd45ef&#45;b005&#45;455f&#45;b669&#45;050d5af15797</title>\n",
       "<path fill=\"none\" stroke=\"black\" d=\"M319.41,-179.03C319.41,-171.06 319.41,-162.17 319.41,-153.68\"/>\n",
       "<polygon fill=\"black\" stroke=\"black\" points=\"322.91,-153.61 319.41,-143.61 315.91,-153.61 322.91,-153.61\"/>\n",
       "</g>\n",
       "<!-- dc91906f&#45;e42f&#45;41a4&#45;bcac&#45;23f86d736077 -->\n",
       "<g id=\"node11\" class=\"node\">\n",
       "<title>dc91906f&#45;e42f&#45;41a4&#45;bcac&#45;23f86d736077</title>\n",
       "<ellipse fill=\"none\" stroke=\"black\" cx=\"538.41\" cy=\"-116.61\" rx=\"100.32\" ry=\"26.74\"/>\n",
       "<text text-anchor=\"middle\" x=\"538.41\" y=\"-120.41\" font-family=\"Times-Roman\" font-size=\"14.00\">MarkdownDocument</text>\n",
       "<text text-anchor=\"middle\" x=\"538.41\" y=\"-105.41\" font-family=\"Times-Roman\" font-size=\"14.00\">f86d736077</text>\n",
       "</g>\n",
       "<!-- 938c1909&#45;5693&#45;433c&#45;9266&#45;0a5ebeff8baf&#45;&gt;dc91906f&#45;e42f&#45;41a4&#45;bcac&#45;23f86d736077 -->\n",
       "<g id=\"edge9\" class=\"edge\">\n",
       "<title>938c1909&#45;5693&#45;433c&#45;9266&#45;0a5ebeff8baf&#45;&gt;dc91906f&#45;e42f&#45;41a4&#45;bcac&#45;23f86d736077</title>\n",
       "<path fill=\"none\" stroke=\"black\" d=\"M525.71,-179.5C527.38,-171.36 529.26,-162.22 531.04,-153.51\"/>\n",
       "<polygon fill=\"black\" stroke=\"black\" points=\"534.5,-154.08 533.08,-143.58 527.64,-152.67 534.5,-154.08\"/>\n",
       "</g>\n",
       "<!-- 3530392f&#45;22b1&#45;46a0&#45;bee8&#45;d833cfe0ae29 -->\n",
       "<g id=\"node5\" class=\"node\">\n",
       "<title>3530392f&#45;22b1&#45;46a0&#45;bee8&#45;d833cfe0ae29</title>\n",
       "<ellipse fill=\"none\" stroke=\"black\" cx=\"976.41\" cy=\"-296.09\" rx=\"74.91\" ry=\"26.74\"/>\n",
       "<text text-anchor=\"middle\" x=\"976.41\" y=\"-299.89\" font-family=\"Times-Roman\" font-size=\"14.00\">PDFDocument</text>\n",
       "<text text-anchor=\"middle\" x=\"976.41\" y=\"-284.89\" font-family=\"Times-Roman\" font-size=\"14.00\">33cfe0ae29</text>\n",
       "</g>\n",
       "<!-- e3eeb2d7&#45;8090&#45;483b&#45;8cbe&#45;98ac0a8d6d96 -->\n",
       "<g id=\"node6\" class=\"node\">\n",
       "<title>e3eeb2d7&#45;8090&#45;483b&#45;8cbe&#45;98ac0a8d6d96</title>\n",
       "<ellipse fill=\"none\" stroke=\"black\" cx=\"775.41\" cy=\"-206.35\" rx=\"82.96\" ry=\"26.74\"/>\n",
       "<text text-anchor=\"middle\" x=\"775.41\" y=\"-210.15\" font-family=\"Times-Roman\" font-size=\"14.00\">ImageDocument</text>\n",
       "<text text-anchor=\"middle\" x=\"775.41\" y=\"-195.15\" font-family=\"Times-Roman\" font-size=\"14.00\">ac0a8d6d96</text>\n",
       "</g>\n",
       "<!-- 3530392f&#45;22b1&#45;46a0&#45;bee8&#45;d833cfe0ae29&#45;&gt;e3eeb2d7&#45;8090&#45;483b&#45;8cbe&#45;98ac0a8d6d96 -->\n",
       "<g id=\"edge4\" class=\"edge\">\n",
       "<title>3530392f&#45;22b1&#45;46a0&#45;bee8&#45;d833cfe0ae29&#45;&gt;e3eeb2d7&#45;8090&#45;483b&#45;8cbe&#45;98ac0a8d6d96</title>\n",
       "<path fill=\"none\" stroke=\"black\" d=\"M930.04,-274.85C901.15,-262.24 863.75,-245.91 832.96,-232.47\"/>\n",
       "<polygon fill=\"black\" stroke=\"black\" points=\"834.21,-229.2 823.64,-228.4 831.4,-235.61 834.21,-229.2\"/>\n",
       "</g>\n",
       "<!-- f16993f7&#45;fdcf&#45;4d02&#45;9007&#45;ca8daa7d2b22 -->\n",
       "<g id=\"node7\" class=\"node\">\n",
       "<title>f16993f7&#45;fdcf&#45;4d02&#45;9007&#45;ca8daa7d2b22</title>\n",
       "<ellipse fill=\"none\" stroke=\"black\" cx=\"976.41\" cy=\"-206.35\" rx=\"82.96\" ry=\"26.74\"/>\n",
       "<text text-anchor=\"middle\" x=\"976.41\" y=\"-210.15\" font-family=\"Times-Roman\" font-size=\"14.00\">ImageDocument</text>\n",
       "<text text-anchor=\"middle\" x=\"976.41\" y=\"-195.15\" font-family=\"Times-Roman\" font-size=\"14.00\">8daa7d2b22</text>\n",
       "</g>\n",
       "<!-- 3530392f&#45;22b1&#45;46a0&#45;bee8&#45;d833cfe0ae29&#45;&gt;f16993f7&#45;fdcf&#45;4d02&#45;9007&#45;ca8daa7d2b22 -->\n",
       "<g id=\"edge5\" class=\"edge\">\n",
       "<title>3530392f&#45;22b1&#45;46a0&#45;bee8&#45;d833cfe0ae29&#45;&gt;f16993f7&#45;fdcf&#45;4d02&#45;9007&#45;ca8daa7d2b22</title>\n",
       "<path fill=\"none\" stroke=\"black\" d=\"M976.41,-268.77C976.41,-260.8 976.41,-251.91 976.41,-243.42\"/>\n",
       "<polygon fill=\"black\" stroke=\"black\" points=\"979.91,-243.35 976.41,-233.35 972.91,-243.35 979.91,-243.35\"/>\n",
       "</g>\n",
       "<!-- d1528d01&#45;73d9&#45;4f2c&#45;8cf4&#45;fb5c9122a052 -->\n",
       "<g id=\"node8\" class=\"node\">\n",
       "<title>d1528d01&#45;73d9&#45;4f2c&#45;8cf4&#45;fb5c9122a052</title>\n",
       "<ellipse fill=\"none\" stroke=\"black\" cx=\"1177.41\" cy=\"-206.35\" rx=\"82.96\" ry=\"26.74\"/>\n",
       "<text text-anchor=\"middle\" x=\"1177.41\" y=\"-210.15\" font-family=\"Times-Roman\" font-size=\"14.00\">ImageDocument</text>\n",
       "<text text-anchor=\"middle\" x=\"1177.41\" y=\"-195.15\" font-family=\"Times-Roman\" font-size=\"14.00\">5c9122a052</text>\n",
       "</g>\n",
       "<!-- 3530392f&#45;22b1&#45;46a0&#45;bee8&#45;d833cfe0ae29&#45;&gt;d1528d01&#45;73d9&#45;4f2c&#45;8cf4&#45;fb5c9122a052 -->\n",
       "<g id=\"edge6\" class=\"edge\">\n",
       "<title>3530392f&#45;22b1&#45;46a0&#45;bee8&#45;d833cfe0ae29&#45;&gt;d1528d01&#45;73d9&#45;4f2c&#45;8cf4&#45;fb5c9122a052</title>\n",
       "<path fill=\"none\" stroke=\"black\" d=\"M1022.78,-274.85C1051.67,-262.24 1089.07,-245.91 1119.85,-232.47\"/>\n",
       "<polygon fill=\"black\" stroke=\"black\" points=\"1121.41,-235.61 1129.18,-228.4 1118.61,-229.2 1121.41,-235.61\"/>\n",
       "</g>\n",
       "<!-- b7d10215&#45;ece8&#45;492e&#45;8f5e&#45;510ec364bb0b -->\n",
       "<g id=\"node14\" class=\"node\">\n",
       "<title>b7d10215&#45;ece8&#45;492e&#45;8f5e&#45;510ec364bb0b</title>\n",
       "<ellipse fill=\"none\" stroke=\"black\" cx=\"757.41\" cy=\"-116.61\" rx=\"100.32\" ry=\"26.74\"/>\n",
       "<text text-anchor=\"middle\" x=\"757.41\" y=\"-120.41\" font-family=\"Times-Roman\" font-size=\"14.00\">MarkdownDocument</text>\n",
       "<text text-anchor=\"middle\" x=\"757.41\" y=\"-105.41\" font-family=\"Times-Roman\" font-size=\"14.00\">0ec364bb0b</text>\n",
       "</g>\n",
       "<!-- e3eeb2d7&#45;8090&#45;483b&#45;8cbe&#45;98ac0a8d6d96&#45;&gt;b7d10215&#45;ece8&#45;492e&#45;8f5e&#45;510ec364bb0b -->\n",
       "<g id=\"edge12\" class=\"edge\">\n",
       "<title>e3eeb2d7&#45;8090&#45;483b&#45;8cbe&#45;98ac0a8d6d96&#45;&gt;b7d10215&#45;ece8&#45;492e&#45;8f5e&#45;510ec364bb0b</title>\n",
       "<path fill=\"none\" stroke=\"black\" d=\"M770.11,-179.5C768.44,-171.36 766.56,-162.22 764.78,-153.51\"/>\n",
       "<polygon fill=\"black\" stroke=\"black\" points=\"768.18,-152.67 762.74,-143.58 761.32,-154.08 768.18,-152.67\"/>\n",
       "</g>\n",
       "<!-- 9c158c78&#45;c18b&#45;4db4&#45;9362&#45;e25dcfb882d1 -->\n",
       "<g id=\"node12\" class=\"node\">\n",
       "<title>9c158c78&#45;c18b&#45;4db4&#45;9362&#45;e25dcfb882d1</title>\n",
       "<ellipse fill=\"none\" stroke=\"black\" cx=\"976.41\" cy=\"-116.61\" rx=\"100.32\" ry=\"26.74\"/>\n",
       "<text text-anchor=\"middle\" x=\"976.41\" y=\"-120.41\" font-family=\"Times-Roman\" font-size=\"14.00\">MarkdownDocument</text>\n",
       "<text text-anchor=\"middle\" x=\"976.41\" y=\"-105.41\" font-family=\"Times-Roman\" font-size=\"14.00\">5dcfb882d1</text>\n",
       "</g>\n",
       "<!-- f16993f7&#45;fdcf&#45;4d02&#45;9007&#45;ca8daa7d2b22&#45;&gt;9c158c78&#45;c18b&#45;4db4&#45;9362&#45;e25dcfb882d1 -->\n",
       "<g id=\"edge10\" class=\"edge\">\n",
       "<title>f16993f7&#45;fdcf&#45;4d02&#45;9007&#45;ca8daa7d2b22&#45;&gt;9c158c78&#45;c18b&#45;4db4&#45;9362&#45;e25dcfb882d1</title>\n",
       "<path fill=\"none\" stroke=\"black\" d=\"M976.41,-179.03C976.41,-171.06 976.41,-162.17 976.41,-153.68\"/>\n",
       "<polygon fill=\"black\" stroke=\"black\" points=\"979.91,-153.61 976.41,-143.61 972.91,-153.61 979.91,-153.61\"/>\n",
       "</g>\n",
       "<!-- 2f195143&#45;cac5&#45;40d7&#45;875e&#45;db28e3793d07 -->\n",
       "<g id=\"node13\" class=\"node\">\n",
       "<title>2f195143&#45;cac5&#45;40d7&#45;875e&#45;db28e3793d07</title>\n",
       "<ellipse fill=\"none\" stroke=\"black\" cx=\"1195.41\" cy=\"-116.61\" rx=\"100.32\" ry=\"26.74\"/>\n",
       "<text text-anchor=\"middle\" x=\"1195.41\" y=\"-120.41\" font-family=\"Times-Roman\" font-size=\"14.00\">MarkdownDocument</text>\n",
       "<text text-anchor=\"middle\" x=\"1195.41\" y=\"-105.41\" font-family=\"Times-Roman\" font-size=\"14.00\">28e3793d07</text>\n",
       "</g>\n",
       "<!-- d1528d01&#45;73d9&#45;4f2c&#45;8cf4&#45;fb5c9122a052&#45;&gt;2f195143&#45;cac5&#45;40d7&#45;875e&#45;db28e3793d07 -->\n",
       "<g id=\"edge11\" class=\"edge\">\n",
       "<title>d1528d01&#45;73d9&#45;4f2c&#45;8cf4&#45;fb5c9122a052&#45;&gt;2f195143&#45;cac5&#45;40d7&#45;875e&#45;db28e3793d07</title>\n",
       "<path fill=\"none\" stroke=\"black\" d=\"M1182.71,-179.5C1184.38,-171.36 1186.26,-162.22 1188.04,-153.51\"/>\n",
       "<polygon fill=\"black\" stroke=\"black\" points=\"1191.5,-154.08 1190.08,-143.58 1184.64,-152.67 1191.5,-154.08\"/>\n",
       "</g>\n",
       "<!-- 77b823f4&#45;4467&#45;480b&#45;b642&#45;6c87063d713e -->\n",
       "<g id=\"node15\" class=\"node\">\n",
       "<title>77b823f4&#45;4467&#45;480b&#45;b642&#45;6c87063d713e</title>\n",
       "<ellipse fill=\"none\" stroke=\"black\" cx=\"647.41\" cy=\"-26.87\" rx=\"100.32\" ry=\"26.74\"/>\n",
       "<text text-anchor=\"middle\" x=\"647.41\" y=\"-30.67\" font-family=\"Times-Roman\" font-size=\"14.00\">MarkdownDocument</text>\n",
       "<text text-anchor=\"middle\" x=\"647.41\" y=\"-15.67\" font-family=\"Times-Roman\" font-size=\"14.00\">87063d713e</text>\n",
       "</g>\n",
       "<!-- fa366466&#45;9992&#45;4874&#45;a05f&#45;a6f3474a70a0&#45;&gt;77b823f4&#45;4467&#45;480b&#45;b642&#45;6c87063d713e -->\n",
       "<g id=\"edge13\" class=\"edge\">\n",
       "<title>fa366466&#45;9992&#45;4874&#45;a05f&#45;a6f3474a70a0&#45;&gt;77b823f4&#45;4467&#45;480b&#45;b642&#45;6c87063d713e</title>\n",
       "<path fill=\"none\" stroke=\"black\" d=\"M172.1,-97.76C184.82,-94.88 197.97,-92.08 210.41,-89.74 324.8,-68.24 457.29,-50.47 546.13,-39.58\"/>\n",
       "<polygon fill=\"black\" stroke=\"black\" points=\"546.7,-43.03 556.21,-38.35 545.86,-36.08 546.7,-43.03\"/>\n",
       "</g>\n",
       "<!-- 8fcd45ef&#45;b005&#45;455f&#45;b669&#45;050d5af15797&#45;&gt;77b823f4&#45;4467&#45;480b&#45;b642&#45;6c87063d713e -->\n",
       "<g id=\"edge14\" class=\"edge\">\n",
       "<title>8fcd45ef&#45;b005&#45;455f&#45;b669&#45;050d5af15797&#45;&gt;77b823f4&#45;4467&#45;480b&#45;b642&#45;6c87063d713e</title>\n",
       "<path fill=\"none\" stroke=\"black\" d=\"M388.57,-97.11C441.14,-83.05 513.52,-63.69 568.38,-49.01\"/>\n",
       "<polygon fill=\"black\" stroke=\"black\" points=\"569.31,-52.39 578.06,-46.42 567.5,-45.62 569.31,-52.39\"/>\n",
       "</g>\n",
       "<!-- dc91906f&#45;e42f&#45;41a4&#45;bcac&#45;23f86d736077&#45;&gt;77b823f4&#45;4467&#45;480b&#45;b642&#45;6c87063d713e -->\n",
       "<g id=\"edge15\" class=\"edge\">\n",
       "<title>dc91906f&#45;e42f&#45;41a4&#45;bcac&#45;23f86d736077&#45;&gt;77b823f4&#45;4467&#45;480b&#45;b642&#45;6c87063d713e</title>\n",
       "<path fill=\"none\" stroke=\"black\" d=\"M569.06,-90.94C581.37,-81.03 595.7,-69.5 608.71,-59.02\"/>\n",
       "<polygon fill=\"black\" stroke=\"black\" points=\"611.01,-61.66 616.61,-52.66 606.62,-56.21 611.01,-61.66\"/>\n",
       "</g>\n",
       "<!-- 9c158c78&#45;c18b&#45;4db4&#45;9362&#45;e25dcfb882d1&#45;&gt;77b823f4&#45;4467&#45;480b&#45;b642&#45;6c87063d713e -->\n",
       "<g id=\"edge16\" class=\"edge\">\n",
       "<title>9c158c78&#45;c18b&#45;4db4&#45;9362&#45;e25dcfb882d1&#45;&gt;77b823f4&#45;4467&#45;480b&#45;b642&#45;6c87063d713e</title>\n",
       "<path fill=\"none\" stroke=\"black\" d=\"M907.04,-97.11C854.22,-83.02 781.46,-63.62 726.4,-48.94\"/>\n",
       "<polygon fill=\"black\" stroke=\"black\" points=\"727.25,-45.54 716.68,-46.34 725.45,-52.3 727.25,-45.54\"/>\n",
       "</g>\n",
       "<!-- 2f195143&#45;cac5&#45;40d7&#45;875e&#45;db28e3793d07&#45;&gt;77b823f4&#45;4467&#45;480b&#45;b642&#45;6c87063d713e -->\n",
       "<g id=\"edge17\" class=\"edge\">\n",
       "<title>2f195143&#45;cac5&#45;40d7&#45;875e&#45;db28e3793d07&#45;&gt;77b823f4&#45;4467&#45;480b&#45;b642&#45;6c87063d713e</title>\n",
       "<path fill=\"none\" stroke=\"black\" d=\"M1123.72,-97.76C1111,-94.88 1097.85,-92.08 1085.41,-89.74 970.58,-68.17 837.54,-50.39 748.49,-39.51\"/>\n",
       "<polygon fill=\"black\" stroke=\"black\" points=\"748.75,-36.01 738.4,-38.28 747.9,-42.96 748.75,-36.01\"/>\n",
       "</g>\n",
       "<!-- b7d10215&#45;ece8&#45;492e&#45;8f5e&#45;510ec364bb0b&#45;&gt;77b823f4&#45;4467&#45;480b&#45;b642&#45;6c87063d713e -->\n",
       "<g id=\"edge18\" class=\"edge\">\n",
       "<title>b7d10215&#45;ece8&#45;492e&#45;8f5e&#45;510ec364bb0b&#45;&gt;77b823f4&#45;4467&#45;480b&#45;b642&#45;6c87063d713e</title>\n",
       "<path fill=\"none\" stroke=\"black\" d=\"M726.48,-90.94C714.06,-81.03 699.6,-69.5 686.47,-59.02\"/>\n",
       "<polygon fill=\"black\" stroke=\"black\" points=\"688.49,-56.16 678.49,-52.66 684.13,-61.63 688.49,-56.16\"/>\n",
       "</g>\n",
       "</g>\n",
       "</svg>\n"
      ],
      "text/plain": [
       "<graphviz.sources.Source at 0x7f6a84092e50>"
      ]
     },
     "execution_count": 17,
     "metadata": {},
     "output_type": "execute_result"
    }
   ],
   "source": [
    "from document_transformer import Document, DocumentTransformer\n",
    "from document_transformer.utils import plot_graph\n",
    "from typing import List\n",
    "from pathlib import Path\n",
    "import pdf2image\n",
    "\n",
    "######################################################\n",
    "# Documents\n",
    "######################################################\n",
    "class PDFDocument(Document):\n",
    "    \"\"\"Custom class to PDF Documents\"\"\"\n",
    "\n",
    "class ImageDocument(Document):\n",
    "    \"\"\"Custom class to Image Documents\"\"\"\n",
    "    def saver(self, path):\n",
    "        self.data.save(path)\n",
    "        return self\n",
    "\n",
    "class MarkdownDocument(Document):\n",
    "    data: str = ''\n",
    "    def saver(self, path):\n",
    "        with open(path, 'w') as file:\n",
    "            file.write(self.data)\n",
    "        return self\n",
    "\n",
    "    def appender(self, other):\n",
    "        \"\"\"Append other markdown document content to this one\"\"\"\n",
    "        self.data += other.data + '\\n'\n",
    "        return self\n",
    "\n",
    "######################################################\n",
    "# Transfomers\n",
    "######################################################\n",
    "class PDF2Images(DocumentTransformer):\n",
    "    input: PDFDocument = None\n",
    "    output: List[ImageDocument] = []\n",
    "\n",
    "    def transformer(self) -> List[ImageDocument]:\n",
    "        \"\"\"Divide en páginas el documento pdf\"\"\"\n",
    "        images = pdf2image.convert_from_path(self.input.path)\n",
    "        return [\n",
    "            ImageDocument(\n",
    "                metadata={'pdf_path': Path(self.input.path).name, 'page': i+1, 'size': image.size},\n",
    "                data=image,\n",
    "            )\n",
    "            for i, image in enumerate(images)\n",
    "        ]\n",
    "\n",
    "class Image2Markdown(DocumentTransformer):\n",
    "    input: ImageDocument = None\n",
    "    output: MarkdownDocument = None\n",
    "\n",
    "    def ocr(self):\n",
    "        \"\"\"ocr, puede ser una función externa\"\"\"\n",
    "        return f\"OCR {self.input.metadata['page']}\"\n",
    "\n",
    "    def transformer(self):\n",
    "        ocr_text = self.ocr()\n",
    "        return MarkdownDocument(\n",
    "            metadata={'image_path': self.input.path, 'page': self.input.metadata['page']},\n",
    "            data=ocr_text\n",
    "        )\n",
    "\n",
    "class CombineMarkdowns(DocumentTransformer):\n",
    "    input: List[MarkdownDocument] = []\n",
    "    output: MarkdownDocument = None\n",
    "\n",
    "    def transformer(self):\n",
    "        return MarkdownDocument().extend(self.input)\n",
    "    \n",
    "\n",
    "######################################################\n",
    "# Pipeline\n",
    "######################################################\n",
    "pipeline = Pipeline(transformers=[\n",
    "    PDF2Images(to='images/pag_{metadata[page]}.jpg'),\n",
    "    Image2Markdown(to='images/pag_{metadata[page]}.md'),\n",
    "    CombineMarkdowns(to='document.md')\n",
    "])\n",
    "\n",
    "# Run it!\n",
    "pdf_doc1 = PDFDocument(path=\"document.pdf\")\n",
    "pdf_doc2 = PDFDocument(path=\"document.pdf\")\n",
    "\n",
    "markdown_doc = pipeline.run(input=[pdf_doc1, pdf_doc2])\n",
    "plot_graph(pipeline.get_traces())"
   ]
  },
  {
   "cell_type": "markdown",
   "metadata": {},
   "source": [
    "## Conclusions\n",
    "\n",
    "As you can see, `document-transformer` is your friend when it comes to organizing your transformer pipeline. Simply define your components, and `document-transformer` will handle the rest, ensuring traceability and organization. Reuse your work in any project!"
   ]
  }
 ],
 "metadata": {
  "kernelspec": {
   "display_name": "Python 3",
   "language": "python",
   "name": "python3"
  },
  "language_info": {
   "codemirror_mode": {
    "name": "ipython",
    "version": 3
   },
   "file_extension": ".py",
   "mimetype": "text/x-python",
   "name": "python",
   "nbconvert_exporter": "python",
   "pygments_lexer": "ipython3",
   "version": "3.9.16"
  }
 },
 "nbformat": 4,
 "nbformat_minor": 2
}
