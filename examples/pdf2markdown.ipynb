{
 "cells": [
  {
   "cell_type": "markdown",
   "metadata": {},
   "source": [
    "## Convirtiendo un pdf en markdown\n",
    "\n",
    "If you want begin with a more simple example [pdf2images.ipynb](\"./pdf2images.ipynb\")"
   ]
  },
  {
   "cell_type": "markdown",
   "metadata": {},
   "source": [
    "## pdf to markdowns"
   ]
  },
  {
   "cell_type": "markdown",
   "metadata": {},
   "source": [
    "* Define your Documents and Transformers"
   ]
  },
  {
   "cell_type": "code",
   "execution_count": null,
   "metadata": {},
   "outputs": [],
   "source": [
    "# Install pdf2image for this example\n",
    "# !pip install pdf2image"
   ]
  },
  {
   "cell_type": "code",
   "execution_count": 2,
   "metadata": {},
   "outputs": [],
   "source": [
    "from document_transformer import Document, DocumentTransformer\n",
    "from typing import List\n",
    "from pathlib import Path\n",
    "import pdf2image\n",
    "\n",
    "class PDFDocument(Document):\n",
    "    \"\"\"Custom class to PDF Documents\"\"\"\n",
    "\n",
    "class ImageDocument(Document):\n",
    "    \"\"\"Custom class to Image Documents\"\"\"\n",
    "    def saver(self, path):\n",
    "        self.data.save(path)\n",
    "        return self\n",
    "\n",
    "class MarkdownDocument(Document):\n",
    "    def saver(self, path):\n",
    "        with open(path, 'w') as file:\n",
    "            file.write(self.data)\n",
    "        return self\n",
    "\n",
    "class PDF2Images(DocumentTransformer):\n",
    "    input: PDFDocument = None\n",
    "    output: List[ImageDocument] = []\n",
    "\n",
    "    def transformer(self) -> List[ImageDocument]:\n",
    "        \"\"\"Divide en páginas el documento pdf\"\"\"\n",
    "        images = pdf2image.convert_from_path(self.input.path)\n",
    "        return [\n",
    "            ImageDocument(\n",
    "                metadata={'pdf_path': Path(self.input.path).name, 'page': i+1, 'size': image.size},\n",
    "                data=image,\n",
    "            )\n",
    "            for i, image in enumerate(images)\n",
    "        ]"
   ]
  },
  {
   "cell_type": "markdown",
   "metadata": {},
   "source": [
    "* Define the `Image2Markdown` transformer, which takes an `ImageDocument` and transforms it into a `MarkdownDocument`.\n",
    "* To keep things simple, we'll define an OCR method with dummy data. However, it's important that you implement your own OCR logic here."
   ]
  },
  {
   "cell_type": "code",
   "execution_count": 3,
   "metadata": {},
   "outputs": [],
   "source": [
    "class Image2Markdown(DocumentTransformer):\n",
    "    input: ImageDocument = None\n",
    "    output: MarkdownDocument = None\n",
    "\n",
    "    def ocr(self):\n",
    "        \"\"\"ocr, puede ser una función externa\"\"\"\n",
    "        return f\"OCR {self.input.metadata['page']}\"\n",
    "\n",
    "    def transformer(self):\n",
    "        ocr_text = self.ocr()\n",
    "        return MarkdownDocument(\n",
    "            metadata={'image_path': self.input.path, 'page': self.input.metadata['page']},\n",
    "            data=ocr_text\n",
    "        )"
   ]
  },
  {
   "cell_type": "markdown",
   "metadata": {},
   "source": [
    "run it!"
   ]
  },
  {
   "cell_type": "code",
   "execution_count": 5,
   "metadata": {},
   "outputs": [
    {
     "name": "stdout",
     "output_type": "stream",
     "text": [
      "id='709c2ecf-d097-40ae-b4f4-62e84d4d1c7b' path='images/pag_1.md' data='OCR 1' metadata={'image_path': 'images/pag_1.jpg', 'page': 1} parents=['c31eda7e-aba8-451c-9f71-77a52151b72e'] childrens=[]\n",
      "id='27ea53fb-d7f8-414d-badc-b1f5e495e296' path='images/pag_2.md' data='OCR 2' metadata={'image_path': 'images/pag_2.jpg', 'page': 2} parents=['5f371840-e532-41d3-ac40-341695d3c91d'] childrens=[]\n",
      "id='7169c182-22bc-4c3e-8a5d-fad3aed3251b' path='images/pag_3.md' data='OCR 3' metadata={'image_path': 'images/pag_3.jpg', 'page': 3} parents=['b83cd5e1-9937-4366-bfbd-14e98d5b4de1'] childrens=[]\n"
     ]
    }
   ],
   "source": [
    "pdf_doc = PDFDocument(path=\"document.pdf\")\n",
    "images = PDF2Images(input=pdf_doc).run()\n",
    "\n",
    "for image in images:\n",
    "    image.save(path=f'images/pag_{image.metadata[\"page\"]}.jpg')\n",
    "    markdown = Image2Markdown(input=image).run()\n",
    "    markdown.save(path=f'images/pag_{image.metadata[\"page\"]}.md')\n",
    "    print(markdown)"
   ]
  },
  {
   "cell_type": "markdown",
   "metadata": {},
   "source": [
    "Now the diversion! Use your document transformer"
   ]
  },
  {
   "cell_type": "code",
   "execution_count": 4,
   "metadata": {},
   "outputs": [
    {
     "name": "stdout",
     "output_type": "stream",
     "text": [
      "Imagen: 3a72b721-569e-47f0-b12b-d25439cdf52b\n",
      "Parents: ['fbf8f600-a8fb-47a9-b755-ed63a9506387']\n",
      "Metadata: {'pdf_path': 'document.pdf', 'page': 1, 'size': (1700, 2200)}\n",
      "Imagen: 807caf6f-8d54-4e0a-bd80-71410d3749ad\n",
      "Parents: ['fbf8f600-a8fb-47a9-b755-ed63a9506387']\n",
      "Metadata: {'pdf_path': 'document.pdf', 'page': 2, 'size': (1700, 2200)}\n",
      "Imagen: ed91dbda-93de-4dea-809a-350390b3b4ca\n",
      "Parents: ['fbf8f600-a8fb-47a9-b755-ed63a9506387']\n",
      "Metadata: {'pdf_path': 'document.pdf', 'page': 3, 'size': (1700, 2200)}\n"
     ]
    }
   ],
   "source": [
    "pdf_doc = PDFDocument(path=\"document.pdf\")\n",
    "images = PDF2Images(input=pdf_doc).run()\n",
    "\n",
    "for image in images:\n",
    "    image.save(path=f'images/pag_{image.metadata[\"page\"]}.jpg')\n",
    "    print(f\"Imagen: {image.id}\")\n",
    "    print(f\"Parents: {image.parents}\")\n",
    "    print(f\"Metadata: {image.metadata}\")"
   ]
  },
  {
   "cell_type": "markdown",
   "metadata": {},
   "source": [
    "* If you prefier, you can define a `Pipeline`.\n",
    "* In a list insert each transformer  and plot it!"
   ]
  },
  {
   "cell_type": "code",
   "execution_count": 10,
   "metadata": {},
   "outputs": [
    {
     "data": {
      "image/svg+xml": [
       "<?xml version=\"1.0\" encoding=\"UTF-8\" standalone=\"no\"?>\n",
       "<!DOCTYPE svg PUBLIC \"-//W3C//DTD SVG 1.1//EN\"\n",
       " \"http://www.w3.org/Graphics/SVG/1.1/DTD/svg11.dtd\">\n",
       "<!-- Generated by graphviz version 2.44.0 (0)\n",
       " -->\n",
       "<!-- Pages: 1 -->\n",
       "<svg width=\"647pt\" height=\"241pt\"\n",
       " viewBox=\"0.00 0.00 646.82 241.22\" xmlns=\"http://www.w3.org/2000/svg\" xmlns:xlink=\"http://www.w3.org/1999/xlink\">\n",
       "<g id=\"graph0\" class=\"graph\" transform=\"scale(1 1) rotate(0) translate(4 237.22)\">\n",
       "<polygon fill=\"white\" stroke=\"transparent\" points=\"-4,4 -4,-237.22 642.82,-237.22 642.82,4 -4,4\"/>\n",
       "<!-- 34f4bdde&#45;186f&#45;4466&#45;b584&#45;5f7bf7381c5f -->\n",
       "<g id=\"node1\" class=\"node\">\n",
       "<title>34f4bdde&#45;186f&#45;4466&#45;b584&#45;5f7bf7381c5f</title>\n",
       "<ellipse fill=\"none\" stroke=\"black\" cx=\"319.41\" cy=\"-206.35\" rx=\"74.91\" ry=\"26.74\"/>\n",
       "<text text-anchor=\"middle\" x=\"319.41\" y=\"-210.15\" font-family=\"Times-Roman\" font-size=\"14.00\">PDFDocument</text>\n",
       "<text text-anchor=\"middle\" x=\"319.41\" y=\"-195.15\" font-family=\"Times-Roman\" font-size=\"14.00\">7bf7381c5f</text>\n",
       "</g>\n",
       "<!-- 86bafc70&#45;d1fa&#45;4178&#45;a894&#45;0f80afdcbe6a -->\n",
       "<g id=\"node2\" class=\"node\">\n",
       "<title>86bafc70&#45;d1fa&#45;4178&#45;a894&#45;0f80afdcbe6a</title>\n",
       "<ellipse fill=\"none\" stroke=\"black\" cx=\"118.41\" cy=\"-116.61\" rx=\"82.96\" ry=\"26.74\"/>\n",
       "<text text-anchor=\"middle\" x=\"118.41\" y=\"-120.41\" font-family=\"Times-Roman\" font-size=\"14.00\">ImageDocument</text>\n",
       "<text text-anchor=\"middle\" x=\"118.41\" y=\"-105.41\" font-family=\"Times-Roman\" font-size=\"14.00\">80afdcbe6a</text>\n",
       "</g>\n",
       "<!-- 34f4bdde&#45;186f&#45;4466&#45;b584&#45;5f7bf7381c5f&#45;&gt;86bafc70&#45;d1fa&#45;4178&#45;a894&#45;0f80afdcbe6a -->\n",
       "<g id=\"edge1\" class=\"edge\">\n",
       "<title>34f4bdde&#45;186f&#45;4466&#45;b584&#45;5f7bf7381c5f&#45;&gt;86bafc70&#45;d1fa&#45;4178&#45;a894&#45;0f80afdcbe6a</title>\n",
       "<path fill=\"none\" stroke=\"black\" d=\"M273.04,-185.11C244.15,-172.5 206.75,-156.17 175.96,-142.73\"/>\n",
       "<polygon fill=\"black\" stroke=\"black\" points=\"177.21,-139.46 166.64,-138.66 174.4,-145.87 177.21,-139.46\"/>\n",
       "</g>\n",
       "<!-- 6357e4fa&#45;f37e&#45;47e9&#45;9473&#45;a2e82c350170 -->\n",
       "<g id=\"node3\" class=\"node\">\n",
       "<title>6357e4fa&#45;f37e&#45;47e9&#45;9473&#45;a2e82c350170</title>\n",
       "<ellipse fill=\"none\" stroke=\"black\" cx=\"319.41\" cy=\"-116.61\" rx=\"82.96\" ry=\"26.74\"/>\n",
       "<text text-anchor=\"middle\" x=\"319.41\" y=\"-120.41\" font-family=\"Times-Roman\" font-size=\"14.00\">ImageDocument</text>\n",
       "<text text-anchor=\"middle\" x=\"319.41\" y=\"-105.41\" font-family=\"Times-Roman\" font-size=\"14.00\">e82c350170</text>\n",
       "</g>\n",
       "<!-- 34f4bdde&#45;186f&#45;4466&#45;b584&#45;5f7bf7381c5f&#45;&gt;6357e4fa&#45;f37e&#45;47e9&#45;9473&#45;a2e82c350170 -->\n",
       "<g id=\"edge2\" class=\"edge\">\n",
       "<title>34f4bdde&#45;186f&#45;4466&#45;b584&#45;5f7bf7381c5f&#45;&gt;6357e4fa&#45;f37e&#45;47e9&#45;9473&#45;a2e82c350170</title>\n",
       "<path fill=\"none\" stroke=\"black\" d=\"M319.41,-179.03C319.41,-171.06 319.41,-162.17 319.41,-153.68\"/>\n",
       "<polygon fill=\"black\" stroke=\"black\" points=\"322.91,-153.61 319.41,-143.61 315.91,-153.61 322.91,-153.61\"/>\n",
       "</g>\n",
       "<!-- 08bc40f9&#45;9f67&#45;45ef&#45;96bc&#45;78a165407864 -->\n",
       "<g id=\"node4\" class=\"node\">\n",
       "<title>08bc40f9&#45;9f67&#45;45ef&#45;96bc&#45;78a165407864</title>\n",
       "<ellipse fill=\"none\" stroke=\"black\" cx=\"520.41\" cy=\"-116.61\" rx=\"82.96\" ry=\"26.74\"/>\n",
       "<text text-anchor=\"middle\" x=\"520.41\" y=\"-120.41\" font-family=\"Times-Roman\" font-size=\"14.00\">ImageDocument</text>\n",
       "<text text-anchor=\"middle\" x=\"520.41\" y=\"-105.41\" font-family=\"Times-Roman\" font-size=\"14.00\">a165407864</text>\n",
       "</g>\n",
       "<!-- 34f4bdde&#45;186f&#45;4466&#45;b584&#45;5f7bf7381c5f&#45;&gt;08bc40f9&#45;9f67&#45;45ef&#45;96bc&#45;78a165407864 -->\n",
       "<g id=\"edge3\" class=\"edge\">\n",
       "<title>34f4bdde&#45;186f&#45;4466&#45;b584&#45;5f7bf7381c5f&#45;&gt;08bc40f9&#45;9f67&#45;45ef&#45;96bc&#45;78a165407864</title>\n",
       "<path fill=\"none\" stroke=\"black\" d=\"M365.78,-185.11C394.67,-172.5 432.07,-156.17 462.85,-142.73\"/>\n",
       "<polygon fill=\"black\" stroke=\"black\" points=\"464.41,-145.87 472.18,-138.66 461.61,-139.46 464.41,-145.87\"/>\n",
       "</g>\n",
       "<!-- 218eeb26&#45;5d0b&#45;44a3&#45;98f5&#45;2b9f024e0d63 -->\n",
       "<g id=\"node5\" class=\"node\">\n",
       "<title>218eeb26&#45;5d0b&#45;44a3&#45;98f5&#45;2b9f024e0d63</title>\n",
       "<ellipse fill=\"none\" stroke=\"black\" cx=\"100.41\" cy=\"-26.87\" rx=\"100.32\" ry=\"26.74\"/>\n",
       "<text text-anchor=\"middle\" x=\"100.41\" y=\"-30.67\" font-family=\"Times-Roman\" font-size=\"14.00\">MarkdownDocument</text>\n",
       "<text text-anchor=\"middle\" x=\"100.41\" y=\"-15.67\" font-family=\"Times-Roman\" font-size=\"14.00\">9f024e0d63</text>\n",
       "</g>\n",
       "<!-- 86bafc70&#45;d1fa&#45;4178&#45;a894&#45;0f80afdcbe6a&#45;&gt;218eeb26&#45;5d0b&#45;44a3&#45;98f5&#45;2b9f024e0d63 -->\n",
       "<g id=\"edge4\" class=\"edge\">\n",
       "<title>86bafc70&#45;d1fa&#45;4178&#45;a894&#45;0f80afdcbe6a&#45;&gt;218eeb26&#45;5d0b&#45;44a3&#45;98f5&#45;2b9f024e0d63</title>\n",
       "<path fill=\"none\" stroke=\"black\" d=\"M113.11,-89.76C111.44,-81.62 109.56,-72.48 107.78,-63.77\"/>\n",
       "<polygon fill=\"black\" stroke=\"black\" points=\"111.18,-62.93 105.74,-53.84 104.32,-64.34 111.18,-62.93\"/>\n",
       "</g>\n",
       "<!-- 235cc305&#45;b687&#45;4cda&#45;80e8&#45;8be80b3db4f5 -->\n",
       "<g id=\"node6\" class=\"node\">\n",
       "<title>235cc305&#45;b687&#45;4cda&#45;80e8&#45;8be80b3db4f5</title>\n",
       "<ellipse fill=\"none\" stroke=\"black\" cx=\"319.41\" cy=\"-26.87\" rx=\"100.32\" ry=\"26.74\"/>\n",
       "<text text-anchor=\"middle\" x=\"319.41\" y=\"-30.67\" font-family=\"Times-Roman\" font-size=\"14.00\">MarkdownDocument</text>\n",
       "<text text-anchor=\"middle\" x=\"319.41\" y=\"-15.67\" font-family=\"Times-Roman\" font-size=\"14.00\">e80b3db4f5</text>\n",
       "</g>\n",
       "<!-- 6357e4fa&#45;f37e&#45;47e9&#45;9473&#45;a2e82c350170&#45;&gt;235cc305&#45;b687&#45;4cda&#45;80e8&#45;8be80b3db4f5 -->\n",
       "<g id=\"edge5\" class=\"edge\">\n",
       "<title>6357e4fa&#45;f37e&#45;47e9&#45;9473&#45;a2e82c350170&#45;&gt;235cc305&#45;b687&#45;4cda&#45;80e8&#45;8be80b3db4f5</title>\n",
       "<path fill=\"none\" stroke=\"black\" d=\"M319.41,-89.29C319.41,-81.32 319.41,-72.43 319.41,-63.94\"/>\n",
       "<polygon fill=\"black\" stroke=\"black\" points=\"322.91,-63.87 319.41,-53.87 315.91,-63.87 322.91,-63.87\"/>\n",
       "</g>\n",
       "<!-- d374844a&#45;86e6&#45;4b2d&#45;a316&#45;a1cae4ca978e -->\n",
       "<g id=\"node7\" class=\"node\">\n",
       "<title>d374844a&#45;86e6&#45;4b2d&#45;a316&#45;a1cae4ca978e</title>\n",
       "<ellipse fill=\"none\" stroke=\"black\" cx=\"538.41\" cy=\"-26.87\" rx=\"100.32\" ry=\"26.74\"/>\n",
       "<text text-anchor=\"middle\" x=\"538.41\" y=\"-30.67\" font-family=\"Times-Roman\" font-size=\"14.00\">MarkdownDocument</text>\n",
       "<text text-anchor=\"middle\" x=\"538.41\" y=\"-15.67\" font-family=\"Times-Roman\" font-size=\"14.00\">cae4ca978e</text>\n",
       "</g>\n",
       "<!-- 08bc40f9&#45;9f67&#45;45ef&#45;96bc&#45;78a165407864&#45;&gt;d374844a&#45;86e6&#45;4b2d&#45;a316&#45;a1cae4ca978e -->\n",
       "<g id=\"edge6\" class=\"edge\">\n",
       "<title>08bc40f9&#45;9f67&#45;45ef&#45;96bc&#45;78a165407864&#45;&gt;d374844a&#45;86e6&#45;4b2d&#45;a316&#45;a1cae4ca978e</title>\n",
       "<path fill=\"none\" stroke=\"black\" d=\"M525.71,-89.76C527.38,-81.62 529.26,-72.48 531.04,-63.77\"/>\n",
       "<polygon fill=\"black\" stroke=\"black\" points=\"534.5,-64.34 533.08,-53.84 527.64,-62.93 534.5,-64.34\"/>\n",
       "</g>\n",
       "</g>\n",
       "</svg>\n"
      ],
      "text/plain": [
       "<graphviz.sources.Source at 0x7f604c8fc4c0>"
      ]
     },
     "execution_count": 10,
     "metadata": {},
     "output_type": "execute_result"
    }
   ],
   "source": [
    "from document_transformer import Pipeline\n",
    "from document_transformer.utils import plot_graph\n",
    "\n",
    "pdf_doc = PDFDocument(path=\"document.pdf\")\n",
    "pipeline = Pipeline(transformers=[PDF2Images(), Image2Markdown()])\n",
    "markdowns = pipeline.run(input=pdf_doc)\n",
    "plot_graph(pipeline.get_traces())"
   ]
  },
  {
   "cell_type": "markdown",
   "metadata": {},
   "source": [
    "All is ok?\n",
    "Save only markdowns!"
   ]
  },
  {
   "cell_type": "code",
   "execution_count": 14,
   "metadata": {},
   "outputs": [],
   "source": [
    "for markdown in markdowns:\n",
    "    markdown.save(path=f'images/pag_{markdown.metadata[\"page\"]}.md')"
   ]
  },
  {
   "cell_type": "markdown",
   "metadata": {},
   "source": [
    "But if you prefer, you can instruct from Pipeline directly!"
   ]
  },
  {
   "cell_type": "code",
   "execution_count": 18,
   "metadata": {},
   "outputs": [
    {
     "data": {
      "text/plain": [
       "[MarkdownDocument(id='2ada1fb8-6dad-427a-af36-c777bc05ac88', path='images/pag_1.md', data='OCR 1', metadata={'image_path': None, 'page': 1}, parents=['fa670f2d-0b27-47fe-9840-820217006f08'], childrens=[]),\n",
       " MarkdownDocument(id='27b3df4c-4503-4fe8-bf9d-7486b3e48951', path='images/pag_2.md', data='OCR 2', metadata={'image_path': None, 'page': 2}, parents=['8700860a-9bb1-40c0-b0ee-a473a9dd7ed4'], childrens=[]),\n",
       " MarkdownDocument(id='387ef81a-fccb-47e3-89a8-e7d70afab97a', path='images/pag_3.md', data='OCR 3', metadata={'image_path': None, 'page': 3}, parents=['b7fffb37-593e-49b4-9bd6-a9cc246a8aba'], childrens=[])]"
      ]
     },
     "execution_count": 18,
     "metadata": {},
     "output_type": "execute_result"
    }
   ],
   "source": [
    "pdf_doc = PDFDocument(path=\"document.pdf\")\n",
    "pipeline = Pipeline(transformers=[\n",
    "    PDF2Images(),\n",
    "    Image2Markdown(to='images/pag_{metadata[page]}.md')\n",
    "])\n",
    "\n",
    "pipeline.run(input=pdf_doc)"
   ]
  },
  {
   "cell_type": "markdown",
   "metadata": {},
   "source": [
    "## Combine markdowns\n",
    "\n",
    "Now, we are going to merge the markdowns. For that we need to increase the skills of `MarkdownDocument`. Let me define the `appender` method."
   ]
  },
  {
   "cell_type": "code",
   "execution_count": 19,
   "metadata": {},
   "outputs": [],
   "source": [
    "class MarkdownDocument(Document):\n",
    "    data: str = ''\n",
    "    def saver(self, path):\n",
    "        with open(path, 'w') as file:\n",
    "            file.write(self.data)\n",
    "        return self\n",
    "\n",
    "    def appender(self, other):\n",
    "        \"\"\"Append other markdown document content to this one\"\"\"\n",
    "        self.data += other.data + '\\n'\n",
    "        return self\n"
   ]
  },
  {
   "cell_type": "markdown",
   "metadata": {},
   "source": [
    "That is all, now we can to append each markdown document to another"
   ]
  },
  {
   "cell_type": "code",
   "execution_count": 20,
   "metadata": {},
   "outputs": [
    {
     "data": {
      "text/plain": [
       "MarkdownDocument(id='254b4601-e736-49f6-8e1d-a14ea3ad101a', path='document.md', data='OCR 1\\nOCR 2\\nOCR 3\\n', metadata={}, parents=['4e36ce13-f5b5-451b-9505-936ce4c150ee', '22af6059-a00f-4ac1-af7e-d767986b29eb', '37f51ac4-4100-4efc-afd2-741ebc399891'], childrens=[])"
      ]
     },
     "execution_count": 20,
     "metadata": {},
     "output_type": "execute_result"
    }
   ],
   "source": [
    "# create images\n",
    "pdf_doc = PDFDocument(path=\"document.pdf\")\n",
    "images = PDF2Images(input=pdf_doc).run()\n",
    "\n",
    "# Initialize the markdown document\n",
    "markdown_doc = MarkdownDocument()\n",
    "for image in images:\n",
    "    path = f'images/pag_{image.metadata[\"page\"]}'\n",
    "    image.save(path=path + '.jpg')\n",
    "    markdown = Image2Markdown(input=image).run().save(path=path + '.md')\n",
    "    markdown_doc.append(markdown)\n",
    "\n",
    "markdown_doc.save(path=\"document.md\")"
   ]
  },
  {
   "cell_type": "markdown",
   "metadata": {},
   "source": [
    "The library supports initializing an empty list and combining markdown documents at the end\n"
   ]
  },
  {
   "cell_type": "code",
   "execution_count": 22,
   "metadata": {},
   "outputs": [
    {
     "data": {
      "text/plain": [
       "MarkdownDocument(id='5ffe31ac-e280-4e9e-afd1-9ab0b51340d9', path='document.md', data='OCR 1\\nOCR 2\\nOCR 3\\n', metadata={}, parents=['d41e0463-4063-4f29-b002-a2c25185669e', 'b22a6640-35a2-4388-80e1-4366d8fbc609', '5841caae-c3b9-4fdc-bbed-3aef398b075c'], childrens=[])"
      ]
     },
     "execution_count": 22,
     "metadata": {},
     "output_type": "execute_result"
    }
   ],
   "source": [
    "\n",
    "pdf_doc = PDFDocument(path=\"document.pdf\")\n",
    "images = PDF2Images(input=pdf_doc).run()\n",
    "\n",
    "# initialize an empty list of markdowns\n",
    "markdowns = []\n",
    "for image in images:\n",
    "    path = f'images/pag_{image.metadata[\"page\"]}'\n",
    "    image.save(path=path + '.jpg')\n",
    "    markdown = Image2Markdown(input=image).run().save(path=path + '.md')\n",
    "    markdowns.append(markdown)\n",
    "\n",
    "# Combine them into a single markdown document and save it\n",
    "markdown_doc = MarkdownDocument().extend(markdowns)\n",
    "markdown_doc.save(path=\"document.md\")"
   ]
  },
  {
   "cell_type": "markdown",
   "metadata": {},
   "source": [
    "Alternatively, you can always create a `DocumentTransformer` class to handle this task\n"
   ]
  },
  {
   "cell_type": "code",
   "execution_count": 30,
   "metadata": {},
   "outputs": [
    {
     "data": {
      "text/plain": [
       "MarkdownDocument(id='391c97a7-867f-44d2-8f51-b76ac53b186c', path='document.md', data='OCR 1\\nOCR 2\\nOCR 3\\n', metadata={}, parents=['b391ea37-1999-438d-985f-45225faf827c', '5cb1c4c2-c3af-435c-b62a-601d370c5ff0', '576db8e4-9f4a-409b-acef-34c188bd8b30'], childrens=[])"
      ]
     },
     "execution_count": 30,
     "metadata": {},
     "output_type": "execute_result"
    }
   ],
   "source": [
    "class CombineMarkdowns(DocumentTransformer):\n",
    "    input: List[MarkdownDocument] = []\n",
    "    output: MarkdownDocument = None\n",
    "\n",
    "    def transformer(self):\n",
    "        return MarkdownDocument().extend(self.input)\n",
    "\n",
    "pdf_doc = PDFDocument(path=\"document.pdf\")\n",
    "images = PDF2Images(input=pdf_doc).run()\n",
    "\n",
    "markdowns = []\n",
    "for image in images:\n",
    "    path = f'images/pag_{image.metadata[\"page\"]}'\n",
    "    image.save(path=path + '.jpg')\n",
    "    markdown = Image2Markdown(input=image).run().save(path=path + '.md')\n",
    "    markdowns.append(markdown)\n",
    "\n",
    "markdown_doc = CombineMarkdowns(input=markdowns).run()\n",
    "markdown_doc.save(path=\"document.md\")"
   ]
  },
  {
   "cell_type": "markdown",
   "metadata": {},
   "source": [
    "Which brings a reward! Now you can extend your Pipeline"
   ]
  },
  {
   "cell_type": "code",
   "execution_count": 26,
   "metadata": {},
   "outputs": [
    {
     "data": {
      "image/svg+xml": [
       "<?xml version=\"1.0\" encoding=\"UTF-8\" standalone=\"no\"?>\n",
       "<!DOCTYPE svg PUBLIC \"-//W3C//DTD SVG 1.1//EN\"\n",
       " \"http://www.w3.org/Graphics/SVG/1.1/DTD/svg11.dtd\">\n",
       "<!-- Generated by graphviz version 2.44.0 (0)\n",
       " -->\n",
       "<!-- Pages: 1 -->\n",
       "<svg width=\"647pt\" height=\"331pt\"\n",
       " viewBox=\"0.00 0.00 646.82 330.96\" xmlns=\"http://www.w3.org/2000/svg\" xmlns:xlink=\"http://www.w3.org/1999/xlink\">\n",
       "<g id=\"graph0\" class=\"graph\" transform=\"scale(1 1) rotate(0) translate(4 326.96)\">\n",
       "<polygon fill=\"white\" stroke=\"transparent\" points=\"-4,4 -4,-326.96 642.82,-326.96 642.82,4 -4,4\"/>\n",
       "<!-- 28907379&#45;6474&#45;4c56&#45;8289&#45;d224e2c702a0 -->\n",
       "<g id=\"node1\" class=\"node\">\n",
       "<title>28907379&#45;6474&#45;4c56&#45;8289&#45;d224e2c702a0</title>\n",
       "<ellipse fill=\"none\" stroke=\"black\" cx=\"319.41\" cy=\"-296.09\" rx=\"74.91\" ry=\"26.74\"/>\n",
       "<text text-anchor=\"middle\" x=\"319.41\" y=\"-299.89\" font-family=\"Times-Roman\" font-size=\"14.00\">PDFDocument</text>\n",
       "<text text-anchor=\"middle\" x=\"319.41\" y=\"-284.89\" font-family=\"Times-Roman\" font-size=\"14.00\">24e2c702a0</text>\n",
       "</g>\n",
       "<!-- b0ebe10a&#45;3d44&#45;43c4&#45;a284&#45;e77eb0ef50c1 -->\n",
       "<g id=\"node2\" class=\"node\">\n",
       "<title>b0ebe10a&#45;3d44&#45;43c4&#45;a284&#45;e77eb0ef50c1</title>\n",
       "<ellipse fill=\"none\" stroke=\"black\" cx=\"118.41\" cy=\"-206.35\" rx=\"82.96\" ry=\"26.74\"/>\n",
       "<text text-anchor=\"middle\" x=\"118.41\" y=\"-210.15\" font-family=\"Times-Roman\" font-size=\"14.00\">ImageDocument</text>\n",
       "<text text-anchor=\"middle\" x=\"118.41\" y=\"-195.15\" font-family=\"Times-Roman\" font-size=\"14.00\">7eb0ef50c1</text>\n",
       "</g>\n",
       "<!-- 28907379&#45;6474&#45;4c56&#45;8289&#45;d224e2c702a0&#45;&gt;b0ebe10a&#45;3d44&#45;43c4&#45;a284&#45;e77eb0ef50c1 -->\n",
       "<g id=\"edge1\" class=\"edge\">\n",
       "<title>28907379&#45;6474&#45;4c56&#45;8289&#45;d224e2c702a0&#45;&gt;b0ebe10a&#45;3d44&#45;43c4&#45;a284&#45;e77eb0ef50c1</title>\n",
       "<path fill=\"none\" stroke=\"black\" d=\"M273.04,-274.85C244.15,-262.24 206.75,-245.91 175.96,-232.47\"/>\n",
       "<polygon fill=\"black\" stroke=\"black\" points=\"177.21,-229.2 166.64,-228.4 174.4,-235.61 177.21,-229.2\"/>\n",
       "</g>\n",
       "<!-- f11b4969&#45;c408&#45;4b95&#45;8330&#45;0d475acc32f1 -->\n",
       "<g id=\"node3\" class=\"node\">\n",
       "<title>f11b4969&#45;c408&#45;4b95&#45;8330&#45;0d475acc32f1</title>\n",
       "<ellipse fill=\"none\" stroke=\"black\" cx=\"319.41\" cy=\"-206.35\" rx=\"82.96\" ry=\"26.74\"/>\n",
       "<text text-anchor=\"middle\" x=\"319.41\" y=\"-210.15\" font-family=\"Times-Roman\" font-size=\"14.00\">ImageDocument</text>\n",
       "<text text-anchor=\"middle\" x=\"319.41\" y=\"-195.15\" font-family=\"Times-Roman\" font-size=\"14.00\">475acc32f1</text>\n",
       "</g>\n",
       "<!-- 28907379&#45;6474&#45;4c56&#45;8289&#45;d224e2c702a0&#45;&gt;f11b4969&#45;c408&#45;4b95&#45;8330&#45;0d475acc32f1 -->\n",
       "<g id=\"edge2\" class=\"edge\">\n",
       "<title>28907379&#45;6474&#45;4c56&#45;8289&#45;d224e2c702a0&#45;&gt;f11b4969&#45;c408&#45;4b95&#45;8330&#45;0d475acc32f1</title>\n",
       "<path fill=\"none\" stroke=\"black\" d=\"M319.41,-268.77C319.41,-260.8 319.41,-251.91 319.41,-243.42\"/>\n",
       "<polygon fill=\"black\" stroke=\"black\" points=\"322.91,-243.35 319.41,-233.35 315.91,-243.35 322.91,-243.35\"/>\n",
       "</g>\n",
       "<!-- c4cbc68d&#45;98e9&#45;489b&#45;937b&#45;a1b7f7cef565 -->\n",
       "<g id=\"node4\" class=\"node\">\n",
       "<title>c4cbc68d&#45;98e9&#45;489b&#45;937b&#45;a1b7f7cef565</title>\n",
       "<ellipse fill=\"none\" stroke=\"black\" cx=\"520.41\" cy=\"-206.35\" rx=\"82.96\" ry=\"26.74\"/>\n",
       "<text text-anchor=\"middle\" x=\"520.41\" y=\"-210.15\" font-family=\"Times-Roman\" font-size=\"14.00\">ImageDocument</text>\n",
       "<text text-anchor=\"middle\" x=\"520.41\" y=\"-195.15\" font-family=\"Times-Roman\" font-size=\"14.00\">b7f7cef565</text>\n",
       "</g>\n",
       "<!-- 28907379&#45;6474&#45;4c56&#45;8289&#45;d224e2c702a0&#45;&gt;c4cbc68d&#45;98e9&#45;489b&#45;937b&#45;a1b7f7cef565 -->\n",
       "<g id=\"edge3\" class=\"edge\">\n",
       "<title>28907379&#45;6474&#45;4c56&#45;8289&#45;d224e2c702a0&#45;&gt;c4cbc68d&#45;98e9&#45;489b&#45;937b&#45;a1b7f7cef565</title>\n",
       "<path fill=\"none\" stroke=\"black\" d=\"M365.78,-274.85C394.67,-262.24 432.07,-245.91 462.85,-232.47\"/>\n",
       "<polygon fill=\"black\" stroke=\"black\" points=\"464.41,-235.61 472.18,-228.4 461.61,-229.2 464.41,-235.61\"/>\n",
       "</g>\n",
       "<!-- 5ab66f53&#45;b14a&#45;4071&#45;8901&#45;5b6af68ed6cf -->\n",
       "<g id=\"node5\" class=\"node\">\n",
       "<title>5ab66f53&#45;b14a&#45;4071&#45;8901&#45;5b6af68ed6cf</title>\n",
       "<ellipse fill=\"none\" stroke=\"black\" cx=\"100.41\" cy=\"-116.61\" rx=\"100.32\" ry=\"26.74\"/>\n",
       "<text text-anchor=\"middle\" x=\"100.41\" y=\"-120.41\" font-family=\"Times-Roman\" font-size=\"14.00\">MarkdownDocument</text>\n",
       "<text text-anchor=\"middle\" x=\"100.41\" y=\"-105.41\" font-family=\"Times-Roman\" font-size=\"14.00\">6af68ed6cf</text>\n",
       "</g>\n",
       "<!-- b0ebe10a&#45;3d44&#45;43c4&#45;a284&#45;e77eb0ef50c1&#45;&gt;5ab66f53&#45;b14a&#45;4071&#45;8901&#45;5b6af68ed6cf -->\n",
       "<g id=\"edge4\" class=\"edge\">\n",
       "<title>b0ebe10a&#45;3d44&#45;43c4&#45;a284&#45;e77eb0ef50c1&#45;&gt;5ab66f53&#45;b14a&#45;4071&#45;8901&#45;5b6af68ed6cf</title>\n",
       "<path fill=\"none\" stroke=\"black\" d=\"M113.11,-179.5C111.44,-171.36 109.56,-162.22 107.78,-153.51\"/>\n",
       "<polygon fill=\"black\" stroke=\"black\" points=\"111.18,-152.67 105.74,-143.58 104.32,-154.08 111.18,-152.67\"/>\n",
       "</g>\n",
       "<!-- b7132967&#45;9682&#45;493c&#45;8260&#45;31ca65940416 -->\n",
       "<g id=\"node6\" class=\"node\">\n",
       "<title>b7132967&#45;9682&#45;493c&#45;8260&#45;31ca65940416</title>\n",
       "<ellipse fill=\"none\" stroke=\"black\" cx=\"319.41\" cy=\"-116.61\" rx=\"100.32\" ry=\"26.74\"/>\n",
       "<text text-anchor=\"middle\" x=\"319.41\" y=\"-120.41\" font-family=\"Times-Roman\" font-size=\"14.00\">MarkdownDocument</text>\n",
       "<text text-anchor=\"middle\" x=\"319.41\" y=\"-105.41\" font-family=\"Times-Roman\" font-size=\"14.00\">ca65940416</text>\n",
       "</g>\n",
       "<!-- f11b4969&#45;c408&#45;4b95&#45;8330&#45;0d475acc32f1&#45;&gt;b7132967&#45;9682&#45;493c&#45;8260&#45;31ca65940416 -->\n",
       "<g id=\"edge5\" class=\"edge\">\n",
       "<title>f11b4969&#45;c408&#45;4b95&#45;8330&#45;0d475acc32f1&#45;&gt;b7132967&#45;9682&#45;493c&#45;8260&#45;31ca65940416</title>\n",
       "<path fill=\"none\" stroke=\"black\" d=\"M319.41,-179.03C319.41,-171.06 319.41,-162.17 319.41,-153.68\"/>\n",
       "<polygon fill=\"black\" stroke=\"black\" points=\"322.91,-153.61 319.41,-143.61 315.91,-153.61 322.91,-153.61\"/>\n",
       "</g>\n",
       "<!-- 4f1d42cf&#45;5120&#45;4160&#45;b24f&#45;feb44d681b78 -->\n",
       "<g id=\"node7\" class=\"node\">\n",
       "<title>4f1d42cf&#45;5120&#45;4160&#45;b24f&#45;feb44d681b78</title>\n",
       "<ellipse fill=\"none\" stroke=\"black\" cx=\"538.41\" cy=\"-116.61\" rx=\"100.32\" ry=\"26.74\"/>\n",
       "<text text-anchor=\"middle\" x=\"538.41\" y=\"-120.41\" font-family=\"Times-Roman\" font-size=\"14.00\">MarkdownDocument</text>\n",
       "<text text-anchor=\"middle\" x=\"538.41\" y=\"-105.41\" font-family=\"Times-Roman\" font-size=\"14.00\">b44d681b78</text>\n",
       "</g>\n",
       "<!-- c4cbc68d&#45;98e9&#45;489b&#45;937b&#45;a1b7f7cef565&#45;&gt;4f1d42cf&#45;5120&#45;4160&#45;b24f&#45;feb44d681b78 -->\n",
       "<g id=\"edge6\" class=\"edge\">\n",
       "<title>c4cbc68d&#45;98e9&#45;489b&#45;937b&#45;a1b7f7cef565&#45;&gt;4f1d42cf&#45;5120&#45;4160&#45;b24f&#45;feb44d681b78</title>\n",
       "<path fill=\"none\" stroke=\"black\" d=\"M525.71,-179.5C527.38,-171.36 529.26,-162.22 531.04,-153.51\"/>\n",
       "<polygon fill=\"black\" stroke=\"black\" points=\"534.5,-154.08 533.08,-143.58 527.64,-152.67 534.5,-154.08\"/>\n",
       "</g>\n",
       "<!-- 3b3323d5&#45;0211&#45;4b2d&#45;983b&#45;4a5dafacf3d0 -->\n",
       "<g id=\"node8\" class=\"node\">\n",
       "<title>3b3323d5&#45;0211&#45;4b2d&#45;983b&#45;4a5dafacf3d0</title>\n",
       "<ellipse fill=\"none\" stroke=\"black\" cx=\"319.41\" cy=\"-26.87\" rx=\"100.32\" ry=\"26.74\"/>\n",
       "<text text-anchor=\"middle\" x=\"319.41\" y=\"-30.67\" font-family=\"Times-Roman\" font-size=\"14.00\">MarkdownDocument</text>\n",
       "<text text-anchor=\"middle\" x=\"319.41\" y=\"-15.67\" font-family=\"Times-Roman\" font-size=\"14.00\">5dafacf3d0</text>\n",
       "</g>\n",
       "<!-- 5ab66f53&#45;b14a&#45;4071&#45;8901&#45;5b6af68ed6cf&#45;&gt;3b3323d5&#45;0211&#45;4b2d&#45;983b&#45;4a5dafacf3d0 -->\n",
       "<g id=\"edge7\" class=\"edge\">\n",
       "<title>5ab66f53&#45;b14a&#45;4071&#45;8901&#45;5b6af68ed6cf&#45;&gt;3b3323d5&#45;0211&#45;4b2d&#45;983b&#45;4a5dafacf3d0</title>\n",
       "<path fill=\"none\" stroke=\"black\" d=\"M154.54,-93.92C185.21,-81.64 223.74,-66.2 255.83,-53.34\"/>\n",
       "<polygon fill=\"black\" stroke=\"black\" points=\"257.16,-56.58 265.14,-49.61 254.55,-50.08 257.16,-56.58\"/>\n",
       "</g>\n",
       "<!-- b7132967&#45;9682&#45;493c&#45;8260&#45;31ca65940416&#45;&gt;3b3323d5&#45;0211&#45;4b2d&#45;983b&#45;4a5dafacf3d0 -->\n",
       "<g id=\"edge8\" class=\"edge\">\n",
       "<title>b7132967&#45;9682&#45;493c&#45;8260&#45;31ca65940416&#45;&gt;3b3323d5&#45;0211&#45;4b2d&#45;983b&#45;4a5dafacf3d0</title>\n",
       "<path fill=\"none\" stroke=\"black\" d=\"M319.41,-89.29C319.41,-81.32 319.41,-72.43 319.41,-63.94\"/>\n",
       "<polygon fill=\"black\" stroke=\"black\" points=\"322.91,-63.87 319.41,-53.87 315.91,-63.87 322.91,-63.87\"/>\n",
       "</g>\n",
       "<!-- 4f1d42cf&#45;5120&#45;4160&#45;b24f&#45;feb44d681b78&#45;&gt;3b3323d5&#45;0211&#45;4b2d&#45;983b&#45;4a5dafacf3d0 -->\n",
       "<g id=\"edge9\" class=\"edge\">\n",
       "<title>4f1d42cf&#45;5120&#45;4160&#45;b24f&#45;feb44d681b78&#45;&gt;3b3323d5&#45;0211&#45;4b2d&#45;983b&#45;4a5dafacf3d0</title>\n",
       "<path fill=\"none\" stroke=\"black\" d=\"M484.27,-93.92C453.61,-81.64 415.08,-66.2 382.98,-53.34\"/>\n",
       "<polygon fill=\"black\" stroke=\"black\" points=\"384.26,-50.08 373.68,-49.61 381.66,-56.58 384.26,-50.08\"/>\n",
       "</g>\n",
       "</g>\n",
       "</svg>\n"
      ],
      "text/plain": [
       "<graphviz.sources.Source at 0x7f604e9b2ca0>"
      ]
     },
     "execution_count": 26,
     "metadata": {},
     "output_type": "execute_result"
    }
   ],
   "source": [
    "# Define Pipeline\n",
    "pipeline = Pipeline(transformers=[\n",
    "    PDF2Images(), Image2Markdown(), CombineMarkdowns()\n",
    "])\n",
    "\n",
    "# Run and visualize it!\n",
    "pdf_doc = PDFDocument(path=\"document.pdf\")\n",
    "markdown_doc = pipeline.run(input=pdf_doc)\n",
    "plot_graph(pipeline.get_traces())"
   ]
  },
  {
   "cell_type": "markdown",
   "metadata": {},
   "source": [
    "Remember, if you need to save each part, you can specify it in the Pipeline\n"
   ]
  },
  {
   "cell_type": "code",
   "execution_count": 31,
   "metadata": {},
   "outputs": [
    {
     "data": {
      "text/plain": [
       "MarkdownDocument(id='79b0149f-adeb-49f8-b18d-1c6659428960', path='document.md', data='OCR 1\\nOCR 2\\nOCR 3\\n', metadata={}, parents=['6d8816a9-8242-4768-a7dc-7b861e75fc93', '373d49a9-7f21-4d02-95c2-9e394a8640c8', '0d440ff8-9a1f-4c9b-b4b9-b8fdc4a3e986'], childrens=[])"
      ]
     },
     "execution_count": 31,
     "metadata": {},
     "output_type": "execute_result"
    }
   ],
   "source": [
    "# Define Pipeline\n",
    "pipeline = Pipeline(transformers=[\n",
    "    PDF2Images(to='images/pag_{metadata[page]}.jpg'),\n",
    "    Image2Markdown(to='images/pag_{metadata[page]}.md'),\n",
    "    CombineMarkdowns(to='document.md')\n",
    "])\n",
    "\n",
    "# Run it!\n",
    "pdf_doc = PDFDocument(path=\"document.pdf\")\n",
    "pipeline.run(input=pdf_doc)"
   ]
  },
  {
   "cell_type": "markdown",
   "metadata": {},
   "source": [
    "## All togheter!\n",
    "\n",
    "Next all definitions and final Pipeline. Insert more than one input document if you need it!"
   ]
  },
  {
   "cell_type": "code",
   "execution_count": 36,
   "metadata": {},
   "outputs": [
    {
     "data": {
      "image/svg+xml": [
       "<?xml version=\"1.0\" encoding=\"UTF-8\" standalone=\"no\"?>\n",
       "<!DOCTYPE svg PUBLIC \"-//W3C//DTD SVG 1.1//EN\"\n",
       " \"http://www.w3.org/Graphics/SVG/1.1/DTD/svg11.dtd\">\n",
       "<!-- Generated by graphviz version 2.44.0 (0)\n",
       " -->\n",
       "<!-- Pages: 1 -->\n",
       "<svg width=\"1304pt\" height=\"331pt\"\n",
       " viewBox=\"0.00 0.00 1303.82 330.96\" xmlns=\"http://www.w3.org/2000/svg\" xmlns:xlink=\"http://www.w3.org/1999/xlink\">\n",
       "<g id=\"graph0\" class=\"graph\" transform=\"scale(1 1) rotate(0) translate(4 326.96)\">\n",
       "<polygon fill=\"white\" stroke=\"transparent\" points=\"-4,4 -4,-326.96 1299.82,-326.96 1299.82,4 -4,4\"/>\n",
       "<!-- 0cf544e2&#45;25fd&#45;467d&#45;82e1&#45;b81feba8cbec -->\n",
       "<g id=\"node1\" class=\"node\">\n",
       "<title>0cf544e2&#45;25fd&#45;467d&#45;82e1&#45;b81feba8cbec</title>\n",
       "<ellipse fill=\"none\" stroke=\"black\" cx=\"319.41\" cy=\"-296.09\" rx=\"74.91\" ry=\"26.74\"/>\n",
       "<text text-anchor=\"middle\" x=\"319.41\" y=\"-299.89\" font-family=\"Times-Roman\" font-size=\"14.00\">PDFDocument</text>\n",
       "<text text-anchor=\"middle\" x=\"319.41\" y=\"-284.89\" font-family=\"Times-Roman\" font-size=\"14.00\">1feba8cbec</text>\n",
       "</g>\n",
       "<!-- 5fd6dd3a&#45;d500&#45;47e6&#45;9689&#45;a3fb65a092df -->\n",
       "<g id=\"node2\" class=\"node\">\n",
       "<title>5fd6dd3a&#45;d500&#45;47e6&#45;9689&#45;a3fb65a092df</title>\n",
       "<ellipse fill=\"none\" stroke=\"black\" cx=\"118.41\" cy=\"-206.35\" rx=\"82.96\" ry=\"26.74\"/>\n",
       "<text text-anchor=\"middle\" x=\"118.41\" y=\"-210.15\" font-family=\"Times-Roman\" font-size=\"14.00\">ImageDocument</text>\n",
       "<text text-anchor=\"middle\" x=\"118.41\" y=\"-195.15\" font-family=\"Times-Roman\" font-size=\"14.00\">fb65a092df</text>\n",
       "</g>\n",
       "<!-- 0cf544e2&#45;25fd&#45;467d&#45;82e1&#45;b81feba8cbec&#45;&gt;5fd6dd3a&#45;d500&#45;47e6&#45;9689&#45;a3fb65a092df -->\n",
       "<g id=\"edge1\" class=\"edge\">\n",
       "<title>0cf544e2&#45;25fd&#45;467d&#45;82e1&#45;b81feba8cbec&#45;&gt;5fd6dd3a&#45;d500&#45;47e6&#45;9689&#45;a3fb65a092df</title>\n",
       "<path fill=\"none\" stroke=\"black\" d=\"M273.04,-274.85C244.15,-262.24 206.75,-245.91 175.96,-232.47\"/>\n",
       "<polygon fill=\"black\" stroke=\"black\" points=\"177.21,-229.2 166.64,-228.4 174.4,-235.61 177.21,-229.2\"/>\n",
       "</g>\n",
       "<!-- b478edb0&#45;c9d5&#45;4c09&#45;a9fa&#45;9683fcdbec3b -->\n",
       "<g id=\"node3\" class=\"node\">\n",
       "<title>b478edb0&#45;c9d5&#45;4c09&#45;a9fa&#45;9683fcdbec3b</title>\n",
       "<ellipse fill=\"none\" stroke=\"black\" cx=\"319.41\" cy=\"-206.35\" rx=\"82.96\" ry=\"26.74\"/>\n",
       "<text text-anchor=\"middle\" x=\"319.41\" y=\"-210.15\" font-family=\"Times-Roman\" font-size=\"14.00\">ImageDocument</text>\n",
       "<text text-anchor=\"middle\" x=\"319.41\" y=\"-195.15\" font-family=\"Times-Roman\" font-size=\"14.00\">83fcdbec3b</text>\n",
       "</g>\n",
       "<!-- 0cf544e2&#45;25fd&#45;467d&#45;82e1&#45;b81feba8cbec&#45;&gt;b478edb0&#45;c9d5&#45;4c09&#45;a9fa&#45;9683fcdbec3b -->\n",
       "<g id=\"edge2\" class=\"edge\">\n",
       "<title>0cf544e2&#45;25fd&#45;467d&#45;82e1&#45;b81feba8cbec&#45;&gt;b478edb0&#45;c9d5&#45;4c09&#45;a9fa&#45;9683fcdbec3b</title>\n",
       "<path fill=\"none\" stroke=\"black\" d=\"M319.41,-268.77C319.41,-260.8 319.41,-251.91 319.41,-243.42\"/>\n",
       "<polygon fill=\"black\" stroke=\"black\" points=\"322.91,-243.35 319.41,-233.35 315.91,-243.35 322.91,-243.35\"/>\n",
       "</g>\n",
       "<!-- c579c18a&#45;9f4a&#45;4111&#45;bab3&#45;66ea79bfa179 -->\n",
       "<g id=\"node4\" class=\"node\">\n",
       "<title>c579c18a&#45;9f4a&#45;4111&#45;bab3&#45;66ea79bfa179</title>\n",
       "<ellipse fill=\"none\" stroke=\"black\" cx=\"520.41\" cy=\"-206.35\" rx=\"82.96\" ry=\"26.74\"/>\n",
       "<text text-anchor=\"middle\" x=\"520.41\" y=\"-210.15\" font-family=\"Times-Roman\" font-size=\"14.00\">ImageDocument</text>\n",
       "<text text-anchor=\"middle\" x=\"520.41\" y=\"-195.15\" font-family=\"Times-Roman\" font-size=\"14.00\">ea79bfa179</text>\n",
       "</g>\n",
       "<!-- 0cf544e2&#45;25fd&#45;467d&#45;82e1&#45;b81feba8cbec&#45;&gt;c579c18a&#45;9f4a&#45;4111&#45;bab3&#45;66ea79bfa179 -->\n",
       "<g id=\"edge3\" class=\"edge\">\n",
       "<title>0cf544e2&#45;25fd&#45;467d&#45;82e1&#45;b81feba8cbec&#45;&gt;c579c18a&#45;9f4a&#45;4111&#45;bab3&#45;66ea79bfa179</title>\n",
       "<path fill=\"none\" stroke=\"black\" d=\"M365.78,-274.85C394.67,-262.24 432.07,-245.91 462.85,-232.47\"/>\n",
       "<polygon fill=\"black\" stroke=\"black\" points=\"464.41,-235.61 472.18,-228.4 461.61,-229.2 464.41,-235.61\"/>\n",
       "</g>\n",
       "<!-- d595d70c&#45;22a1&#45;4acd&#45;be19&#45;408e25fdaa99 -->\n",
       "<g id=\"node9\" class=\"node\">\n",
       "<title>d595d70c&#45;22a1&#45;4acd&#45;be19&#45;408e25fdaa99</title>\n",
       "<ellipse fill=\"none\" stroke=\"black\" cx=\"100.41\" cy=\"-116.61\" rx=\"100.32\" ry=\"26.74\"/>\n",
       "<text text-anchor=\"middle\" x=\"100.41\" y=\"-120.41\" font-family=\"Times-Roman\" font-size=\"14.00\">MarkdownDocument</text>\n",
       "<text text-anchor=\"middle\" x=\"100.41\" y=\"-105.41\" font-family=\"Times-Roman\" font-size=\"14.00\">8e25fdaa99</text>\n",
       "</g>\n",
       "<!-- 5fd6dd3a&#45;d500&#45;47e6&#45;9689&#45;a3fb65a092df&#45;&gt;d595d70c&#45;22a1&#45;4acd&#45;be19&#45;408e25fdaa99 -->\n",
       "<g id=\"edge7\" class=\"edge\">\n",
       "<title>5fd6dd3a&#45;d500&#45;47e6&#45;9689&#45;a3fb65a092df&#45;&gt;d595d70c&#45;22a1&#45;4acd&#45;be19&#45;408e25fdaa99</title>\n",
       "<path fill=\"none\" stroke=\"black\" d=\"M113.11,-179.5C111.44,-171.36 109.56,-162.22 107.78,-153.51\"/>\n",
       "<polygon fill=\"black\" stroke=\"black\" points=\"111.18,-152.67 105.74,-143.58 104.32,-154.08 111.18,-152.67\"/>\n",
       "</g>\n",
       "<!-- 43f2e930&#45;0e4d&#45;43bb&#45;9781&#45;7e514711ee23 -->\n",
       "<g id=\"node10\" class=\"node\">\n",
       "<title>43f2e930&#45;0e4d&#45;43bb&#45;9781&#45;7e514711ee23</title>\n",
       "<ellipse fill=\"none\" stroke=\"black\" cx=\"319.41\" cy=\"-116.61\" rx=\"100.32\" ry=\"26.74\"/>\n",
       "<text text-anchor=\"middle\" x=\"319.41\" y=\"-120.41\" font-family=\"Times-Roman\" font-size=\"14.00\">MarkdownDocument</text>\n",
       "<text text-anchor=\"middle\" x=\"319.41\" y=\"-105.41\" font-family=\"Times-Roman\" font-size=\"14.00\">514711ee23</text>\n",
       "</g>\n",
       "<!-- b478edb0&#45;c9d5&#45;4c09&#45;a9fa&#45;9683fcdbec3b&#45;&gt;43f2e930&#45;0e4d&#45;43bb&#45;9781&#45;7e514711ee23 -->\n",
       "<g id=\"edge8\" class=\"edge\">\n",
       "<title>b478edb0&#45;c9d5&#45;4c09&#45;a9fa&#45;9683fcdbec3b&#45;&gt;43f2e930&#45;0e4d&#45;43bb&#45;9781&#45;7e514711ee23</title>\n",
       "<path fill=\"none\" stroke=\"black\" d=\"M319.41,-179.03C319.41,-171.06 319.41,-162.17 319.41,-153.68\"/>\n",
       "<polygon fill=\"black\" stroke=\"black\" points=\"322.91,-153.61 319.41,-143.61 315.91,-153.61 322.91,-153.61\"/>\n",
       "</g>\n",
       "<!-- fbdf23d3&#45;3cd7&#45;4f97&#45;91b5&#45;95b0d74b80b6 -->\n",
       "<g id=\"node11\" class=\"node\">\n",
       "<title>fbdf23d3&#45;3cd7&#45;4f97&#45;91b5&#45;95b0d74b80b6</title>\n",
       "<ellipse fill=\"none\" stroke=\"black\" cx=\"538.41\" cy=\"-116.61\" rx=\"100.32\" ry=\"26.74\"/>\n",
       "<text text-anchor=\"middle\" x=\"538.41\" y=\"-120.41\" font-family=\"Times-Roman\" font-size=\"14.00\">MarkdownDocument</text>\n",
       "<text text-anchor=\"middle\" x=\"538.41\" y=\"-105.41\" font-family=\"Times-Roman\" font-size=\"14.00\">b0d74b80b6</text>\n",
       "</g>\n",
       "<!-- c579c18a&#45;9f4a&#45;4111&#45;bab3&#45;66ea79bfa179&#45;&gt;fbdf23d3&#45;3cd7&#45;4f97&#45;91b5&#45;95b0d74b80b6 -->\n",
       "<g id=\"edge9\" class=\"edge\">\n",
       "<title>c579c18a&#45;9f4a&#45;4111&#45;bab3&#45;66ea79bfa179&#45;&gt;fbdf23d3&#45;3cd7&#45;4f97&#45;91b5&#45;95b0d74b80b6</title>\n",
       "<path fill=\"none\" stroke=\"black\" d=\"M525.71,-179.5C527.38,-171.36 529.26,-162.22 531.04,-153.51\"/>\n",
       "<polygon fill=\"black\" stroke=\"black\" points=\"534.5,-154.08 533.08,-143.58 527.64,-152.67 534.5,-154.08\"/>\n",
       "</g>\n",
       "<!-- 09cf15a6&#45;97c2&#45;49aa&#45;a3dd&#45;fe216efef00e -->\n",
       "<g id=\"node5\" class=\"node\">\n",
       "<title>09cf15a6&#45;97c2&#45;49aa&#45;a3dd&#45;fe216efef00e</title>\n",
       "<ellipse fill=\"none\" stroke=\"black\" cx=\"976.41\" cy=\"-296.09\" rx=\"74.91\" ry=\"26.74\"/>\n",
       "<text text-anchor=\"middle\" x=\"976.41\" y=\"-299.89\" font-family=\"Times-Roman\" font-size=\"14.00\">PDFDocument</text>\n",
       "<text text-anchor=\"middle\" x=\"976.41\" y=\"-284.89\" font-family=\"Times-Roman\" font-size=\"14.00\">216efef00e</text>\n",
       "</g>\n",
       "<!-- b6868ac5&#45;cbb8&#45;42d9&#45;97a7&#45;6d7bfbdbc09a -->\n",
       "<g id=\"node6\" class=\"node\">\n",
       "<title>b6868ac5&#45;cbb8&#45;42d9&#45;97a7&#45;6d7bfbdbc09a</title>\n",
       "<ellipse fill=\"none\" stroke=\"black\" cx=\"775.41\" cy=\"-206.35\" rx=\"82.96\" ry=\"26.74\"/>\n",
       "<text text-anchor=\"middle\" x=\"775.41\" y=\"-210.15\" font-family=\"Times-Roman\" font-size=\"14.00\">ImageDocument</text>\n",
       "<text text-anchor=\"middle\" x=\"775.41\" y=\"-195.15\" font-family=\"Times-Roman\" font-size=\"14.00\">7bfbdbc09a</text>\n",
       "</g>\n",
       "<!-- 09cf15a6&#45;97c2&#45;49aa&#45;a3dd&#45;fe216efef00e&#45;&gt;b6868ac5&#45;cbb8&#45;42d9&#45;97a7&#45;6d7bfbdbc09a -->\n",
       "<g id=\"edge4\" class=\"edge\">\n",
       "<title>09cf15a6&#45;97c2&#45;49aa&#45;a3dd&#45;fe216efef00e&#45;&gt;b6868ac5&#45;cbb8&#45;42d9&#45;97a7&#45;6d7bfbdbc09a</title>\n",
       "<path fill=\"none\" stroke=\"black\" d=\"M930.04,-274.85C901.15,-262.24 863.75,-245.91 832.96,-232.47\"/>\n",
       "<polygon fill=\"black\" stroke=\"black\" points=\"834.21,-229.2 823.64,-228.4 831.4,-235.61 834.21,-229.2\"/>\n",
       "</g>\n",
       "<!-- cf595a23&#45;bd83&#45;4eeb&#45;bfae&#45;a0e0326c1ca6 -->\n",
       "<g id=\"node7\" class=\"node\">\n",
       "<title>cf595a23&#45;bd83&#45;4eeb&#45;bfae&#45;a0e0326c1ca6</title>\n",
       "<ellipse fill=\"none\" stroke=\"black\" cx=\"976.41\" cy=\"-206.35\" rx=\"82.96\" ry=\"26.74\"/>\n",
       "<text text-anchor=\"middle\" x=\"976.41\" y=\"-210.15\" font-family=\"Times-Roman\" font-size=\"14.00\">ImageDocument</text>\n",
       "<text text-anchor=\"middle\" x=\"976.41\" y=\"-195.15\" font-family=\"Times-Roman\" font-size=\"14.00\">e0326c1ca6</text>\n",
       "</g>\n",
       "<!-- 09cf15a6&#45;97c2&#45;49aa&#45;a3dd&#45;fe216efef00e&#45;&gt;cf595a23&#45;bd83&#45;4eeb&#45;bfae&#45;a0e0326c1ca6 -->\n",
       "<g id=\"edge5\" class=\"edge\">\n",
       "<title>09cf15a6&#45;97c2&#45;49aa&#45;a3dd&#45;fe216efef00e&#45;&gt;cf595a23&#45;bd83&#45;4eeb&#45;bfae&#45;a0e0326c1ca6</title>\n",
       "<path fill=\"none\" stroke=\"black\" d=\"M976.41,-268.77C976.41,-260.8 976.41,-251.91 976.41,-243.42\"/>\n",
       "<polygon fill=\"black\" stroke=\"black\" points=\"979.91,-243.35 976.41,-233.35 972.91,-243.35 979.91,-243.35\"/>\n",
       "</g>\n",
       "<!-- 1d795e20&#45;82c8&#45;4710&#45;a8dd&#45;fb4a0e9f3bb6 -->\n",
       "<g id=\"node8\" class=\"node\">\n",
       "<title>1d795e20&#45;82c8&#45;4710&#45;a8dd&#45;fb4a0e9f3bb6</title>\n",
       "<ellipse fill=\"none\" stroke=\"black\" cx=\"1177.41\" cy=\"-206.35\" rx=\"82.96\" ry=\"26.74\"/>\n",
       "<text text-anchor=\"middle\" x=\"1177.41\" y=\"-210.15\" font-family=\"Times-Roman\" font-size=\"14.00\">ImageDocument</text>\n",
       "<text text-anchor=\"middle\" x=\"1177.41\" y=\"-195.15\" font-family=\"Times-Roman\" font-size=\"14.00\">4a0e9f3bb6</text>\n",
       "</g>\n",
       "<!-- 09cf15a6&#45;97c2&#45;49aa&#45;a3dd&#45;fe216efef00e&#45;&gt;1d795e20&#45;82c8&#45;4710&#45;a8dd&#45;fb4a0e9f3bb6 -->\n",
       "<g id=\"edge6\" class=\"edge\">\n",
       "<title>09cf15a6&#45;97c2&#45;49aa&#45;a3dd&#45;fe216efef00e&#45;&gt;1d795e20&#45;82c8&#45;4710&#45;a8dd&#45;fb4a0e9f3bb6</title>\n",
       "<path fill=\"none\" stroke=\"black\" d=\"M1022.78,-274.85C1051.67,-262.24 1089.07,-245.91 1119.85,-232.47\"/>\n",
       "<polygon fill=\"black\" stroke=\"black\" points=\"1121.41,-235.61 1129.18,-228.4 1118.61,-229.2 1121.41,-235.61\"/>\n",
       "</g>\n",
       "<!-- 68adf027&#45;f618&#45;4805&#45;ab52&#45;69e7b312f6be -->\n",
       "<g id=\"node12\" class=\"node\">\n",
       "<title>68adf027&#45;f618&#45;4805&#45;ab52&#45;69e7b312f6be</title>\n",
       "<ellipse fill=\"none\" stroke=\"black\" cx=\"757.41\" cy=\"-116.61\" rx=\"100.32\" ry=\"26.74\"/>\n",
       "<text text-anchor=\"middle\" x=\"757.41\" y=\"-120.41\" font-family=\"Times-Roman\" font-size=\"14.00\">MarkdownDocument</text>\n",
       "<text text-anchor=\"middle\" x=\"757.41\" y=\"-105.41\" font-family=\"Times-Roman\" font-size=\"14.00\">e7b312f6be</text>\n",
       "</g>\n",
       "<!-- b6868ac5&#45;cbb8&#45;42d9&#45;97a7&#45;6d7bfbdbc09a&#45;&gt;68adf027&#45;f618&#45;4805&#45;ab52&#45;69e7b312f6be -->\n",
       "<g id=\"edge10\" class=\"edge\">\n",
       "<title>b6868ac5&#45;cbb8&#45;42d9&#45;97a7&#45;6d7bfbdbc09a&#45;&gt;68adf027&#45;f618&#45;4805&#45;ab52&#45;69e7b312f6be</title>\n",
       "<path fill=\"none\" stroke=\"black\" d=\"M770.11,-179.5C768.44,-171.36 766.56,-162.22 764.78,-153.51\"/>\n",
       "<polygon fill=\"black\" stroke=\"black\" points=\"768.18,-152.67 762.74,-143.58 761.32,-154.08 768.18,-152.67\"/>\n",
       "</g>\n",
       "<!-- fcac8b66&#45;1994&#45;417f&#45;ba18&#45;433cf8649e35 -->\n",
       "<g id=\"node13\" class=\"node\">\n",
       "<title>fcac8b66&#45;1994&#45;417f&#45;ba18&#45;433cf8649e35</title>\n",
       "<ellipse fill=\"none\" stroke=\"black\" cx=\"976.41\" cy=\"-116.61\" rx=\"100.32\" ry=\"26.74\"/>\n",
       "<text text-anchor=\"middle\" x=\"976.41\" y=\"-120.41\" font-family=\"Times-Roman\" font-size=\"14.00\">MarkdownDocument</text>\n",
       "<text text-anchor=\"middle\" x=\"976.41\" y=\"-105.41\" font-family=\"Times-Roman\" font-size=\"14.00\">3cf8649e35</text>\n",
       "</g>\n",
       "<!-- cf595a23&#45;bd83&#45;4eeb&#45;bfae&#45;a0e0326c1ca6&#45;&gt;fcac8b66&#45;1994&#45;417f&#45;ba18&#45;433cf8649e35 -->\n",
       "<g id=\"edge11\" class=\"edge\">\n",
       "<title>cf595a23&#45;bd83&#45;4eeb&#45;bfae&#45;a0e0326c1ca6&#45;&gt;fcac8b66&#45;1994&#45;417f&#45;ba18&#45;433cf8649e35</title>\n",
       "<path fill=\"none\" stroke=\"black\" d=\"M976.41,-179.03C976.41,-171.06 976.41,-162.17 976.41,-153.68\"/>\n",
       "<polygon fill=\"black\" stroke=\"black\" points=\"979.91,-153.61 976.41,-143.61 972.91,-153.61 979.91,-153.61\"/>\n",
       "</g>\n",
       "<!-- fb882537&#45;f3fa&#45;411f&#45;91eb&#45;ebcbcc50a42f -->\n",
       "<g id=\"node14\" class=\"node\">\n",
       "<title>fb882537&#45;f3fa&#45;411f&#45;91eb&#45;ebcbcc50a42f</title>\n",
       "<ellipse fill=\"none\" stroke=\"black\" cx=\"1195.41\" cy=\"-116.61\" rx=\"100.32\" ry=\"26.74\"/>\n",
       "<text text-anchor=\"middle\" x=\"1195.41\" y=\"-120.41\" font-family=\"Times-Roman\" font-size=\"14.00\">MarkdownDocument</text>\n",
       "<text text-anchor=\"middle\" x=\"1195.41\" y=\"-105.41\" font-family=\"Times-Roman\" font-size=\"14.00\">cbcc50a42f</text>\n",
       "</g>\n",
       "<!-- 1d795e20&#45;82c8&#45;4710&#45;a8dd&#45;fb4a0e9f3bb6&#45;&gt;fb882537&#45;f3fa&#45;411f&#45;91eb&#45;ebcbcc50a42f -->\n",
       "<g id=\"edge12\" class=\"edge\">\n",
       "<title>1d795e20&#45;82c8&#45;4710&#45;a8dd&#45;fb4a0e9f3bb6&#45;&gt;fb882537&#45;f3fa&#45;411f&#45;91eb&#45;ebcbcc50a42f</title>\n",
       "<path fill=\"none\" stroke=\"black\" d=\"M1182.71,-179.5C1184.38,-171.36 1186.26,-162.22 1188.04,-153.51\"/>\n",
       "<polygon fill=\"black\" stroke=\"black\" points=\"1191.5,-154.08 1190.08,-143.58 1184.64,-152.67 1191.5,-154.08\"/>\n",
       "</g>\n",
       "<!-- e267583a&#45;b82d&#45;4768&#45;ab24&#45;de1e28ea1914 -->\n",
       "<g id=\"node15\" class=\"node\">\n",
       "<title>e267583a&#45;b82d&#45;4768&#45;ab24&#45;de1e28ea1914</title>\n",
       "<ellipse fill=\"none\" stroke=\"black\" cx=\"647.41\" cy=\"-26.87\" rx=\"100.32\" ry=\"26.74\"/>\n",
       "<text text-anchor=\"middle\" x=\"647.41\" y=\"-30.67\" font-family=\"Times-Roman\" font-size=\"14.00\">MarkdownDocument</text>\n",
       "<text text-anchor=\"middle\" x=\"647.41\" y=\"-15.67\" font-family=\"Times-Roman\" font-size=\"14.00\">1e28ea1914</text>\n",
       "</g>\n",
       "<!-- d595d70c&#45;22a1&#45;4acd&#45;be19&#45;408e25fdaa99&#45;&gt;e267583a&#45;b82d&#45;4768&#45;ab24&#45;de1e28ea1914 -->\n",
       "<g id=\"edge13\" class=\"edge\">\n",
       "<title>d595d70c&#45;22a1&#45;4acd&#45;be19&#45;408e25fdaa99&#45;&gt;e267583a&#45;b82d&#45;4768&#45;ab24&#45;de1e28ea1914</title>\n",
       "<path fill=\"none\" stroke=\"black\" d=\"M172.1,-97.76C184.82,-94.88 197.97,-92.08 210.41,-89.74 324.8,-68.24 457.29,-50.47 546.13,-39.58\"/>\n",
       "<polygon fill=\"black\" stroke=\"black\" points=\"546.7,-43.03 556.21,-38.35 545.86,-36.08 546.7,-43.03\"/>\n",
       "</g>\n",
       "<!-- 43f2e930&#45;0e4d&#45;43bb&#45;9781&#45;7e514711ee23&#45;&gt;e267583a&#45;b82d&#45;4768&#45;ab24&#45;de1e28ea1914 -->\n",
       "<g id=\"edge14\" class=\"edge\">\n",
       "<title>43f2e930&#45;0e4d&#45;43bb&#45;9781&#45;7e514711ee23&#45;&gt;e267583a&#45;b82d&#45;4768&#45;ab24&#45;de1e28ea1914</title>\n",
       "<path fill=\"none\" stroke=\"black\" d=\"M388.57,-97.11C441.14,-83.05 513.52,-63.69 568.38,-49.01\"/>\n",
       "<polygon fill=\"black\" stroke=\"black\" points=\"569.31,-52.39 578.06,-46.42 567.5,-45.62 569.31,-52.39\"/>\n",
       "</g>\n",
       "<!-- fbdf23d3&#45;3cd7&#45;4f97&#45;91b5&#45;95b0d74b80b6&#45;&gt;e267583a&#45;b82d&#45;4768&#45;ab24&#45;de1e28ea1914 -->\n",
       "<g id=\"edge15\" class=\"edge\">\n",
       "<title>fbdf23d3&#45;3cd7&#45;4f97&#45;91b5&#45;95b0d74b80b6&#45;&gt;e267583a&#45;b82d&#45;4768&#45;ab24&#45;de1e28ea1914</title>\n",
       "<path fill=\"none\" stroke=\"black\" d=\"M569.06,-90.94C581.37,-81.03 595.7,-69.5 608.71,-59.02\"/>\n",
       "<polygon fill=\"black\" stroke=\"black\" points=\"611.01,-61.66 616.61,-52.66 606.62,-56.21 611.01,-61.66\"/>\n",
       "</g>\n",
       "<!-- 68adf027&#45;f618&#45;4805&#45;ab52&#45;69e7b312f6be&#45;&gt;e267583a&#45;b82d&#45;4768&#45;ab24&#45;de1e28ea1914 -->\n",
       "<g id=\"edge16\" class=\"edge\">\n",
       "<title>68adf027&#45;f618&#45;4805&#45;ab52&#45;69e7b312f6be&#45;&gt;e267583a&#45;b82d&#45;4768&#45;ab24&#45;de1e28ea1914</title>\n",
       "<path fill=\"none\" stroke=\"black\" d=\"M726.48,-90.94C714.06,-81.03 699.6,-69.5 686.47,-59.02\"/>\n",
       "<polygon fill=\"black\" stroke=\"black\" points=\"688.49,-56.16 678.49,-52.66 684.13,-61.63 688.49,-56.16\"/>\n",
       "</g>\n",
       "<!-- fcac8b66&#45;1994&#45;417f&#45;ba18&#45;433cf8649e35&#45;&gt;e267583a&#45;b82d&#45;4768&#45;ab24&#45;de1e28ea1914 -->\n",
       "<g id=\"edge17\" class=\"edge\">\n",
       "<title>fcac8b66&#45;1994&#45;417f&#45;ba18&#45;433cf8649e35&#45;&gt;e267583a&#45;b82d&#45;4768&#45;ab24&#45;de1e28ea1914</title>\n",
       "<path fill=\"none\" stroke=\"black\" d=\"M907.04,-97.11C854.22,-83.02 781.46,-63.62 726.4,-48.94\"/>\n",
       "<polygon fill=\"black\" stroke=\"black\" points=\"727.25,-45.54 716.68,-46.34 725.45,-52.3 727.25,-45.54\"/>\n",
       "</g>\n",
       "<!-- fb882537&#45;f3fa&#45;411f&#45;91eb&#45;ebcbcc50a42f&#45;&gt;e267583a&#45;b82d&#45;4768&#45;ab24&#45;de1e28ea1914 -->\n",
       "<g id=\"edge18\" class=\"edge\">\n",
       "<title>fb882537&#45;f3fa&#45;411f&#45;91eb&#45;ebcbcc50a42f&#45;&gt;e267583a&#45;b82d&#45;4768&#45;ab24&#45;de1e28ea1914</title>\n",
       "<path fill=\"none\" stroke=\"black\" d=\"M1123.72,-97.76C1111,-94.88 1097.85,-92.08 1085.41,-89.74 970.58,-68.17 837.54,-50.39 748.49,-39.51\"/>\n",
       "<polygon fill=\"black\" stroke=\"black\" points=\"748.75,-36.01 738.4,-38.28 747.9,-42.96 748.75,-36.01\"/>\n",
       "</g>\n",
       "</g>\n",
       "</svg>\n"
      ],
      "text/plain": [
       "<graphviz.sources.Source at 0x7f607357a160>"
      ]
     },
     "execution_count": 36,
     "metadata": {},
     "output_type": "execute_result"
    }
   ],
   "source": [
    "from document_transformer import Document, DocumentTransformer\n",
    "from document_transformer.utils import plot_graph\n",
    "from typing import List\n",
    "from pathlib import Path\n",
    "import pdf2image\n",
    "\n",
    "######################################################\n",
    "# Documents\n",
    "######################################################\n",
    "class PDFDocument(Document):\n",
    "    \"\"\"Custom class to PDF Documents\"\"\"\n",
    "\n",
    "class ImageDocument(Document):\n",
    "    \"\"\"Custom class to Image Documents\"\"\"\n",
    "    def saver(self, path):\n",
    "        self.data.save(path)\n",
    "        return self\n",
    "\n",
    "class MarkdownDocument(Document):\n",
    "    data: str = ''\n",
    "    def saver(self, path):\n",
    "        with open(path, 'w') as file:\n",
    "            file.write(self.data)\n",
    "        return self\n",
    "\n",
    "    def appender(self, other):\n",
    "        \"\"\"Append other markdown document content to this one\"\"\"\n",
    "        self.data += other.data + '\\n'\n",
    "        return self\n",
    "\n",
    "######################################################\n",
    "# Transfomers\n",
    "######################################################\n",
    "class PDF2Images(DocumentTransformer):\n",
    "    input: PDFDocument = None\n",
    "    output: List[ImageDocument] = []\n",
    "\n",
    "    def transformer(self) -> List[ImageDocument]:\n",
    "        \"\"\"Divide en páginas el documento pdf\"\"\"\n",
    "        images = pdf2image.convert_from_path(self.input.path)\n",
    "        return [\n",
    "            ImageDocument(\n",
    "                metadata={'pdf_path': Path(self.input.path).name, 'page': i+1, 'size': image.size},\n",
    "                data=image,\n",
    "            )\n",
    "            for i, image in enumerate(images)\n",
    "        ]\n",
    "\n",
    "class Image2Markdown(DocumentTransformer):\n",
    "    input: ImageDocument = None\n",
    "    output: MarkdownDocument = None\n",
    "\n",
    "    def ocr(self):\n",
    "        \"\"\"ocr, puede ser una función externa\"\"\"\n",
    "        return f\"OCR {self.input.metadata['page']}\"\n",
    "\n",
    "    def transformer(self):\n",
    "        ocr_text = self.ocr()\n",
    "        return MarkdownDocument(\n",
    "            metadata={'image_path': self.input.path, 'page': self.input.metadata['page']},\n",
    "            data=ocr_text\n",
    "        )\n",
    "\n",
    "class CombineMarkdowns(DocumentTransformer):\n",
    "    input: List[MarkdownDocument] = []\n",
    "    output: MarkdownDocument = None\n",
    "\n",
    "    def transformer(self):\n",
    "        return MarkdownDocument().extend(self.input)\n",
    "    \n",
    "\n",
    "######################################################\n",
    "# Pipeline\n",
    "######################################################\n",
    "pipeline = Pipeline(transformers=[\n",
    "    PDF2Images(to='images/pag_{metadata[page]}.jpg'),\n",
    "    Image2Markdown(to='images/pag_{metadata[page]}.md'),\n",
    "    CombineMarkdowns(to='document.md')\n",
    "])\n",
    "\n",
    "# Run it!\n",
    "pdf_doc1 = PDFDocument(path=\"document.pdf\")\n",
    "pdf_doc2 = PDFDocument(path=\"document.pdf\")\n",
    "\n",
    "markdown_doc = pipeline.run(input=[pdf_doc1, pdf_doc2])\n",
    "plot_graph(pipeline.get_traces())"
   ]
  },
  {
   "cell_type": "markdown",
   "metadata": {},
   "source": [
    "## Conclusions\n",
    "\n",
    "As you can see, `document-transformer` is your friend when it comes to organizing your transformer pipeline. Simply define your components, and `document-transformer` will handle the rest, ensuring traceability and organization. Reuse your work in any project!"
   ]
  }
 ],
 "metadata": {
  "kernelspec": {
   "display_name": "Python 3",
   "language": "python",
   "name": "python3"
  },
  "language_info": {
   "codemirror_mode": {
    "name": "ipython",
    "version": 3
   },
   "file_extension": ".py",
   "mimetype": "text/x-python",
   "name": "python",
   "nbconvert_exporter": "python",
   "pygments_lexer": "ipython3",
   "version": "3.9.16"
  }
 },
 "nbformat": 4,
 "nbformat_minor": 2
}
