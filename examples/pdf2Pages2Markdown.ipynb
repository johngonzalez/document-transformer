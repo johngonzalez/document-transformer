{
 "cells": [
  {
   "cell_type": "markdown",
   "metadata": {},
   "source": [
    "## Separating PDF into Pages (texts and images) and merge them into Markdown\n",
    "\n",
    "If you want begin with a more simple example [pdf2images.ipynb](\"./pdf2images.ipynb\"), and then [pdf2markdown.ipynb](\"./pdf2markdown.ipynb\")\n",
    "\n",
    "In this example, we are going to build a markdown separating each page from pdf in text (ocr) and image, and then merge them into markdown."
   ]
  },
  {
   "cell_type": "markdown",
   "metadata": {},
   "source": [
    "## pdf to markdowns"
   ]
  },
  {
   "cell_type": "markdown",
   "metadata": {},
   "source": [
    "* Define your basic Documents Types"
   ]
  },
  {
   "cell_type": "code",
   "execution_count": 1,
   "metadata": {},
   "outputs": [],
   "source": [
    "# Install pdf2image for this example\n",
    "# !pip install pdf2image"
   ]
  },
  {
   "cell_type": "code",
   "execution_count": 3,
   "metadata": {},
   "outputs": [],
   "source": [
    "from document_transformer import Document, DocumentTransformer\n",
    "from typing import List\n",
    "from pathlib import Path\n",
    "import pdf2image\n",
    "\n",
    "class PDFDocument(Document):\n",
    "    \"\"\"Custom class to PDF Documents\"\"\"\n",
    "\n",
    "class ImageDocument(Document):\n",
    "    \"\"\"Custom class to Image Documents\"\"\"\n",
    "    def saver(self, path):\n",
    "        self.data.save(path)\n",
    "        return self\n",
    "\n",
    "class TextDocument(Document):\n",
    "    def saver(self, path):\n",
    "        with open(path, 'w') as file:\n",
    "            file.write(self.data)\n",
    "        return self"
   ]
  },
  {
   "cell_type": "markdown",
   "metadata": {},
   "source": [
    "* If you want to separate each pdf page in (image, text) pair, you need define `PageContent` to mantain clarity\n",
    "* Consequently, is defined `PDF2Pages` transformer, which takes pdf and create each custom page.\n",
    "* Observe that is created dummy text function, it takes pdf and create all texts for page, similar to `PyMuPDF` works!"
   ]
  },
  {
   "cell_type": "code",
   "execution_count": 4,
   "metadata": {},
   "outputs": [],
   "source": [
    "class ContentPage(Document):\n",
    "    \"\"\"Document class to store the content of a page\"\"\"\n",
    "    image: ImageDocument\n",
    "    text: TextDocument"
   ]
  },
  {
   "cell_type": "code",
   "execution_count": 5,
   "metadata": {},
   "outputs": [],
   "source": [
    "def generate_dummy_text(pdf_path: str):\n",
    "    images = pdf2image.convert_from_path(pdf_path)\n",
    "    texts = [f\"Text from page {i+1}\" for i in range(len(images))]\n",
    "    return texts\n",
    "\n",
    "class PDF2Pages(DocumentTransformer):\n",
    "    input: PDFDocument = None\n",
    "    output: List[ContentPage] = []\n",
    "\n",
    "    def transformer(self) -> List[ImageDocument]:\n",
    "        \"\"\"Divide en páginas el documento pdf\"\"\"\n",
    "        images = pdf2image.convert_from_path(self.input.path)\n",
    "        texts = generate_dummy_text(self.input.path)\n",
    "        return [\n",
    "            ContentPage(\n",
    "                image = ImageDocument(\n",
    "                    metadata={'pdf_path': Path(self.input.path).name, 'page': i+1, 'size': image.size},\n",
    "                    data=image,\n",
    "                ),\n",
    "                text = TextDocument(\n",
    "                    metadata={'pdf_path': Path(self.input.path).name, 'page': i+1},\n",
    "                    data=text,\n",
    "                )\n",
    "            )\n",
    "            for i, (image, text) in enumerate(zip(images, texts))\n",
    "        ]"
   ]
  },
  {
   "cell_type": "markdown",
   "metadata": {},
   "source": [
    "run it!"
   ]
  },
  {
   "cell_type": "code",
   "execution_count": 6,
   "metadata": {},
   "outputs": [],
   "source": [
    "pdf_doc = PDFDocument(path=\"document.pdf\")\n",
    "pages = PDF2Pages(input=pdf_doc).run()\n",
    "\n",
    "for page in pages:\n",
    "    page.image.save(path=f'images/pag_{page.image.metadata[\"page\"]}.jpg')\n",
    "    page.text.save(path=f'texts/pag_{page.text.metadata[\"page\"]}.txt')"
   ]
  },
  {
   "cell_type": "markdown",
   "metadata": {},
   "source": [
    "Observe that pdf_doc has 3 childrens (each page)"
   ]
  },
  {
   "cell_type": "code",
   "execution_count": 7,
   "metadata": {},
   "outputs": [
    {
     "name": "stdout",
     "output_type": "stream",
     "text": [
      "pdf_doc.id:\t\t 3ba24b6f-7df9-4bec-8c5c-e9166a7c68cf\n",
      "pdf_doc.childrens:\t {'ea4775df-e5fa-4e64-873c-08cfabb22497', '453f5ab3-e54c-4004-929b-9ac44a5c543b', '777395b3-43df-493d-bc02-8afd650bbe50'}\n",
      "pages[0].id:\t\t 453f5ab3-e54c-4004-929b-9ac44a5c543b\n"
     ]
    }
   ],
   "source": [
    "print(\"pdf_doc.id:\\t\\t\", pdf_doc.id)\n",
    "print(\"pdf_doc.childrens:\\t\", pdf_doc.childrens)\n",
    "print(\"pages[0].id:\\t\\t\", pages[0].id)"
   ]
  },
  {
   "cell_type": "markdown",
   "metadata": {},
   "source": [
    "And each page contains respective text and image"
   ]
  },
  {
   "cell_type": "code",
   "execution_count": 8,
   "metadata": {},
   "outputs": [
    {
     "name": "stdout",
     "output_type": "stream",
     "text": [
      "pages[0].childrens:\t {'8cee1e31-40c0-4397-9527-e05959230e00', 'ded81605-05a2-4fc7-a6be-2adf166dd5d0'}\n",
      "pages[0].image.id:\t 8cee1e31-40c0-4397-9527-e05959230e00\n",
      "pages[0].text.id:\t ded81605-05a2-4fc7-a6be-2adf166dd5d0\n",
      "pages[0].image.parents:\t {'453f5ab3-e54c-4004-929b-9ac44a5c543b'}\n",
      "pages[0].text.parents:\t {'453f5ab3-e54c-4004-929b-9ac44a5c543b'}\n"
     ]
    }
   ],
   "source": [
    "print(\"pages[0].childrens:\\t\", pages[0].childrens)\n",
    "print(\"pages[0].image.id:\\t\", pages[0].image.id)\n",
    "print(\"pages[0].text.id:\\t\", pages[0].text.id)\n",
    "print(\"pages[0].image.parents:\\t\", pages[0].image.parents)\n",
    "print(\"pages[0].text.parents:\\t\", pages[0].text.parents)"
   ]
  },
  {
   "cell_type": "markdown",
   "metadata": {},
   "source": [
    "* If you prefier, you can define a `Pipeline`.\n",
    "* It automatically traces relactions for all documents!!"
   ]
  },
  {
   "cell_type": "code",
   "execution_count": 9,
   "metadata": {},
   "outputs": [
    {
     "data": {
      "image/svg+xml": [
       "<?xml version=\"1.0\" encoding=\"UTF-8\" standalone=\"no\"?>\n",
       "<!DOCTYPE svg PUBLIC \"-//W3C//DTD SVG 1.1//EN\"\n",
       " \"http://www.w3.org/Graphics/SVG/1.1/DTD/svg11.dtd\">\n",
       "<!-- Generated by graphviz version 2.44.0 (0)\n",
       " -->\n",
       "<!-- Pages: 1 -->\n",
       "<svg width=\"1034pt\" height=\"241pt\"\n",
       " viewBox=\"0.00 0.00 1034.46 241.22\" xmlns=\"http://www.w3.org/2000/svg\" xmlns:xlink=\"http://www.w3.org/1999/xlink\">\n",
       "<g id=\"graph0\" class=\"graph\" transform=\"scale(1 1) rotate(0) translate(4 237.22)\">\n",
       "<polygon fill=\"white\" stroke=\"transparent\" points=\"-4,4 -4,-237.22 1030.46,-237.22 1030.46,4 -4,4\"/>\n",
       "<!-- 65df6119&#45;703c&#45;439e&#45;a63f&#45;2fae81c177ad -->\n",
       "<g id=\"node1\" class=\"node\">\n",
       "<title>65df6119&#45;703c&#45;439e&#45;a63f&#45;2fae81c177ad</title>\n",
       "<ellipse fill=\"none\" stroke=\"black\" cx=\"508.73\" cy=\"-206.35\" rx=\"74.91\" ry=\"26.74\"/>\n",
       "<text text-anchor=\"middle\" x=\"508.73\" y=\"-210.15\" font-family=\"Times-Roman\" font-size=\"14.00\">PDFDocument</text>\n",
       "<text text-anchor=\"middle\" x=\"508.73\" y=\"-195.15\" font-family=\"Times-Roman\" font-size=\"14.00\">ae81c177ad</text>\n",
       "</g>\n",
       "<!-- 442a0ab2&#45;684b&#45;4446&#45;a2fc&#45;640317783c21 -->\n",
       "<g id=\"node2\" class=\"node\">\n",
       "<title>442a0ab2&#45;684b&#45;4446&#45;a2fc&#45;640317783c21</title>\n",
       "<ellipse fill=\"none\" stroke=\"black\" cx=\"256.73\" cy=\"-116.61\" rx=\"67.35\" ry=\"26.74\"/>\n",
       "<text text-anchor=\"middle\" x=\"256.73\" y=\"-120.41\" font-family=\"Times-Roman\" font-size=\"14.00\">ContentPage</text>\n",
       "<text text-anchor=\"middle\" x=\"256.73\" y=\"-105.41\" font-family=\"Times-Roman\" font-size=\"14.00\">0317783c21</text>\n",
       "</g>\n",
       "<!-- 65df6119&#45;703c&#45;439e&#45;a63f&#45;2fae81c177ad&#45;&gt;442a0ab2&#45;684b&#45;4446&#45;a2fc&#45;640317783c21 -->\n",
       "<g id=\"edge1\" class=\"edge\">\n",
       "<title>65df6119&#45;703c&#45;439e&#45;a63f&#45;2fae81c177ad&#45;&gt;442a0ab2&#45;684b&#45;4446&#45;a2fc&#45;640317783c21</title>\n",
       "<path fill=\"none\" stroke=\"black\" d=\"M456.21,-187.06C415.26,-172.81 358.4,-153.01 315.85,-138.19\"/>\n",
       "<polygon fill=\"black\" stroke=\"black\" points=\"316.78,-134.81 306.19,-134.83 314.48,-141.42 316.78,-134.81\"/>\n",
       "</g>\n",
       "<!-- 06b29340&#45;72b9&#45;4808&#45;8fd1&#45;6a4a9895dcb9 -->\n",
       "<g id=\"node3\" class=\"node\">\n",
       "<title>06b29340&#45;72b9&#45;4808&#45;8fd1&#45;6a4a9895dcb9</title>\n",
       "<ellipse fill=\"none\" stroke=\"black\" cx=\"508.73\" cy=\"-116.61\" rx=\"67.35\" ry=\"26.74\"/>\n",
       "<text text-anchor=\"middle\" x=\"508.73\" y=\"-120.41\" font-family=\"Times-Roman\" font-size=\"14.00\">ContentPage</text>\n",
       "<text text-anchor=\"middle\" x=\"508.73\" y=\"-105.41\" font-family=\"Times-Roman\" font-size=\"14.00\">4a9895dcb9</text>\n",
       "</g>\n",
       "<!-- 65df6119&#45;703c&#45;439e&#45;a63f&#45;2fae81c177ad&#45;&gt;06b29340&#45;72b9&#45;4808&#45;8fd1&#45;6a4a9895dcb9 -->\n",
       "<g id=\"edge2\" class=\"edge\">\n",
       "<title>65df6119&#45;703c&#45;439e&#45;a63f&#45;2fae81c177ad&#45;&gt;06b29340&#45;72b9&#45;4808&#45;8fd1&#45;6a4a9895dcb9</title>\n",
       "<path fill=\"none\" stroke=\"black\" d=\"M508.73,-179.03C508.73,-171.06 508.73,-162.17 508.73,-153.68\"/>\n",
       "<polygon fill=\"black\" stroke=\"black\" points=\"512.23,-153.61 508.73,-143.61 505.23,-153.61 512.23,-153.61\"/>\n",
       "</g>\n",
       "<!-- d7b02465&#45;5c56&#45;40f2&#45;b29f&#45;13c4aa52e409 -->\n",
       "<g id=\"node4\" class=\"node\">\n",
       "<title>d7b02465&#45;5c56&#45;40f2&#45;b29f&#45;13c4aa52e409</title>\n",
       "<ellipse fill=\"none\" stroke=\"black\" cx=\"769.73\" cy=\"-116.61\" rx=\"67.35\" ry=\"26.74\"/>\n",
       "<text text-anchor=\"middle\" x=\"769.73\" y=\"-120.41\" font-family=\"Times-Roman\" font-size=\"14.00\">ContentPage</text>\n",
       "<text text-anchor=\"middle\" x=\"769.73\" y=\"-105.41\" font-family=\"Times-Roman\" font-size=\"14.00\">c4aa52e409</text>\n",
       "</g>\n",
       "<!-- 65df6119&#45;703c&#45;439e&#45;a63f&#45;2fae81c177ad&#45;&gt;d7b02465&#45;5c56&#45;40f2&#45;b29f&#45;13c4aa52e409 -->\n",
       "<g id=\"edge3\" class=\"edge\">\n",
       "<title>65df6119&#45;703c&#45;439e&#45;a63f&#45;2fae81c177ad&#45;&gt;d7b02465&#45;5c56&#45;40f2&#45;b29f&#45;13c4aa52e409</title>\n",
       "<path fill=\"none\" stroke=\"black\" d=\"M562.18,-187.38C605.11,-172.95 665.38,-152.69 709.92,-137.72\"/>\n",
       "<polygon fill=\"black\" stroke=\"black\" points=\"711.09,-141.02 719.46,-134.51 708.86,-134.38 711.09,-141.02\"/>\n",
       "</g>\n",
       "<!-- 8e9e8756&#45;0604&#45;4560&#45;a604&#45;6ab6b8c4f3a2 -->\n",
       "<g id=\"node5\" class=\"node\">\n",
       "<title>8e9e8756&#45;0604&#45;4560&#45;a604&#45;6ab6b8c4f3a2</title>\n",
       "<ellipse fill=\"none\" stroke=\"black\" cx=\"82.73\" cy=\"-26.87\" rx=\"82.96\" ry=\"26.74\"/>\n",
       "<text text-anchor=\"middle\" x=\"82.73\" y=\"-30.67\" font-family=\"Times-Roman\" font-size=\"14.00\">ImageDocument</text>\n",
       "<text text-anchor=\"middle\" x=\"82.73\" y=\"-15.67\" font-family=\"Times-Roman\" font-size=\"14.00\">b6b8c4f3a2</text>\n",
       "</g>\n",
       "<!-- 442a0ab2&#45;684b&#45;4446&#45;a2fc&#45;640317783c21&#45;&gt;8e9e8756&#45;0604&#45;4560&#45;a604&#45;6ab6b8c4f3a2 -->\n",
       "<g id=\"edge4\" class=\"edge\">\n",
       "<title>442a0ab2&#45;684b&#45;4446&#45;a2fc&#45;640317783c21&#45;&gt;8e9e8756&#45;0604&#45;4560&#45;a604&#45;6ab6b8c4f3a2</title>\n",
       "<path fill=\"none\" stroke=\"black\" d=\"M215.94,-95.04C191.86,-82.9 161.12,-67.4 135.24,-54.35\"/>\n",
       "<polygon fill=\"black\" stroke=\"black\" points=\"136.82,-51.22 126.31,-49.85 133.67,-57.47 136.82,-51.22\"/>\n",
       "</g>\n",
       "<!-- 312fc59b&#45;0265&#45;45ed&#45;92af&#45;8bc4b585d0f3 -->\n",
       "<g id=\"node6\" class=\"node\">\n",
       "<title>312fc59b&#45;0265&#45;45ed&#45;92af&#45;8bc4b585d0f3</title>\n",
       "<ellipse fill=\"none\" stroke=\"black\" cx=\"256.73\" cy=\"-26.87\" rx=\"73.58\" ry=\"26.74\"/>\n",
       "<text text-anchor=\"middle\" x=\"256.73\" y=\"-30.67\" font-family=\"Times-Roman\" font-size=\"14.00\">TextDocument</text>\n",
       "<text text-anchor=\"middle\" x=\"256.73\" y=\"-15.67\" font-family=\"Times-Roman\" font-size=\"14.00\">c4b585d0f3</text>\n",
       "</g>\n",
       "<!-- 442a0ab2&#45;684b&#45;4446&#45;a2fc&#45;640317783c21&#45;&gt;312fc59b&#45;0265&#45;45ed&#45;92af&#45;8bc4b585d0f3 -->\n",
       "<g id=\"edge5\" class=\"edge\">\n",
       "<title>442a0ab2&#45;684b&#45;4446&#45;a2fc&#45;640317783c21&#45;&gt;312fc59b&#45;0265&#45;45ed&#45;92af&#45;8bc4b585d0f3</title>\n",
       "<path fill=\"none\" stroke=\"black\" d=\"M256.73,-89.29C256.73,-81.32 256.73,-72.43 256.73,-63.94\"/>\n",
       "<polygon fill=\"black\" stroke=\"black\" points=\"260.23,-63.87 256.73,-53.87 253.23,-63.87 260.23,-63.87\"/>\n",
       "</g>\n",
       "<!-- 9f3a957e&#45;7e73&#45;4c8b&#45;8292&#45;49c3e8c3b8d3 -->\n",
       "<g id=\"node7\" class=\"node\">\n",
       "<title>9f3a957e&#45;7e73&#45;4c8b&#45;8292&#45;49c3e8c3b8d3</title>\n",
       "<ellipse fill=\"none\" stroke=\"black\" cx=\"421.73\" cy=\"-26.87\" rx=\"73.58\" ry=\"26.74\"/>\n",
       "<text text-anchor=\"middle\" x=\"421.73\" y=\"-30.67\" font-family=\"Times-Roman\" font-size=\"14.00\">TextDocument</text>\n",
       "<text text-anchor=\"middle\" x=\"421.73\" y=\"-15.67\" font-family=\"Times-Roman\" font-size=\"14.00\">c3e8c3b8d3</text>\n",
       "</g>\n",
       "<!-- 06b29340&#45;72b9&#45;4808&#45;8fd1&#45;6a4a9895dcb9&#45;&gt;9f3a957e&#45;7e73&#45;4c8b&#45;8292&#45;49c3e8c3b8d3 -->\n",
       "<g id=\"edge6\" class=\"edge\">\n",
       "<title>06b29340&#45;72b9&#45;4808&#45;8fd1&#45;6a4a9895dcb9&#45;&gt;9f3a957e&#45;7e73&#45;4c8b&#45;8292&#45;49c3e8c3b8d3</title>\n",
       "<path fill=\"none\" stroke=\"black\" d=\"M484.5,-91.17C474.87,-81.46 463.66,-70.16 453.4,-59.81\"/>\n",
       "<polygon fill=\"black\" stroke=\"black\" points=\"455.66,-57.12 446.14,-52.48 450.69,-62.05 455.66,-57.12\"/>\n",
       "</g>\n",
       "<!-- c0ad0112&#45;3592&#45;4195&#45;b47c&#45;d3c0739d4f5d -->\n",
       "<g id=\"node8\" class=\"node\">\n",
       "<title>c0ad0112&#45;3592&#45;4195&#45;b47c&#45;d3c0739d4f5d</title>\n",
       "<ellipse fill=\"none\" stroke=\"black\" cx=\"595.73\" cy=\"-26.87\" rx=\"82.96\" ry=\"26.74\"/>\n",
       "<text text-anchor=\"middle\" x=\"595.73\" y=\"-30.67\" font-family=\"Times-Roman\" font-size=\"14.00\">ImageDocument</text>\n",
       "<text text-anchor=\"middle\" x=\"595.73\" y=\"-15.67\" font-family=\"Times-Roman\" font-size=\"14.00\">c0739d4f5d</text>\n",
       "</g>\n",
       "<!-- 06b29340&#45;72b9&#45;4808&#45;8fd1&#45;6a4a9895dcb9&#45;&gt;c0ad0112&#45;3592&#45;4195&#45;b47c&#45;d3c0739d4f5d -->\n",
       "<g id=\"edge7\" class=\"edge\">\n",
       "<title>06b29340&#45;72b9&#45;4808&#45;8fd1&#45;6a4a9895dcb9&#45;&gt;c0ad0112&#45;3592&#45;4195&#45;b47c&#45;d3c0739d4f5d</title>\n",
       "<path fill=\"none\" stroke=\"black\" d=\"M532.97,-91.17C542.51,-81.54 553.61,-70.35 563.8,-60.07\"/>\n",
       "<polygon fill=\"black\" stroke=\"black\" points=\"566.47,-62.35 571.02,-52.79 561.5,-57.43 566.47,-62.35\"/>\n",
       "</g>\n",
       "<!-- 76c1f758&#45;6d85&#45;4f6b&#45;8f6d&#45;dca35e180f48 -->\n",
       "<g id=\"node9\" class=\"node\">\n",
       "<title>76c1f758&#45;6d85&#45;4f6b&#45;8f6d&#45;dca35e180f48</title>\n",
       "<ellipse fill=\"none\" stroke=\"black\" cx=\"769.73\" cy=\"-26.87\" rx=\"73.58\" ry=\"26.74\"/>\n",
       "<text text-anchor=\"middle\" x=\"769.73\" y=\"-30.67\" font-family=\"Times-Roman\" font-size=\"14.00\">TextDocument</text>\n",
       "<text text-anchor=\"middle\" x=\"769.73\" y=\"-15.67\" font-family=\"Times-Roman\" font-size=\"14.00\">a35e180f48</text>\n",
       "</g>\n",
       "<!-- d7b02465&#45;5c56&#45;40f2&#45;b29f&#45;13c4aa52e409&#45;&gt;76c1f758&#45;6d85&#45;4f6b&#45;8f6d&#45;dca35e180f48 -->\n",
       "<g id=\"edge8\" class=\"edge\">\n",
       "<title>d7b02465&#45;5c56&#45;40f2&#45;b29f&#45;13c4aa52e409&#45;&gt;76c1f758&#45;6d85&#45;4f6b&#45;8f6d&#45;dca35e180f48</title>\n",
       "<path fill=\"none\" stroke=\"black\" d=\"M769.73,-89.29C769.73,-81.32 769.73,-72.43 769.73,-63.94\"/>\n",
       "<polygon fill=\"black\" stroke=\"black\" points=\"773.23,-63.87 769.73,-53.87 766.23,-63.87 773.23,-63.87\"/>\n",
       "</g>\n",
       "<!-- 199d2361&#45;b2a5&#45;4767&#45;84f7&#45;20b871daac8c -->\n",
       "<g id=\"node10\" class=\"node\">\n",
       "<title>199d2361&#45;b2a5&#45;4767&#45;84f7&#45;20b871daac8c</title>\n",
       "<ellipse fill=\"none\" stroke=\"black\" cx=\"943.73\" cy=\"-26.87\" rx=\"82.96\" ry=\"26.74\"/>\n",
       "<text text-anchor=\"middle\" x=\"943.73\" y=\"-30.67\" font-family=\"Times-Roman\" font-size=\"14.00\">ImageDocument</text>\n",
       "<text text-anchor=\"middle\" x=\"943.73\" y=\"-15.67\" font-family=\"Times-Roman\" font-size=\"14.00\">b871daac8c</text>\n",
       "</g>\n",
       "<!-- d7b02465&#45;5c56&#45;40f2&#45;b29f&#45;13c4aa52e409&#45;&gt;199d2361&#45;b2a5&#45;4767&#45;84f7&#45;20b871daac8c -->\n",
       "<g id=\"edge9\" class=\"edge\">\n",
       "<title>d7b02465&#45;5c56&#45;40f2&#45;b29f&#45;13c4aa52e409&#45;&gt;199d2361&#45;b2a5&#45;4767&#45;84f7&#45;20b871daac8c</title>\n",
       "<path fill=\"none\" stroke=\"black\" d=\"M810.53,-95.04C834.61,-82.9 865.34,-67.4 891.22,-54.35\"/>\n",
       "<polygon fill=\"black\" stroke=\"black\" points=\"892.8,-57.47 900.15,-49.85 889.65,-51.22 892.8,-57.47\"/>\n",
       "</g>\n",
       "</g>\n",
       "</svg>\n"
      ],
      "text/plain": [
       "<graphviz.sources.Source at 0x7f1fb40e00d0>"
      ]
     },
     "execution_count": 9,
     "metadata": {},
     "output_type": "execute_result"
    }
   ],
   "source": [
    "from document_transformer import Pipeline\n",
    "from document_transformer.utils import plot_graph\n",
    "\n",
    "pdf_doc = PDFDocument(path=\"document.pdf\")\n",
    "pipeline = Pipeline(transformers=[\n",
    "    PDF2Pages(to={\n",
    "        'ImageDocument': 'images/pag_{metadata[page]}.jpg',\n",
    "        'TextDocument': 'texts/pag_{metadata[page]}.txt',\n",
    "    })\n",
    "])\n",
    "pages = pipeline.run(input=pdf_doc)\n",
    "plot_graph(pipeline.get_traces())"
   ]
  },
  {
   "cell_type": "markdown",
   "metadata": {},
   "source": [
    "## Combine markdowns\n",
    "\n",
    "Now, we are going to merge the markdowns. For that we need to increase the skills of `MarkdownDocument`. Let me define the `appender` method."
   ]
  },
  {
   "cell_type": "code",
   "execution_count": 11,
   "metadata": {},
   "outputs": [],
   "source": [
    "class MarkdownDocument(Document):\n",
    "    data: str = ''\n",
    "    def saver(self, path):\n",
    "        with open(path, 'w') as file:\n",
    "            file.write(self.data)\n",
    "        return self\n",
    "\n",
    "    def appender(self, other):\n",
    "        \"\"\"Append other markdown document content to this one\"\"\"\n",
    "        self.data += other.data + '\\n'\n",
    "        return self\n"
   ]
  },
  {
   "cell_type": "markdown",
   "metadata": {},
   "source": [
    "That is all, now we can to append each markdown document to another"
   ]
  },
  {
   "cell_type": "markdown",
   "metadata": {},
   "source": [
    "Alternatively, you can always create a `DocumentTransformer` class to handle this task\n"
   ]
  },
  {
   "cell_type": "code",
   "execution_count": 12,
   "metadata": {},
   "outputs": [],
   "source": [
    "class Page2Markdown(DocumentTransformer):\n",
    "    input: ContentPage = None\n",
    "    output: MarkdownDocument = None\n",
    "\n",
    "    def transformer(self):\n",
    "        page = self.input.image.metadata['page']\n",
    "        return MarkdownDocument(\n",
    "            data=(\n",
    "                f\"## Page {page}\\n\\n \"\n",
    "                f\"[image](images/pag_{page}.jpg)\\n\\n \"\n",
    "                f\"{self.input.text.data}\"\n",
    "            ),\n",
    "            metadata={'page': page}\n",
    "        )\n",
    "    \n",
    "class CombineMarkdowns(DocumentTransformer):\n",
    "    input: List[MarkdownDocument] = []\n",
    "    output: MarkdownDocument = None\n",
    "\n",
    "    def transformer(self):\n",
    "        return MarkdownDocument().extend(self.input)\n"
   ]
  },
  {
   "cell_type": "markdown",
   "metadata": {},
   "source": [
    "Which brings a reward! Now you can extend your Pipeline"
   ]
  },
  {
   "cell_type": "code",
   "execution_count": 13,
   "metadata": {},
   "outputs": [
    {
     "name": "stdout",
     "output_type": "stream",
     "text": [
      "[MarkdownDocument(id='21a89868-b97f-424e-99c0-d535707ac7b7', path='markdowns/pag_1.txt', data='## Page 1\\n\\n [image](images/pag_1.jpg)\\n\\n Text from page 1', metadata={'page': 1}, parents={'f298dddf-72e3-48b2-bad1-7080bdab593f'}, childrens=set()), MarkdownDocument(id='c2c6760e-1288-4ad5-868c-4276d2c3b973', path='markdowns/pag_2.txt', data='## Page 2\\n\\n [image](images/pag_2.jpg)\\n\\n Text from page 2', metadata={'page': 2}, parents={'3e42e189-d687-49d5-a41c-b11d4b03bc7d'}, childrens=set()), MarkdownDocument(id='d893d6e3-ee43-4404-93da-52c69196aab2', path='markdowns/pag_3.txt', data='## Page 3\\n\\n [image](images/pag_3.jpg)\\n\\n Text from page 3', metadata={'page': 3}, parents={'d6f5241c-6629-49c8-b254-bff91c687310'}, childrens=set())]\n"
     ]
    },
    {
     "data": {
      "image/svg+xml": [
       "<?xml version=\"1.0\" encoding=\"UTF-8\" standalone=\"no\"?>\n",
       "<!DOCTYPE svg PUBLIC \"-//W3C//DTD SVG 1.1//EN\"\n",
       " \"http://www.w3.org/Graphics/SVG/1.1/DTD/svg11.dtd\">\n",
       "<!-- Generated by graphviz version 2.44.0 (0)\n",
       " -->\n",
       "<!-- Pages: 1 -->\n",
       "<svg width=\"1691pt\" height=\"331pt\"\n",
       " viewBox=\"0.00 0.00 1690.95 330.96\" xmlns=\"http://www.w3.org/2000/svg\" xmlns:xlink=\"http://www.w3.org/1999/xlink\">\n",
       "<g id=\"graph0\" class=\"graph\" transform=\"scale(1 1) rotate(0) translate(4 326.96)\">\n",
       "<polygon fill=\"white\" stroke=\"transparent\" points=\"-4,4 -4,-326.96 1686.95,-326.96 1686.95,4 -4,4\"/>\n",
       "<!-- 4fcf0949&#45;962f&#45;402b&#45;9459&#45;57a9a67b01b5 -->\n",
       "<g id=\"node1\" class=\"node\">\n",
       "<title>4fcf0949&#45;962f&#45;402b&#45;9459&#45;57a9a67b01b5</title>\n",
       "<ellipse fill=\"none\" stroke=\"black\" cx=\"859.41\" cy=\"-296.09\" rx=\"74.91\" ry=\"26.74\"/>\n",
       "<text text-anchor=\"middle\" x=\"859.41\" y=\"-299.89\" font-family=\"Times-Roman\" font-size=\"14.00\">PDFDocument</text>\n",
       "<text text-anchor=\"middle\" x=\"859.41\" y=\"-284.89\" font-family=\"Times-Roman\" font-size=\"14.00\">a9a67b01b5</text>\n",
       "</g>\n",
       "<!-- f298dddf&#45;72e3&#45;48b2&#45;bad1&#45;7080bdab593f -->\n",
       "<g id=\"node2\" class=\"node\">\n",
       "<title>f298dddf&#45;72e3&#45;48b2&#45;bad1&#45;7080bdab593f</title>\n",
       "<ellipse fill=\"none\" stroke=\"black\" cx=\"388.41\" cy=\"-206.35\" rx=\"67.35\" ry=\"26.74\"/>\n",
       "<text text-anchor=\"middle\" x=\"388.41\" y=\"-210.15\" font-family=\"Times-Roman\" font-size=\"14.00\">ContentPage</text>\n",
       "<text text-anchor=\"middle\" x=\"388.41\" y=\"-195.15\" font-family=\"Times-Roman\" font-size=\"14.00\">80bdab593f</text>\n",
       "</g>\n",
       "<!-- 4fcf0949&#45;962f&#45;402b&#45;9459&#45;57a9a67b01b5&#45;&gt;f298dddf&#45;72e3&#45;48b2&#45;bad1&#45;7080bdab593f -->\n",
       "<g id=\"edge1\" class=\"edge\">\n",
       "<title>4fcf0949&#45;962f&#45;402b&#45;9459&#45;57a9a67b01b5&#45;&gt;f298dddf&#45;72e3&#45;48b2&#45;bad1&#45;7080bdab593f</title>\n",
       "<path fill=\"none\" stroke=\"black\" d=\"M793.92,-282.89C705.6,-266.44 548.98,-237.26 458.4,-220.39\"/>\n",
       "<polygon fill=\"black\" stroke=\"black\" points=\"458.97,-216.94 448.5,-218.54 457.69,-223.82 458.97,-216.94\"/>\n",
       "</g>\n",
       "<!-- 3e42e189&#45;d687&#45;49d5&#45;a41c&#45;b11d4b03bc7d -->\n",
       "<g id=\"node3\" class=\"node\">\n",
       "<title>3e42e189&#45;d687&#45;49d5&#45;a41c&#45;b11d4b03bc7d</title>\n",
       "<ellipse fill=\"none\" stroke=\"black\" cx=\"859.41\" cy=\"-206.35\" rx=\"67.35\" ry=\"26.74\"/>\n",
       "<text text-anchor=\"middle\" x=\"859.41\" y=\"-210.15\" font-family=\"Times-Roman\" font-size=\"14.00\">ContentPage</text>\n",
       "<text text-anchor=\"middle\" x=\"859.41\" y=\"-195.15\" font-family=\"Times-Roman\" font-size=\"14.00\">1d4b03bc7d</text>\n",
       "</g>\n",
       "<!-- 4fcf0949&#45;962f&#45;402b&#45;9459&#45;57a9a67b01b5&#45;&gt;3e42e189&#45;d687&#45;49d5&#45;a41c&#45;b11d4b03bc7d -->\n",
       "<g id=\"edge2\" class=\"edge\">\n",
       "<title>4fcf0949&#45;962f&#45;402b&#45;9459&#45;57a9a67b01b5&#45;&gt;3e42e189&#45;d687&#45;49d5&#45;a41c&#45;b11d4b03bc7d</title>\n",
       "<path fill=\"none\" stroke=\"black\" d=\"M859.41,-268.77C859.41,-260.8 859.41,-251.91 859.41,-243.42\"/>\n",
       "<polygon fill=\"black\" stroke=\"black\" points=\"862.91,-243.35 859.41,-233.35 855.91,-243.35 862.91,-243.35\"/>\n",
       "</g>\n",
       "<!-- d6f5241c&#45;6629&#45;49c8&#45;b254&#45;bff91c687310 -->\n",
       "<g id=\"node4\" class=\"node\">\n",
       "<title>d6f5241c&#45;6629&#45;49c8&#45;b254&#45;bff91c687310</title>\n",
       "<ellipse fill=\"none\" stroke=\"black\" cx=\"1334.41\" cy=\"-206.35\" rx=\"67.35\" ry=\"26.74\"/>\n",
       "<text text-anchor=\"middle\" x=\"1334.41\" y=\"-210.15\" font-family=\"Times-Roman\" font-size=\"14.00\">ContentPage</text>\n",
       "<text text-anchor=\"middle\" x=\"1334.41\" y=\"-195.15\" font-family=\"Times-Roman\" font-size=\"14.00\">f91c687310</text>\n",
       "</g>\n",
       "<!-- 4fcf0949&#45;962f&#45;402b&#45;9459&#45;57a9a67b01b5&#45;&gt;d6f5241c&#45;6629&#45;49c8&#45;b254&#45;bff91c687310 -->\n",
       "<g id=\"edge3\" class=\"edge\">\n",
       "<title>4fcf0949&#45;962f&#45;402b&#45;9459&#45;57a9a67b01b5&#45;&gt;d6f5241c&#45;6629&#45;49c8&#45;b254&#45;bff91c687310</title>\n",
       "<path fill=\"none\" stroke=\"black\" d=\"M924.96,-282.98C1014.13,-266.51 1172.99,-237.17 1264.41,-220.28\"/>\n",
       "<polygon fill=\"black\" stroke=\"black\" points=\"1265.21,-223.69 1274.4,-218.43 1263.93,-216.81 1265.21,-223.69\"/>\n",
       "</g>\n",
       "<!-- 21a89868&#45;b97f&#45;424e&#45;99c0&#45;d535707ac7b7 -->\n",
       "<g id=\"node5\" class=\"node\">\n",
       "<title>21a89868&#45;b97f&#45;424e&#45;99c0&#45;d535707ac7b7</title>\n",
       "<ellipse fill=\"none\" stroke=\"black\" cx=\"100.41\" cy=\"-116.61\" rx=\"100.32\" ry=\"26.74\"/>\n",
       "<text text-anchor=\"middle\" x=\"100.41\" y=\"-120.41\" font-family=\"Times-Roman\" font-size=\"14.00\">MarkdownDocument</text>\n",
       "<text text-anchor=\"middle\" x=\"100.41\" y=\"-105.41\" font-family=\"Times-Roman\" font-size=\"14.00\">35707ac7b7</text>\n",
       "</g>\n",
       "<!-- f298dddf&#45;72e3&#45;48b2&#45;bad1&#45;7080bdab593f&#45;&gt;21a89868&#45;b97f&#45;424e&#45;99c0&#45;d535707ac7b7 -->\n",
       "<g id=\"edge4\" class=\"edge\">\n",
       "<title>f298dddf&#45;72e3&#45;48b2&#45;bad1&#45;7080bdab593f&#45;&gt;21a89868&#45;b97f&#45;424e&#45;99c0&#45;d535707ac7b7</title>\n",
       "<path fill=\"none\" stroke=\"black\" d=\"M335.92,-189.36C290.73,-175.59 225,-155.57 174.46,-140.17\"/>\n",
       "<polygon fill=\"black\" stroke=\"black\" points=\"175.47,-136.82 164.89,-137.25 173.43,-143.52 175.47,-136.82\"/>\n",
       "</g>\n",
       "<!-- de2d0a2b&#45;21c7&#45;4311&#45;8e98&#45;912102748d41 -->\n",
       "<g id=\"node6\" class=\"node\">\n",
       "<title>de2d0a2b&#45;21c7&#45;4311&#45;8e98&#45;912102748d41</title>\n",
       "<ellipse fill=\"none\" stroke=\"black\" cx=\"301.41\" cy=\"-116.61\" rx=\"82.96\" ry=\"26.74\"/>\n",
       "<text text-anchor=\"middle\" x=\"301.41\" y=\"-120.41\" font-family=\"Times-Roman\" font-size=\"14.00\">ImageDocument</text>\n",
       "<text text-anchor=\"middle\" x=\"301.41\" y=\"-105.41\" font-family=\"Times-Roman\" font-size=\"14.00\">2102748d41</text>\n",
       "</g>\n",
       "<!-- f298dddf&#45;72e3&#45;48b2&#45;bad1&#45;7080bdab593f&#45;&gt;de2d0a2b&#45;21c7&#45;4311&#45;8e98&#45;912102748d41 -->\n",
       "<g id=\"edge5\" class=\"edge\">\n",
       "<title>f298dddf&#45;72e3&#45;48b2&#45;bad1&#45;7080bdab593f&#45;&gt;de2d0a2b&#45;21c7&#45;4311&#45;8e98&#45;912102748d41</title>\n",
       "<path fill=\"none\" stroke=\"black\" d=\"M364.17,-180.91C354.63,-171.28 343.53,-160.09 333.34,-149.81\"/>\n",
       "<polygon fill=\"black\" stroke=\"black\" points=\"335.64,-147.17 326.12,-142.53 330.67,-152.09 335.64,-147.17\"/>\n",
       "</g>\n",
       "<!-- a650fb94&#45;0356&#45;4a44&#45;8c51&#45;53b85dde4109 -->\n",
       "<g id=\"node7\" class=\"node\">\n",
       "<title>a650fb94&#45;0356&#45;4a44&#45;8c51&#45;53b85dde4109</title>\n",
       "<ellipse fill=\"none\" stroke=\"black\" cx=\"475.41\" cy=\"-116.61\" rx=\"73.58\" ry=\"26.74\"/>\n",
       "<text text-anchor=\"middle\" x=\"475.41\" y=\"-120.41\" font-family=\"Times-Roman\" font-size=\"14.00\">TextDocument</text>\n",
       "<text text-anchor=\"middle\" x=\"475.41\" y=\"-105.41\" font-family=\"Times-Roman\" font-size=\"14.00\">b85dde4109</text>\n",
       "</g>\n",
       "<!-- f298dddf&#45;72e3&#45;48b2&#45;bad1&#45;7080bdab593f&#45;&gt;a650fb94&#45;0356&#45;4a44&#45;8c51&#45;53b85dde4109 -->\n",
       "<g id=\"edge6\" class=\"edge\">\n",
       "<title>f298dddf&#45;72e3&#45;48b2&#45;bad1&#45;7080bdab593f&#45;&gt;a650fb94&#45;0356&#45;4a44&#45;8c51&#45;53b85dde4109</title>\n",
       "<path fill=\"none\" stroke=\"black\" d=\"M412.64,-180.91C422.27,-171.2 433.48,-159.9 443.74,-149.55\"/>\n",
       "<polygon fill=\"black\" stroke=\"black\" points=\"446.45,-151.79 451,-142.22 441.48,-146.86 446.45,-151.79\"/>\n",
       "</g>\n",
       "<!-- c2c6760e&#45;1288&#45;4ad5&#45;868c&#45;4276d2c3b973 -->\n",
       "<g id=\"node8\" class=\"node\">\n",
       "<title>c2c6760e&#45;1288&#45;4ad5&#45;868c&#45;4276d2c3b973</title>\n",
       "<ellipse fill=\"none\" stroke=\"black\" cx=\"667.41\" cy=\"-116.61\" rx=\"100.32\" ry=\"26.74\"/>\n",
       "<text text-anchor=\"middle\" x=\"667.41\" y=\"-120.41\" font-family=\"Times-Roman\" font-size=\"14.00\">MarkdownDocument</text>\n",
       "<text text-anchor=\"middle\" x=\"667.41\" y=\"-105.41\" font-family=\"Times-Roman\" font-size=\"14.00\">76d2c3b973</text>\n",
       "</g>\n",
       "<!-- 3e42e189&#45;d687&#45;49d5&#45;a41c&#45;b11d4b03bc7d&#45;&gt;c2c6760e&#45;1288&#45;4ad5&#45;868c&#45;4276d2c3b973 -->\n",
       "<g id=\"edge7\" class=\"edge\">\n",
       "<title>3e42e189&#45;d687&#45;49d5&#45;a41c&#45;b11d4b03bc7d&#45;&gt;c2c6760e&#45;1288&#45;4ad5&#45;868c&#45;4276d2c3b973</title>\n",
       "<path fill=\"none\" stroke=\"black\" d=\"M816.32,-185.66C789.68,-173.49 755.14,-157.7 726.03,-144.4\"/>\n",
       "<polygon fill=\"black\" stroke=\"black\" points=\"727.34,-141.15 716.79,-140.18 724.43,-147.52 727.34,-141.15\"/>\n",
       "</g>\n",
       "<!-- 481acc0e&#45;3a32&#45;43d5&#45;890d&#45;02611c21c164 -->\n",
       "<g id=\"node9\" class=\"node\">\n",
       "<title>481acc0e&#45;3a32&#45;43d5&#45;890d&#45;02611c21c164</title>\n",
       "<ellipse fill=\"none\" stroke=\"black\" cx=\"859.41\" cy=\"-116.61\" rx=\"73.58\" ry=\"26.74\"/>\n",
       "<text text-anchor=\"middle\" x=\"859.41\" y=\"-120.41\" font-family=\"Times-Roman\" font-size=\"14.00\">TextDocument</text>\n",
       "<text text-anchor=\"middle\" x=\"859.41\" y=\"-105.41\" font-family=\"Times-Roman\" font-size=\"14.00\">611c21c164</text>\n",
       "</g>\n",
       "<!-- 3e42e189&#45;d687&#45;49d5&#45;a41c&#45;b11d4b03bc7d&#45;&gt;481acc0e&#45;3a32&#45;43d5&#45;890d&#45;02611c21c164 -->\n",
       "<g id=\"edge8\" class=\"edge\">\n",
       "<title>3e42e189&#45;d687&#45;49d5&#45;a41c&#45;b11d4b03bc7d&#45;&gt;481acc0e&#45;3a32&#45;43d5&#45;890d&#45;02611c21c164</title>\n",
       "<path fill=\"none\" stroke=\"black\" d=\"M859.41,-179.03C859.41,-171.06 859.41,-162.17 859.41,-153.68\"/>\n",
       "<polygon fill=\"black\" stroke=\"black\" points=\"862.91,-153.61 859.41,-143.61 855.91,-153.61 862.91,-153.61\"/>\n",
       "</g>\n",
       "<!-- 22836b7f&#45;1d3f&#45;424c&#45;8da2&#45;28d8df10b37b -->\n",
       "<g id=\"node10\" class=\"node\">\n",
       "<title>22836b7f&#45;1d3f&#45;424c&#45;8da2&#45;28d8df10b37b</title>\n",
       "<ellipse fill=\"none\" stroke=\"black\" cx=\"1033.41\" cy=\"-116.61\" rx=\"82.96\" ry=\"26.74\"/>\n",
       "<text text-anchor=\"middle\" x=\"1033.41\" y=\"-120.41\" font-family=\"Times-Roman\" font-size=\"14.00\">ImageDocument</text>\n",
       "<text text-anchor=\"middle\" x=\"1033.41\" y=\"-105.41\" font-family=\"Times-Roman\" font-size=\"14.00\">d8df10b37b</text>\n",
       "</g>\n",
       "<!-- 3e42e189&#45;d687&#45;49d5&#45;a41c&#45;b11d4b03bc7d&#45;&gt;22836b7f&#45;1d3f&#45;424c&#45;8da2&#45;28d8df10b37b -->\n",
       "<g id=\"edge9\" class=\"edge\">\n",
       "<title>3e42e189&#45;d687&#45;49d5&#45;a41c&#45;b11d4b03bc7d&#45;&gt;22836b7f&#45;1d3f&#45;424c&#45;8da2&#45;28d8df10b37b</title>\n",
       "<path fill=\"none\" stroke=\"black\" d=\"M900.2,-184.78C924.29,-172.64 955.02,-157.14 980.9,-144.09\"/>\n",
       "<polygon fill=\"black\" stroke=\"black\" points=\"982.47,-147.21 989.83,-139.59 979.32,-140.96 982.47,-147.21\"/>\n",
       "</g>\n",
       "<!-- d893d6e3&#45;ee43&#45;4404&#45;93da&#45;52c69196aab2 -->\n",
       "<g id=\"node11\" class=\"node\">\n",
       "<title>d893d6e3&#45;ee43&#45;4404&#45;93da&#45;52c69196aab2</title>\n",
       "<ellipse fill=\"none\" stroke=\"black\" cx=\"1234.41\" cy=\"-116.61\" rx=\"100.32\" ry=\"26.74\"/>\n",
       "<text text-anchor=\"middle\" x=\"1234.41\" y=\"-120.41\" font-family=\"Times-Roman\" font-size=\"14.00\">MarkdownDocument</text>\n",
       "<text text-anchor=\"middle\" x=\"1234.41\" y=\"-105.41\" font-family=\"Times-Roman\" font-size=\"14.00\">c69196aab2</text>\n",
       "</g>\n",
       "<!-- d6f5241c&#45;6629&#45;49c8&#45;b254&#45;bff91c687310&#45;&gt;d893d6e3&#45;ee43&#45;4404&#45;93da&#45;52c69196aab2 -->\n",
       "<g id=\"edge10\" class=\"edge\">\n",
       "<title>d6f5241c&#45;6629&#45;49c8&#45;b254&#45;bff91c687310&#45;&gt;d893d6e3&#45;ee43&#45;4404&#45;93da&#45;52c69196aab2</title>\n",
       "<path fill=\"none\" stroke=\"black\" d=\"M1307.35,-181.61C1296.05,-171.7 1282.77,-160.04 1270.65,-149.41\"/>\n",
       "<polygon fill=\"black\" stroke=\"black\" points=\"1272.72,-146.56 1262.89,-142.6 1268.1,-151.83 1272.72,-146.56\"/>\n",
       "</g>\n",
       "<!-- 821d31c9&#45;6117&#45;4a53&#45;81ac&#45;4c2aaea9ae21 -->\n",
       "<g id=\"node12\" class=\"node\">\n",
       "<title>821d31c9&#45;6117&#45;4a53&#45;81ac&#45;4c2aaea9ae21</title>\n",
       "<ellipse fill=\"none\" stroke=\"black\" cx=\"1435.41\" cy=\"-116.61\" rx=\"82.96\" ry=\"26.74\"/>\n",
       "<text text-anchor=\"middle\" x=\"1435.41\" y=\"-120.41\" font-family=\"Times-Roman\" font-size=\"14.00\">ImageDocument</text>\n",
       "<text text-anchor=\"middle\" x=\"1435.41\" y=\"-105.41\" font-family=\"Times-Roman\" font-size=\"14.00\">2aaea9ae21</text>\n",
       "</g>\n",
       "<!-- d6f5241c&#45;6629&#45;49c8&#45;b254&#45;bff91c687310&#45;&gt;821d31c9&#45;6117&#45;4a53&#45;81ac&#45;4c2aaea9ae21 -->\n",
       "<g id=\"edge11\" class=\"edge\">\n",
       "<title>d6f5241c&#45;6629&#45;49c8&#45;b254&#45;bff91c687310&#45;&gt;821d31c9&#45;6117&#45;4a53&#45;81ac&#45;4c2aaea9ae21</title>\n",
       "<path fill=\"none\" stroke=\"black\" d=\"M1361.74,-181.61C1373.45,-171.44 1387.28,-159.42 1399.77,-148.57\"/>\n",
       "<polygon fill=\"black\" stroke=\"black\" points=\"1402.1,-151.18 1407.35,-141.98 1397.51,-145.9 1402.1,-151.18\"/>\n",
       "</g>\n",
       "<!-- cf73b724&#45;2ab5&#45;4244&#45;8b40&#45;9a7a1dac7501 -->\n",
       "<g id=\"node13\" class=\"node\">\n",
       "<title>cf73b724&#45;2ab5&#45;4244&#45;8b40&#45;9a7a1dac7501</title>\n",
       "<ellipse fill=\"none\" stroke=\"black\" cx=\"1609.41\" cy=\"-116.61\" rx=\"73.58\" ry=\"26.74\"/>\n",
       "<text text-anchor=\"middle\" x=\"1609.41\" y=\"-120.41\" font-family=\"Times-Roman\" font-size=\"14.00\">TextDocument</text>\n",
       "<text text-anchor=\"middle\" x=\"1609.41\" y=\"-105.41\" font-family=\"Times-Roman\" font-size=\"14.00\">7a1dac7501</text>\n",
       "</g>\n",
       "<!-- d6f5241c&#45;6629&#45;49c8&#45;b254&#45;bff91c687310&#45;&gt;cf73b724&#45;2ab5&#45;4244&#45;8b40&#45;9a7a1dac7501 -->\n",
       "<g id=\"edge12\" class=\"edge\">\n",
       "<title>d6f5241c&#45;6629&#45;49c8&#45;b254&#45;bff91c687310&#45;&gt;cf73b724&#45;2ab5&#45;4244&#45;8b40&#45;9a7a1dac7501</title>\n",
       "<path fill=\"none\" stroke=\"black\" d=\"M1385.81,-188.95C1430.9,-174.57 1496.65,-153.59 1545.19,-138.1\"/>\n",
       "<polygon fill=\"black\" stroke=\"black\" points=\"1546.5,-141.36 1554.96,-134.98 1544.37,-134.69 1546.5,-141.36\"/>\n",
       "</g>\n",
       "<!-- dd4354f9&#45;afe4&#45;46b8&#45;89cd&#45;51664ff7f46a -->\n",
       "<g id=\"node14\" class=\"node\">\n",
       "<title>dd4354f9&#45;afe4&#45;46b8&#45;89cd&#45;51664ff7f46a</title>\n",
       "<ellipse fill=\"none\" stroke=\"black\" cx=\"667.41\" cy=\"-26.87\" rx=\"100.32\" ry=\"26.74\"/>\n",
       "<text text-anchor=\"middle\" x=\"667.41\" y=\"-30.67\" font-family=\"Times-Roman\" font-size=\"14.00\">MarkdownDocument</text>\n",
       "<text text-anchor=\"middle\" x=\"667.41\" y=\"-15.67\" font-family=\"Times-Roman\" font-size=\"14.00\">664ff7f46a</text>\n",
       "</g>\n",
       "<!-- 21a89868&#45;b97f&#45;424e&#45;99c0&#45;d535707ac7b7&#45;&gt;dd4354f9&#45;afe4&#45;46b8&#45;89cd&#45;51664ff7f46a -->\n",
       "<g id=\"edge13\" class=\"edge\">\n",
       "<title>21a89868&#45;b97f&#45;424e&#45;99c0&#45;d535707ac7b7&#45;&gt;dd4354f9&#45;afe4&#45;46b8&#45;89cd&#45;51664ff7f46a</title>\n",
       "<path fill=\"none\" stroke=\"black\" d=\"M171.73,-97.62C184.24,-94.77 197.17,-92.01 209.41,-89.74 331,-67.16 472.2,-49.34 565.32,-38.73\"/>\n",
       "<polygon fill=\"black\" stroke=\"black\" points=\"565.77,-42.21 575.31,-37.6 564.98,-35.25 565.77,-42.21\"/>\n",
       "</g>\n",
       "<!-- c2c6760e&#45;1288&#45;4ad5&#45;868c&#45;4276d2c3b973&#45;&gt;dd4354f9&#45;afe4&#45;46b8&#45;89cd&#45;51664ff7f46a -->\n",
       "<g id=\"edge14\" class=\"edge\">\n",
       "<title>c2c6760e&#45;1288&#45;4ad5&#45;868c&#45;4276d2c3b973&#45;&gt;dd4354f9&#45;afe4&#45;46b8&#45;89cd&#45;51664ff7f46a</title>\n",
       "<path fill=\"none\" stroke=\"black\" d=\"M667.41,-89.29C667.41,-81.32 667.41,-72.43 667.41,-63.94\"/>\n",
       "<polygon fill=\"black\" stroke=\"black\" points=\"670.91,-63.87 667.41,-53.87 663.91,-63.87 670.91,-63.87\"/>\n",
       "</g>\n",
       "<!-- d893d6e3&#45;ee43&#45;4404&#45;93da&#45;52c69196aab2&#45;&gt;dd4354f9&#45;afe4&#45;46b8&#45;89cd&#45;51664ff7f46a -->\n",
       "<g id=\"edge15\" class=\"edge\">\n",
       "<title>d893d6e3&#45;ee43&#45;4404&#45;93da&#45;52c69196aab2&#45;&gt;dd4354f9&#45;afe4&#45;46b8&#45;89cd&#45;51664ff7f46a</title>\n",
       "<path fill=\"none\" stroke=\"black\" d=\"M1163.09,-97.62C1150.58,-94.77 1137.65,-92.01 1125.41,-89.74 1003.82,-67.16 862.62,-49.34 769.49,-38.73\"/>\n",
       "<polygon fill=\"black\" stroke=\"black\" points=\"769.84,-35.25 759.51,-37.6 769.05,-42.21 769.84,-35.25\"/>\n",
       "</g>\n",
       "</g>\n",
       "</svg>\n"
      ],
      "text/plain": [
       "<graphviz.sources.Source at 0x7f1fbf43e880>"
      ]
     },
     "execution_count": 13,
     "metadata": {},
     "output_type": "execute_result"
    }
   ],
   "source": [
    "# Define Pipeline\n",
    "pipeline = Pipeline(transformers=[\n",
    "    PDF2Pages(),\n",
    "    Page2Markdown(to='markdowns/pag_{metadata[page]}.txt'),\n",
    "    CombineMarkdowns()\n",
    "])\n",
    "\n",
    "# Run and visualize it!\n",
    "pdf_doc = PDFDocument(path=\"document.pdf\")\n",
    "markdown_doc = pipeline.run(input=pdf_doc)\n",
    "plot_graph(pipeline.get_traces())"
   ]
  },
  {
   "cell_type": "code",
   "execution_count": 17,
   "metadata": {},
   "outputs": [
    {
     "name": "stdout",
     "output_type": "stream",
     "text": [
      "## Page 1\n",
      "\n",
      " [image](images/pag_1.jpg)\n",
      "\n",
      " Text from page 1\n",
      "## Page 2\n",
      "\n",
      " [image](images/pag_2.jpg)\n",
      "\n",
      " Text from page 2\n",
      "## Page 3\n",
      "\n",
      " [image](images/pag_3.jpg)\n",
      "\n",
      " Text from page 3\n",
      "\n"
     ]
    }
   ],
   "source": [
    "print(markdown_doc.data)"
   ]
  },
  {
   "cell_type": "markdown",
   "metadata": {},
   "source": [
    "## Conclusions\n",
    "\n",
    "As you can see, `document-transformer` enables the definition of complex document structures where Documents can contain other Documents as attributes:\n",
    "\n",
    "```python\n",
    "class ContentPage(Document):\n",
    "    \"\"\"Document class to store the content of a page\"\"\"\n",
    "    image: ImageDocument\n",
    "    text: TextDocument\n",
    "```\n",
    "\n",
    "This approach simplifies the management of hierarchical document relationships, allowing for more intuitive and flexible document handling within the pipeline.\n",
    "\n",
    "With this structure, transformations and operations on documents become easier to implement, making it an effective tool for managing intricate document workflows."
   ]
  }
 ],
 "metadata": {
  "kernelspec": {
   "display_name": "Python 3",
   "language": "python",
   "name": "python3"
  },
  "language_info": {
   "codemirror_mode": {
    "name": "ipython",
    "version": 3
   },
   "file_extension": ".py",
   "mimetype": "text/x-python",
   "name": "python",
   "nbconvert_exporter": "python",
   "pygments_lexer": "ipython3",
   "version": "3.9.16"
  }
 },
 "nbformat": 4,
 "nbformat_minor": 2
}
