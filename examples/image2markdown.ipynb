{
 "cells": [
  {
   "cell_type": "markdown",
   "metadata": {},
   "source": [
    "## Convirtiendo un pdf en imágenes"
   ]
  },
  {
   "cell_type": "code",
   "execution_count": null,
   "metadata": {},
   "outputs": [
    {
     "ename": "",
     "evalue": "",
     "output_type": "error",
     "traceback": [
      "\u001b[1;31mLa ejecución de celdas con '/usr/bin/python3' requiere el paquete ipykernel.\n",
      "\u001b[1;31mEjecute el siguiente comando para instalar 'ipykernel' en el entorno de Python. comando \n",
      "\u001b[1;31m: '/usr/bin/python3 -m pip install ipykernel -U --user --force-reinstall'"
     ]
    }
   ],
   "source": [
    "from document_transformer import Document\n",
    "\n",
    "class PDFDocument(Document):\n",
    "    \"\"\"Custom class to PDF Documents\"\"\"\n",
    "\n",
    "class ImageDocument(Document):\n",
    "    \"\"\"Custom class to Image Documents\"\"\"\n",
    "    def saver(self, path):\n",
    "        self.data.save(path)\n",
    "        return self"
   ]
  },
  {
   "cell_type": "code",
   "execution_count": null,
   "metadata": {},
   "outputs": [],
   "source": [
    "#!pip install pdf2image"
   ]
  },
  {
   "cell_type": "code",
   "execution_count": null,
   "metadata": {},
   "outputs": [],
   "source": [
    "from document_transformer import DocumentTransformer\n",
    "import pdf2image  # install: pip install pdf2image\n",
    "from typing import List\n",
    "from pathlib import Path\n",
    "\n",
    "class PDF2Images(DocumentTransformer):\n",
    "    input: PDFDocument = None\n",
    "    output: List[ImageDocument] = []\n",
    "\n",
    "    def transformer(self) -> List[ImageDocument]:\n",
    "        \"\"\"Split the PDF document into pages\"\"\"\n",
    "        images = pdf2image.convert_from_path(self.input.path)\n",
    "        return [\n",
    "            ImageDocument(\n",
    "                metadata={'pdf_path': Path(self.input.path).name, 'page': i+1, 'size': image.size},\n",
    "                data=image,\n",
    "            )\n",
    "            for i, image in enumerate(images)\n",
    "        ]"
   ]
  },
  {
   "cell_type": "code",
   "execution_count": null,
   "metadata": {},
   "outputs": [],
   "source": [
    "pdf_doc = PDFDocument(path=\"document.pdf\")\n",
    "images = PDF2Images(input=pdf_doc).run()\n",
    "\n",
    "for image in images:\n",
    "    image.save(path=f'images/pag_{image.metadata[\"page\"]}.jpg')\n",
    "    print(f\"Imagen: {image.id}\")\n",
    "    print(f\"Parents: {image.parents}\")\n",
    "    print(f\"Metadata: {image.metadata}\")"
   ]
  },
  {
   "cell_type": "code",
   "execution_count": null,
   "metadata": {},
   "outputs": [],
   "source": [
    "from document_transformer import Pipeline, plot_graph\n",
    "\n",
    "# Define Pipeline, add more transformers as you need\n",
    "pipeline = Pipeline(transformers=[\n",
    "    PDF2Images(to=\"images/pag_{metadata[page]}.jpg\"),\n",
    "    # Images2Markdown(to=\"images/pag_{metadata[page]}.md\")),\n",
    "    # ...\n",
    "])\n",
    "\n",
    "# Define input and get output\n",
    "pdf_doc = PDFDocument(path=\"document.pdf\")\n",
    "images = pipeline.run(input=pdf_doc)\n",
    "\n",
    "# See transfomer plot graph\n",
    "plot_graph(pipeline.get_traces())"
   ]
  }
 ],
 "metadata": {
  "kernelspec": {
   "display_name": "Python 3",
   "language": "python",
   "name": "python3"
  },
  "language_info": {
   "name": "python",
   "version": "3.9.16"
  }
 },
 "nbformat": 4,
 "nbformat_minor": 2
}
